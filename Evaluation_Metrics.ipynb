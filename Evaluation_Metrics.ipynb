{
  "cells": [
    {
      "cell_type": "markdown",
      "metadata": {
        "id": "iTAe1dYz8C4D"
      },
      "source": [
        "# Evaluation Metrics & Experimental Process"
      ]
    },
    {
      "cell_type": "markdown",
      "metadata": {
        "id": "9B-Jx1028C4E"
      },
      "source": [
        "In this step we will implement the main metrics used to evaluate recommender systems.\n",
        "We also will realize specific analyzes about the RS implemented in the last classes.\n",
        "This kind of experimentation is similar to what is expected from you in the final project.\n",
        "For this reason, you must do:\n",
        "\n",
        "- Read the train and test files\n",
        "- Implement the main evaluation metrics\n",
        "- Plot graphics to analyze the RSs' behavior\n",
        "- Answer few questions about them"
      ]
    },
    {
      "cell_type": "code",
      "execution_count": 2,
      "metadata": {
        "colab": {
          "base_uri": "https://localhost:8080/",
          "height": 140
        },
        "id": "WrTJV58c8C4E",
        "outputId": "95939f2e-c9d9-4814-97c0-de883b96f97d"
      },
      "outputs": [
        {
          "output_type": "display_data",
          "data": {
            "text/plain": [
              "<IPython.core.display.HTML object>"
            ],
            "text/html": [
              "\n",
              "     <input type=\"file\" id=\"files-2bb6d7a7-ca9d-41ef-89aa-7340697a7a50\" name=\"files[]\" multiple disabled\n",
              "        style=\"border:none\" />\n",
              "     <output id=\"result-2bb6d7a7-ca9d-41ef-89aa-7340697a7a50\">\n",
              "      Upload widget is only available when the cell has been executed in the\n",
              "      current browser session. Please rerun this cell to enable.\n",
              "      </output>\n",
              "      <script>// Copyright 2017 Google LLC\n",
              "//\n",
              "// Licensed under the Apache License, Version 2.0 (the \"License\");\n",
              "// you may not use this file except in compliance with the License.\n",
              "// You may obtain a copy of the License at\n",
              "//\n",
              "//      http://www.apache.org/licenses/LICENSE-2.0\n",
              "//\n",
              "// Unless required by applicable law or agreed to in writing, software\n",
              "// distributed under the License is distributed on an \"AS IS\" BASIS,\n",
              "// WITHOUT WARRANTIES OR CONDITIONS OF ANY KIND, either express or implied.\n",
              "// See the License for the specific language governing permissions and\n",
              "// limitations under the License.\n",
              "\n",
              "/**\n",
              " * @fileoverview Helpers for google.colab Python module.\n",
              " */\n",
              "(function(scope) {\n",
              "function span(text, styleAttributes = {}) {\n",
              "  const element = document.createElement('span');\n",
              "  element.textContent = text;\n",
              "  for (const key of Object.keys(styleAttributes)) {\n",
              "    element.style[key] = styleAttributes[key];\n",
              "  }\n",
              "  return element;\n",
              "}\n",
              "\n",
              "// Max number of bytes which will be uploaded at a time.\n",
              "const MAX_PAYLOAD_SIZE = 100 * 1024;\n",
              "\n",
              "function _uploadFiles(inputId, outputId) {\n",
              "  const steps = uploadFilesStep(inputId, outputId);\n",
              "  const outputElement = document.getElementById(outputId);\n",
              "  // Cache steps on the outputElement to make it available for the next call\n",
              "  // to uploadFilesContinue from Python.\n",
              "  outputElement.steps = steps;\n",
              "\n",
              "  return _uploadFilesContinue(outputId);\n",
              "}\n",
              "\n",
              "// This is roughly an async generator (not supported in the browser yet),\n",
              "// where there are multiple asynchronous steps and the Python side is going\n",
              "// to poll for completion of each step.\n",
              "// This uses a Promise to block the python side on completion of each step,\n",
              "// then passes the result of the previous step as the input to the next step.\n",
              "function _uploadFilesContinue(outputId) {\n",
              "  const outputElement = document.getElementById(outputId);\n",
              "  const steps = outputElement.steps;\n",
              "\n",
              "  const next = steps.next(outputElement.lastPromiseValue);\n",
              "  return Promise.resolve(next.value.promise).then((value) => {\n",
              "    // Cache the last promise value to make it available to the next\n",
              "    // step of the generator.\n",
              "    outputElement.lastPromiseValue = value;\n",
              "    return next.value.response;\n",
              "  });\n",
              "}\n",
              "\n",
              "/**\n",
              " * Generator function which is called between each async step of the upload\n",
              " * process.\n",
              " * @param {string} inputId Element ID of the input file picker element.\n",
              " * @param {string} outputId Element ID of the output display.\n",
              " * @return {!Iterable<!Object>} Iterable of next steps.\n",
              " */\n",
              "function* uploadFilesStep(inputId, outputId) {\n",
              "  const inputElement = document.getElementById(inputId);\n",
              "  inputElement.disabled = false;\n",
              "\n",
              "  const outputElement = document.getElementById(outputId);\n",
              "  outputElement.innerHTML = '';\n",
              "\n",
              "  const pickedPromise = new Promise((resolve) => {\n",
              "    inputElement.addEventListener('change', (e) => {\n",
              "      resolve(e.target.files);\n",
              "    });\n",
              "  });\n",
              "\n",
              "  const cancel = document.createElement('button');\n",
              "  inputElement.parentElement.appendChild(cancel);\n",
              "  cancel.textContent = 'Cancel upload';\n",
              "  const cancelPromise = new Promise((resolve) => {\n",
              "    cancel.onclick = () => {\n",
              "      resolve(null);\n",
              "    };\n",
              "  });\n",
              "\n",
              "  // Wait for the user to pick the files.\n",
              "  const files = yield {\n",
              "    promise: Promise.race([pickedPromise, cancelPromise]),\n",
              "    response: {\n",
              "      action: 'starting',\n",
              "    }\n",
              "  };\n",
              "\n",
              "  cancel.remove();\n",
              "\n",
              "  // Disable the input element since further picks are not allowed.\n",
              "  inputElement.disabled = true;\n",
              "\n",
              "  if (!files) {\n",
              "    return {\n",
              "      response: {\n",
              "        action: 'complete',\n",
              "      }\n",
              "    };\n",
              "  }\n",
              "\n",
              "  for (const file of files) {\n",
              "    const li = document.createElement('li');\n",
              "    li.append(span(file.name, {fontWeight: 'bold'}));\n",
              "    li.append(span(\n",
              "        `(${file.type || 'n/a'}) - ${file.size} bytes, ` +\n",
              "        `last modified: ${\n",
              "            file.lastModifiedDate ? file.lastModifiedDate.toLocaleDateString() :\n",
              "                                    'n/a'} - `));\n",
              "    const percent = span('0% done');\n",
              "    li.appendChild(percent);\n",
              "\n",
              "    outputElement.appendChild(li);\n",
              "\n",
              "    const fileDataPromise = new Promise((resolve) => {\n",
              "      const reader = new FileReader();\n",
              "      reader.onload = (e) => {\n",
              "        resolve(e.target.result);\n",
              "      };\n",
              "      reader.readAsArrayBuffer(file);\n",
              "    });\n",
              "    // Wait for the data to be ready.\n",
              "    let fileData = yield {\n",
              "      promise: fileDataPromise,\n",
              "      response: {\n",
              "        action: 'continue',\n",
              "      }\n",
              "    };\n",
              "\n",
              "    // Use a chunked sending to avoid message size limits. See b/62115660.\n",
              "    let position = 0;\n",
              "    do {\n",
              "      const length = Math.min(fileData.byteLength - position, MAX_PAYLOAD_SIZE);\n",
              "      const chunk = new Uint8Array(fileData, position, length);\n",
              "      position += length;\n",
              "\n",
              "      const base64 = btoa(String.fromCharCode.apply(null, chunk));\n",
              "      yield {\n",
              "        response: {\n",
              "          action: 'append',\n",
              "          file: file.name,\n",
              "          data: base64,\n",
              "        },\n",
              "      };\n",
              "\n",
              "      let percentDone = fileData.byteLength === 0 ?\n",
              "          100 :\n",
              "          Math.round((position / fileData.byteLength) * 100);\n",
              "      percent.textContent = `${percentDone}% done`;\n",
              "\n",
              "    } while (position < fileData.byteLength);\n",
              "  }\n",
              "\n",
              "  // All done.\n",
              "  yield {\n",
              "    response: {\n",
              "      action: 'complete',\n",
              "    }\n",
              "  };\n",
              "}\n",
              "\n",
              "scope.google = scope.google || {};\n",
              "scope.google.colab = scope.google.colab || {};\n",
              "scope.google.colab._files = {\n",
              "  _uploadFiles,\n",
              "  _uploadFilesContinue,\n",
              "};\n",
              "})(self);\n",
              "</script> "
            ]
          },
          "metadata": {}
        },
        {
          "output_type": "stream",
          "name": "stdout",
          "text": [
            "Saving testSet.txt to testSet.txt\n",
            "Saving trainSet.txt to trainSet.txt\n",
            "Saving features-items.txt to features-items.txt\n"
          ]
        }
      ],
      "source": [
        "# import libs\n",
        "import operator\n",
        "import scipy\n",
        "import numpy as np\n",
        "import pandas as pd\n",
        "import matplotlib.pyplot as plt\n",
        "\n",
        "from scipy.sparse import csr_matrix\n",
        "from collections import OrderedDict\n",
        "\n",
        "# useful command\n",
        "from IPython.core.interactiveshell import InteractiveShell\n",
        "InteractiveShell.ast_node_interactivity = \"all\"\n",
        "\n",
        "plt.rcParams.update({'font.size': 14})\n",
        "\n",
        "# Carrega a base de dados.\n",
        "from google.colab import files\n",
        "uploaded = files.upload()"
      ]
    },
    {
      "cell_type": "markdown",
      "metadata": {
        "id": "ELVH31Du8C4E"
      },
      "source": [
        "## Reading train and test files"
      ]
    },
    {
      "cell_type": "markdown",
      "metadata": {
        "id": "EIdEns0q8C4F"
      },
      "source": [
        "You can read this file as you prefer. I propose to read the files by the pandas' library and create the sparse matrix after it."
      ]
    },
    {
      "cell_type": "code",
      "execution_count": 15,
      "metadata": {
        "colab": {
          "base_uri": "https://localhost:8080/",
          "height": 485
        },
        "id": "8jrISNtx8C4F",
        "outputId": "66fb8113-8da8-482a-c435-ddf1f234b90a"
      },
      "outputs": [
        {
          "output_type": "stream",
          "name": "stderr",
          "text": [
            "<ipython-input-15-91a746eb963f>:1: ParserWarning: Falling back to the 'python' engine because the 'c' engine does not support regex separators (separators > 1 char and different from '\\s+' are interpreted as regex); you can avoid this warning by specifying engine='python'.\n",
            "  df_train = pd.read_csv('trainSet.txt', sep='::', names=['userId', 'itemId', 'rating', 'timestamp'])\n",
            "<ipython-input-15-91a746eb963f>:2: ParserWarning: Falling back to the 'python' engine because the 'c' engine does not support regex separators (separators > 1 char and different from '\\s+' are interpreted as regex); you can avoid this warning by specifying engine='python'.\n",
            "  df_test = pd.read_csv('testSet.txt', sep='::', names=['userId', 'itemId', 'rating', 'timestamp'])\n"
          ]
        },
        {
          "output_type": "execute_result",
          "data": {
            "text/plain": [
              "   userId  itemId  rating    timestamp\n",
              "0       1    1193     5.0  978300760.0\n",
              "1       1     661     3.0  978302109.0\n",
              "2       1     914     3.0  978301968.0\n",
              "3       1    3408     4.0  978300275.0\n",
              "4       1    1197     3.0  978302268.0"
            ],
            "text/html": [
              "\n",
              "  <div id=\"df-91be7ce6-cae8-431f-8cd4-020a6b19e785\" class=\"colab-df-container\">\n",
              "    <div>\n",
              "<style scoped>\n",
              "    .dataframe tbody tr th:only-of-type {\n",
              "        vertical-align: middle;\n",
              "    }\n",
              "\n",
              "    .dataframe tbody tr th {\n",
              "        vertical-align: top;\n",
              "    }\n",
              "\n",
              "    .dataframe thead th {\n",
              "        text-align: right;\n",
              "    }\n",
              "</style>\n",
              "<table border=\"1\" class=\"dataframe\">\n",
              "  <thead>\n",
              "    <tr style=\"text-align: right;\">\n",
              "      <th></th>\n",
              "      <th>userId</th>\n",
              "      <th>itemId</th>\n",
              "      <th>rating</th>\n",
              "      <th>timestamp</th>\n",
              "    </tr>\n",
              "  </thead>\n",
              "  <tbody>\n",
              "    <tr>\n",
              "      <th>0</th>\n",
              "      <td>1</td>\n",
              "      <td>1193</td>\n",
              "      <td>5.0</td>\n",
              "      <td>978300760.0</td>\n",
              "    </tr>\n",
              "    <tr>\n",
              "      <th>1</th>\n",
              "      <td>1</td>\n",
              "      <td>661</td>\n",
              "      <td>3.0</td>\n",
              "      <td>978302109.0</td>\n",
              "    </tr>\n",
              "    <tr>\n",
              "      <th>2</th>\n",
              "      <td>1</td>\n",
              "      <td>914</td>\n",
              "      <td>3.0</td>\n",
              "      <td>978301968.0</td>\n",
              "    </tr>\n",
              "    <tr>\n",
              "      <th>3</th>\n",
              "      <td>1</td>\n",
              "      <td>3408</td>\n",
              "      <td>4.0</td>\n",
              "      <td>978300275.0</td>\n",
              "    </tr>\n",
              "    <tr>\n",
              "      <th>4</th>\n",
              "      <td>1</td>\n",
              "      <td>1197</td>\n",
              "      <td>3.0</td>\n",
              "      <td>978302268.0</td>\n",
              "    </tr>\n",
              "  </tbody>\n",
              "</table>\n",
              "</div>\n",
              "    <div class=\"colab-df-buttons\">\n",
              "\n",
              "  <div class=\"colab-df-container\">\n",
              "    <button class=\"colab-df-convert\" onclick=\"convertToInteractive('df-91be7ce6-cae8-431f-8cd4-020a6b19e785')\"\n",
              "            title=\"Convert this dataframe to an interactive table.\"\n",
              "            style=\"display:none;\">\n",
              "\n",
              "  <svg xmlns=\"http://www.w3.org/2000/svg\" height=\"24px\" viewBox=\"0 -960 960 960\">\n",
              "    <path d=\"M120-120v-720h720v720H120Zm60-500h600v-160H180v160Zm220 220h160v-160H400v160Zm0 220h160v-160H400v160ZM180-400h160v-160H180v160Zm440 0h160v-160H620v160ZM180-180h160v-160H180v160Zm440 0h160v-160H620v160Z\"/>\n",
              "  </svg>\n",
              "    </button>\n",
              "\n",
              "  <style>\n",
              "    .colab-df-container {\n",
              "      display:flex;\n",
              "      gap: 12px;\n",
              "    }\n",
              "\n",
              "    .colab-df-convert {\n",
              "      background-color: #E8F0FE;\n",
              "      border: none;\n",
              "      border-radius: 50%;\n",
              "      cursor: pointer;\n",
              "      display: none;\n",
              "      fill: #1967D2;\n",
              "      height: 32px;\n",
              "      padding: 0 0 0 0;\n",
              "      width: 32px;\n",
              "    }\n",
              "\n",
              "    .colab-df-convert:hover {\n",
              "      background-color: #E2EBFA;\n",
              "      box-shadow: 0px 1px 2px rgba(60, 64, 67, 0.3), 0px 1px 3px 1px rgba(60, 64, 67, 0.15);\n",
              "      fill: #174EA6;\n",
              "    }\n",
              "\n",
              "    .colab-df-buttons div {\n",
              "      margin-bottom: 4px;\n",
              "    }\n",
              "\n",
              "    [theme=dark] .colab-df-convert {\n",
              "      background-color: #3B4455;\n",
              "      fill: #D2E3FC;\n",
              "    }\n",
              "\n",
              "    [theme=dark] .colab-df-convert:hover {\n",
              "      background-color: #434B5C;\n",
              "      box-shadow: 0px 1px 3px 1px rgba(0, 0, 0, 0.15);\n",
              "      filter: drop-shadow(0px 1px 2px rgba(0, 0, 0, 0.3));\n",
              "      fill: #FFFFFF;\n",
              "    }\n",
              "  </style>\n",
              "\n",
              "    <script>\n",
              "      const buttonEl =\n",
              "        document.querySelector('#df-91be7ce6-cae8-431f-8cd4-020a6b19e785 button.colab-df-convert');\n",
              "      buttonEl.style.display =\n",
              "        google.colab.kernel.accessAllowed ? 'block' : 'none';\n",
              "\n",
              "      async function convertToInteractive(key) {\n",
              "        const element = document.querySelector('#df-91be7ce6-cae8-431f-8cd4-020a6b19e785');\n",
              "        const dataTable =\n",
              "          await google.colab.kernel.invokeFunction('convertToInteractive',\n",
              "                                                    [key], {});\n",
              "        if (!dataTable) return;\n",
              "\n",
              "        const docLinkHtml = 'Like what you see? Visit the ' +\n",
              "          '<a target=\"_blank\" href=https://colab.research.google.com/notebooks/data_table.ipynb>data table notebook</a>'\n",
              "          + ' to learn more about interactive tables.';\n",
              "        element.innerHTML = '';\n",
              "        dataTable['output_type'] = 'display_data';\n",
              "        await google.colab.output.renderOutput(dataTable, element);\n",
              "        const docLink = document.createElement('div');\n",
              "        docLink.innerHTML = docLinkHtml;\n",
              "        element.appendChild(docLink);\n",
              "      }\n",
              "    </script>\n",
              "  </div>\n",
              "\n",
              "\n",
              "<div id=\"df-bbbd200d-b3db-4a19-9d96-48b15fbee3c8\">\n",
              "  <button class=\"colab-df-quickchart\" onclick=\"quickchart('df-bbbd200d-b3db-4a19-9d96-48b15fbee3c8')\"\n",
              "            title=\"Suggest charts\"\n",
              "            style=\"display:none;\">\n",
              "\n",
              "<svg xmlns=\"http://www.w3.org/2000/svg\" height=\"24px\"viewBox=\"0 0 24 24\"\n",
              "     width=\"24px\">\n",
              "    <g>\n",
              "        <path d=\"M19 3H5c-1.1 0-2 .9-2 2v14c0 1.1.9 2 2 2h14c1.1 0 2-.9 2-2V5c0-1.1-.9-2-2-2zM9 17H7v-7h2v7zm4 0h-2V7h2v10zm4 0h-2v-4h2v4z\"/>\n",
              "    </g>\n",
              "</svg>\n",
              "  </button>\n",
              "\n",
              "<style>\n",
              "  .colab-df-quickchart {\n",
              "      --bg-color: #E8F0FE;\n",
              "      --fill-color: #1967D2;\n",
              "      --hover-bg-color: #E2EBFA;\n",
              "      --hover-fill-color: #174EA6;\n",
              "      --disabled-fill-color: #AAA;\n",
              "      --disabled-bg-color: #DDD;\n",
              "  }\n",
              "\n",
              "  [theme=dark] .colab-df-quickchart {\n",
              "      --bg-color: #3B4455;\n",
              "      --fill-color: #D2E3FC;\n",
              "      --hover-bg-color: #434B5C;\n",
              "      --hover-fill-color: #FFFFFF;\n",
              "      --disabled-bg-color: #3B4455;\n",
              "      --disabled-fill-color: #666;\n",
              "  }\n",
              "\n",
              "  .colab-df-quickchart {\n",
              "    background-color: var(--bg-color);\n",
              "    border: none;\n",
              "    border-radius: 50%;\n",
              "    cursor: pointer;\n",
              "    display: none;\n",
              "    fill: var(--fill-color);\n",
              "    height: 32px;\n",
              "    padding: 0;\n",
              "    width: 32px;\n",
              "  }\n",
              "\n",
              "  .colab-df-quickchart:hover {\n",
              "    background-color: var(--hover-bg-color);\n",
              "    box-shadow: 0 1px 2px rgba(60, 64, 67, 0.3), 0 1px 3px 1px rgba(60, 64, 67, 0.15);\n",
              "    fill: var(--button-hover-fill-color);\n",
              "  }\n",
              "\n",
              "  .colab-df-quickchart-complete:disabled,\n",
              "  .colab-df-quickchart-complete:disabled:hover {\n",
              "    background-color: var(--disabled-bg-color);\n",
              "    fill: var(--disabled-fill-color);\n",
              "    box-shadow: none;\n",
              "  }\n",
              "\n",
              "  .colab-df-spinner {\n",
              "    border: 2px solid var(--fill-color);\n",
              "    border-color: transparent;\n",
              "    border-bottom-color: var(--fill-color);\n",
              "    animation:\n",
              "      spin 1s steps(1) infinite;\n",
              "  }\n",
              "\n",
              "  @keyframes spin {\n",
              "    0% {\n",
              "      border-color: transparent;\n",
              "      border-bottom-color: var(--fill-color);\n",
              "      border-left-color: var(--fill-color);\n",
              "    }\n",
              "    20% {\n",
              "      border-color: transparent;\n",
              "      border-left-color: var(--fill-color);\n",
              "      border-top-color: var(--fill-color);\n",
              "    }\n",
              "    30% {\n",
              "      border-color: transparent;\n",
              "      border-left-color: var(--fill-color);\n",
              "      border-top-color: var(--fill-color);\n",
              "      border-right-color: var(--fill-color);\n",
              "    }\n",
              "    40% {\n",
              "      border-color: transparent;\n",
              "      border-right-color: var(--fill-color);\n",
              "      border-top-color: var(--fill-color);\n",
              "    }\n",
              "    60% {\n",
              "      border-color: transparent;\n",
              "      border-right-color: var(--fill-color);\n",
              "    }\n",
              "    80% {\n",
              "      border-color: transparent;\n",
              "      border-right-color: var(--fill-color);\n",
              "      border-bottom-color: var(--fill-color);\n",
              "    }\n",
              "    90% {\n",
              "      border-color: transparent;\n",
              "      border-bottom-color: var(--fill-color);\n",
              "    }\n",
              "  }\n",
              "</style>\n",
              "\n",
              "  <script>\n",
              "    async function quickchart(key) {\n",
              "      const quickchartButtonEl =\n",
              "        document.querySelector('#' + key + ' button');\n",
              "      quickchartButtonEl.disabled = true;  // To prevent multiple clicks.\n",
              "      quickchartButtonEl.classList.add('colab-df-spinner');\n",
              "      try {\n",
              "        const charts = await google.colab.kernel.invokeFunction(\n",
              "            'suggestCharts', [key], {});\n",
              "      } catch (error) {\n",
              "        console.error('Error during call to suggestCharts:', error);\n",
              "      }\n",
              "      quickchartButtonEl.classList.remove('colab-df-spinner');\n",
              "      quickchartButtonEl.classList.add('colab-df-quickchart-complete');\n",
              "    }\n",
              "    (() => {\n",
              "      let quickchartButtonEl =\n",
              "        document.querySelector('#df-bbbd200d-b3db-4a19-9d96-48b15fbee3c8 button');\n",
              "      quickchartButtonEl.style.display =\n",
              "        google.colab.kernel.accessAllowed ? 'block' : 'none';\n",
              "    })();\n",
              "  </script>\n",
              "</div>\n",
              "\n",
              "    </div>\n",
              "  </div>\n"
            ],
            "application/vnd.google.colaboratory.intrinsic+json": {
              "type": "dataframe",
              "variable_name": "df_test"
            }
          },
          "metadata": {},
          "execution_count": 15
        },
        {
          "output_type": "execute_result",
          "data": {
            "text/plain": [
              "   userId  itemId  rating    timestamp\n",
              "0       1    2355     5.0  978824291.0\n",
              "1       1     595     5.0  978824268.0\n",
              "2       1    2687     3.0  978824268.0\n",
              "3       1      48     5.0  978824351.0\n",
              "4       1     745     3.0  978824268.0"
            ],
            "text/html": [
              "\n",
              "  <div id=\"df-ec8582cb-3093-4b74-8b38-9dc7c6425a06\" class=\"colab-df-container\">\n",
              "    <div>\n",
              "<style scoped>\n",
              "    .dataframe tbody tr th:only-of-type {\n",
              "        vertical-align: middle;\n",
              "    }\n",
              "\n",
              "    .dataframe tbody tr th {\n",
              "        vertical-align: top;\n",
              "    }\n",
              "\n",
              "    .dataframe thead th {\n",
              "        text-align: right;\n",
              "    }\n",
              "</style>\n",
              "<table border=\"1\" class=\"dataframe\">\n",
              "  <thead>\n",
              "    <tr style=\"text-align: right;\">\n",
              "      <th></th>\n",
              "      <th>userId</th>\n",
              "      <th>itemId</th>\n",
              "      <th>rating</th>\n",
              "      <th>timestamp</th>\n",
              "    </tr>\n",
              "  </thead>\n",
              "  <tbody>\n",
              "    <tr>\n",
              "      <th>0</th>\n",
              "      <td>1</td>\n",
              "      <td>2355</td>\n",
              "      <td>5.0</td>\n",
              "      <td>978824291.0</td>\n",
              "    </tr>\n",
              "    <tr>\n",
              "      <th>1</th>\n",
              "      <td>1</td>\n",
              "      <td>595</td>\n",
              "      <td>5.0</td>\n",
              "      <td>978824268.0</td>\n",
              "    </tr>\n",
              "    <tr>\n",
              "      <th>2</th>\n",
              "      <td>1</td>\n",
              "      <td>2687</td>\n",
              "      <td>3.0</td>\n",
              "      <td>978824268.0</td>\n",
              "    </tr>\n",
              "    <tr>\n",
              "      <th>3</th>\n",
              "      <td>1</td>\n",
              "      <td>48</td>\n",
              "      <td>5.0</td>\n",
              "      <td>978824351.0</td>\n",
              "    </tr>\n",
              "    <tr>\n",
              "      <th>4</th>\n",
              "      <td>1</td>\n",
              "      <td>745</td>\n",
              "      <td>3.0</td>\n",
              "      <td>978824268.0</td>\n",
              "    </tr>\n",
              "  </tbody>\n",
              "</table>\n",
              "</div>\n",
              "    <div class=\"colab-df-buttons\">\n",
              "\n",
              "  <div class=\"colab-df-container\">\n",
              "    <button class=\"colab-df-convert\" onclick=\"convertToInteractive('df-ec8582cb-3093-4b74-8b38-9dc7c6425a06')\"\n",
              "            title=\"Convert this dataframe to an interactive table.\"\n",
              "            style=\"display:none;\">\n",
              "\n",
              "  <svg xmlns=\"http://www.w3.org/2000/svg\" height=\"24px\" viewBox=\"0 -960 960 960\">\n",
              "    <path d=\"M120-120v-720h720v720H120Zm60-500h600v-160H180v160Zm220 220h160v-160H400v160Zm0 220h160v-160H400v160ZM180-400h160v-160H180v160Zm440 0h160v-160H620v160ZM180-180h160v-160H180v160Zm440 0h160v-160H620v160Z\"/>\n",
              "  </svg>\n",
              "    </button>\n",
              "\n",
              "  <style>\n",
              "    .colab-df-container {\n",
              "      display:flex;\n",
              "      gap: 12px;\n",
              "    }\n",
              "\n",
              "    .colab-df-convert {\n",
              "      background-color: #E8F0FE;\n",
              "      border: none;\n",
              "      border-radius: 50%;\n",
              "      cursor: pointer;\n",
              "      display: none;\n",
              "      fill: #1967D2;\n",
              "      height: 32px;\n",
              "      padding: 0 0 0 0;\n",
              "      width: 32px;\n",
              "    }\n",
              "\n",
              "    .colab-df-convert:hover {\n",
              "      background-color: #E2EBFA;\n",
              "      box-shadow: 0px 1px 2px rgba(60, 64, 67, 0.3), 0px 1px 3px 1px rgba(60, 64, 67, 0.15);\n",
              "      fill: #174EA6;\n",
              "    }\n",
              "\n",
              "    .colab-df-buttons div {\n",
              "      margin-bottom: 4px;\n",
              "    }\n",
              "\n",
              "    [theme=dark] .colab-df-convert {\n",
              "      background-color: #3B4455;\n",
              "      fill: #D2E3FC;\n",
              "    }\n",
              "\n",
              "    [theme=dark] .colab-df-convert:hover {\n",
              "      background-color: #434B5C;\n",
              "      box-shadow: 0px 1px 3px 1px rgba(0, 0, 0, 0.15);\n",
              "      filter: drop-shadow(0px 1px 2px rgba(0, 0, 0, 0.3));\n",
              "      fill: #FFFFFF;\n",
              "    }\n",
              "  </style>\n",
              "\n",
              "    <script>\n",
              "      const buttonEl =\n",
              "        document.querySelector('#df-ec8582cb-3093-4b74-8b38-9dc7c6425a06 button.colab-df-convert');\n",
              "      buttonEl.style.display =\n",
              "        google.colab.kernel.accessAllowed ? 'block' : 'none';\n",
              "\n",
              "      async function convertToInteractive(key) {\n",
              "        const element = document.querySelector('#df-ec8582cb-3093-4b74-8b38-9dc7c6425a06');\n",
              "        const dataTable =\n",
              "          await google.colab.kernel.invokeFunction('convertToInteractive',\n",
              "                                                    [key], {});\n",
              "        if (!dataTable) return;\n",
              "\n",
              "        const docLinkHtml = 'Like what you see? Visit the ' +\n",
              "          '<a target=\"_blank\" href=https://colab.research.google.com/notebooks/data_table.ipynb>data table notebook</a>'\n",
              "          + ' to learn more about interactive tables.';\n",
              "        element.innerHTML = '';\n",
              "        dataTable['output_type'] = 'display_data';\n",
              "        await google.colab.output.renderOutput(dataTable, element);\n",
              "        const docLink = document.createElement('div');\n",
              "        docLink.innerHTML = docLinkHtml;\n",
              "        element.appendChild(docLink);\n",
              "      }\n",
              "    </script>\n",
              "  </div>\n",
              "\n",
              "\n",
              "<div id=\"df-12df0044-98b5-4a48-9fdf-ca6fcb9b86a5\">\n",
              "  <button class=\"colab-df-quickchart\" onclick=\"quickchart('df-12df0044-98b5-4a48-9fdf-ca6fcb9b86a5')\"\n",
              "            title=\"Suggest charts\"\n",
              "            style=\"display:none;\">\n",
              "\n",
              "<svg xmlns=\"http://www.w3.org/2000/svg\" height=\"24px\"viewBox=\"0 0 24 24\"\n",
              "     width=\"24px\">\n",
              "    <g>\n",
              "        <path d=\"M19 3H5c-1.1 0-2 .9-2 2v14c0 1.1.9 2 2 2h14c1.1 0 2-.9 2-2V5c0-1.1-.9-2-2-2zM9 17H7v-7h2v7zm4 0h-2V7h2v10zm4 0h-2v-4h2v4z\"/>\n",
              "    </g>\n",
              "</svg>\n",
              "  </button>\n",
              "\n",
              "<style>\n",
              "  .colab-df-quickchart {\n",
              "      --bg-color: #E8F0FE;\n",
              "      --fill-color: #1967D2;\n",
              "      --hover-bg-color: #E2EBFA;\n",
              "      --hover-fill-color: #174EA6;\n",
              "      --disabled-fill-color: #AAA;\n",
              "      --disabled-bg-color: #DDD;\n",
              "  }\n",
              "\n",
              "  [theme=dark] .colab-df-quickchart {\n",
              "      --bg-color: #3B4455;\n",
              "      --fill-color: #D2E3FC;\n",
              "      --hover-bg-color: #434B5C;\n",
              "      --hover-fill-color: #FFFFFF;\n",
              "      --disabled-bg-color: #3B4455;\n",
              "      --disabled-fill-color: #666;\n",
              "  }\n",
              "\n",
              "  .colab-df-quickchart {\n",
              "    background-color: var(--bg-color);\n",
              "    border: none;\n",
              "    border-radius: 50%;\n",
              "    cursor: pointer;\n",
              "    display: none;\n",
              "    fill: var(--fill-color);\n",
              "    height: 32px;\n",
              "    padding: 0;\n",
              "    width: 32px;\n",
              "  }\n",
              "\n",
              "  .colab-df-quickchart:hover {\n",
              "    background-color: var(--hover-bg-color);\n",
              "    box-shadow: 0 1px 2px rgba(60, 64, 67, 0.3), 0 1px 3px 1px rgba(60, 64, 67, 0.15);\n",
              "    fill: var(--button-hover-fill-color);\n",
              "  }\n",
              "\n",
              "  .colab-df-quickchart-complete:disabled,\n",
              "  .colab-df-quickchart-complete:disabled:hover {\n",
              "    background-color: var(--disabled-bg-color);\n",
              "    fill: var(--disabled-fill-color);\n",
              "    box-shadow: none;\n",
              "  }\n",
              "\n",
              "  .colab-df-spinner {\n",
              "    border: 2px solid var(--fill-color);\n",
              "    border-color: transparent;\n",
              "    border-bottom-color: var(--fill-color);\n",
              "    animation:\n",
              "      spin 1s steps(1) infinite;\n",
              "  }\n",
              "\n",
              "  @keyframes spin {\n",
              "    0% {\n",
              "      border-color: transparent;\n",
              "      border-bottom-color: var(--fill-color);\n",
              "      border-left-color: var(--fill-color);\n",
              "    }\n",
              "    20% {\n",
              "      border-color: transparent;\n",
              "      border-left-color: var(--fill-color);\n",
              "      border-top-color: var(--fill-color);\n",
              "    }\n",
              "    30% {\n",
              "      border-color: transparent;\n",
              "      border-left-color: var(--fill-color);\n",
              "      border-top-color: var(--fill-color);\n",
              "      border-right-color: var(--fill-color);\n",
              "    }\n",
              "    40% {\n",
              "      border-color: transparent;\n",
              "      border-right-color: var(--fill-color);\n",
              "      border-top-color: var(--fill-color);\n",
              "    }\n",
              "    60% {\n",
              "      border-color: transparent;\n",
              "      border-right-color: var(--fill-color);\n",
              "    }\n",
              "    80% {\n",
              "      border-color: transparent;\n",
              "      border-right-color: var(--fill-color);\n",
              "      border-bottom-color: var(--fill-color);\n",
              "    }\n",
              "    90% {\n",
              "      border-color: transparent;\n",
              "      border-bottom-color: var(--fill-color);\n",
              "    }\n",
              "  }\n",
              "</style>\n",
              "\n",
              "  <script>\n",
              "    async function quickchart(key) {\n",
              "      const quickchartButtonEl =\n",
              "        document.querySelector('#' + key + ' button');\n",
              "      quickchartButtonEl.disabled = true;  // To prevent multiple clicks.\n",
              "      quickchartButtonEl.classList.add('colab-df-spinner');\n",
              "      try {\n",
              "        const charts = await google.colab.kernel.invokeFunction(\n",
              "            'suggestCharts', [key], {});\n",
              "      } catch (error) {\n",
              "        console.error('Error during call to suggestCharts:', error);\n",
              "      }\n",
              "      quickchartButtonEl.classList.remove('colab-df-spinner');\n",
              "      quickchartButtonEl.classList.add('colab-df-quickchart-complete');\n",
              "    }\n",
              "    (() => {\n",
              "      let quickchartButtonEl =\n",
              "        document.querySelector('#df-12df0044-98b5-4a48-9fdf-ca6fcb9b86a5 button');\n",
              "      quickchartButtonEl.style.display =\n",
              "        google.colab.kernel.accessAllowed ? 'block' : 'none';\n",
              "    })();\n",
              "  </script>\n",
              "</div>\n",
              "\n",
              "    </div>\n",
              "  </div>\n"
            ],
            "application/vnd.google.colaboratory.intrinsic+json": {
              "type": "dataframe",
              "variable_name": "df_test"
            }
          },
          "metadata": {},
          "execution_count": 15
        }
      ],
      "source": [
        "df_train = pd.read_csv('trainSet.txt', sep='::', names=['userId', 'itemId', 'rating', 'timestamp'])\n",
        "df_test = pd.read_csv('testSet.txt', sep='::', names=['userId', 'itemId', 'rating', 'timestamp'])\n",
        "\n",
        "df_train.head()\n",
        "df_test.head()"
      ]
    },
    {
      "cell_type": "markdown",
      "metadata": {
        "id": "NQZdzbf38C4F"
      },
      "source": [
        "## Creating Sparse Matrix for these sets"
      ]
    },
    {
      "cell_type": "markdown",
      "metadata": {
        "id": "uIVP7Irg8C4F"
      },
      "source": [
        "I propose to use the csr_matrix from scipy."
      ]
    },
    {
      "cell_type": "code",
      "execution_count": 16,
      "metadata": {
        "id": "vaYQytSU8C4F"
      },
      "outputs": [],
      "source": [
        "# Select users, items and ratings logs (i.e., all information from each column)\n",
        "users = df_train['userId']\n",
        "items = df_train['itemId']\n",
        "ratings = df_train['rating']"
      ]
    },
    {
      "cell_type": "code",
      "execution_count": 17,
      "metadata": {
        "id": "0-sucDdN8C4F"
      },
      "outputs": [],
      "source": [
        "# Define the matrix dimensions based on the max index related to users and items\n",
        "nb_users = max(users)\n",
        "nb_items = max(items)"
      ]
    },
    {
      "cell_type": "code",
      "execution_count": 18,
      "metadata": {
        "colab": {
          "base_uri": "https://localhost:8080/"
        },
        "id": "Fi_PZxfi8C4F",
        "outputId": "b2baffae-e835-4cd3-e433-ca8c180c4eb5"
      },
      "outputs": [
        {
          "output_type": "execute_result",
          "data": {
            "text/plain": [
              "(6041, 3953)"
            ]
          },
          "metadata": {},
          "execution_count": 18
        }
      ],
      "source": [
        "# Creating matrix of ratings\n",
        "train_matrix = csr_matrix((ratings, (users, items)), shape=(nb_users+1, nb_items+1))\n",
        "\n",
        "train_matrix.shape"
      ]
    },
    {
      "cell_type": "code",
      "execution_count": 19,
      "metadata": {
        "id": "r-LLW7J_8C4F"
      },
      "outputs": [],
      "source": [
        "# Select users, items and ratings logs from test (i.e., all information from each column)\n",
        "users = df_test['userId']\n",
        "items = df_test['itemId']\n",
        "ratings = df_test['rating']"
      ]
    },
    {
      "cell_type": "code",
      "execution_count": 20,
      "metadata": {
        "colab": {
          "base_uri": "https://localhost:8080/"
        },
        "id": "sXkkNQ5A8C4F",
        "outputId": "a3d7e16e-03b3-446a-9579-3be6502ebb4d"
      },
      "outputs": [
        {
          "output_type": "execute_result",
          "data": {
            "text/plain": [
              "(6041, 3953)"
            ]
          },
          "metadata": {},
          "execution_count": 20
        }
      ],
      "source": [
        "# Creating matrix of ratings\n",
        "test_matrix = csr_matrix((ratings, (users, items)), shape=(nb_users+1, nb_items+1))\n",
        "\n",
        "test_matrix.shape"
      ]
    },
    {
      "cell_type": "markdown",
      "metadata": {
        "id": "XICF28jh8C4G"
      },
      "source": [
        "## Reading the recommendation"
      ]
    },
    {
      "cell_type": "markdown",
      "metadata": {
        "id": "-PrVSNnr8C4G"
      },
      "source": [
        "This function is used to read the recommendations generated by each RS."
      ]
    },
    {
      "cell_type": "code",
      "execution_count": 21,
      "metadata": {
        "id": "9yYWZubn8C4G"
      },
      "outputs": [],
      "source": [
        "def readRecommendation(file_name):\n",
        "\n",
        "    recommendations = {}\n",
        "    file_in = open(file_name, 'r')\n",
        "\n",
        "    # for each line\n",
        "    for row in file_in:\n",
        "        row = row.rstrip()\n",
        "        # extracting userId\n",
        "        values = row.split(\"\\t\")\n",
        "        userId = int(values[0])\n",
        "        recommendations[userId] = []\n",
        "        # extracting items\n",
        "        values[1] = values[1].replace('[','')\n",
        "        values[1] = values[1].replace(']','')\n",
        "        recList = values[1].split(',')\n",
        "        # saving items\n",
        "        for tupla in recList:\n",
        "            v = tupla.split(':')\n",
        "            recommendations[userId].append(int(v[0]))\n",
        "\n",
        "    file_in.close()\n",
        "\n",
        "    return recommendations"
      ]
    },
    {
      "cell_type": "markdown",
      "metadata": {
        "id": "ruEtGpg08C4G"
      },
      "source": [
        "Reading all files saved before."
      ]
    },
    {
      "cell_type": "code",
      "source": [
        "# Carrega a base de dados.\n",
        "from google.colab import files\n",
        "uploaded = files.upload()"
      ],
      "metadata": {
        "colab": {
          "base_uri": "https://localhost:8080/",
          "height": 175
        },
        "id": "nTFPQHYZ-RpL",
        "outputId": "61e0ba7d-c17d-45c6-9fce-263431281306"
      },
      "execution_count": 25,
      "outputs": [
        {
          "output_type": "display_data",
          "data": {
            "text/plain": [
              "<IPython.core.display.HTML object>"
            ],
            "text/html": [
              "\n",
              "     <input type=\"file\" id=\"files-55974bf9-e568-4a15-8a22-a87337be90e4\" name=\"files[]\" multiple disabled\n",
              "        style=\"border:none\" />\n",
              "     <output id=\"result-55974bf9-e568-4a15-8a22-a87337be90e4\">\n",
              "      Upload widget is only available when the cell has been executed in the\n",
              "      current browser session. Please rerun this cell to enable.\n",
              "      </output>\n",
              "      <script>// Copyright 2017 Google LLC\n",
              "//\n",
              "// Licensed under the Apache License, Version 2.0 (the \"License\");\n",
              "// you may not use this file except in compliance with the License.\n",
              "// You may obtain a copy of the License at\n",
              "//\n",
              "//      http://www.apache.org/licenses/LICENSE-2.0\n",
              "//\n",
              "// Unless required by applicable law or agreed to in writing, software\n",
              "// distributed under the License is distributed on an \"AS IS\" BASIS,\n",
              "// WITHOUT WARRANTIES OR CONDITIONS OF ANY KIND, either express or implied.\n",
              "// See the License for the specific language governing permissions and\n",
              "// limitations under the License.\n",
              "\n",
              "/**\n",
              " * @fileoverview Helpers for google.colab Python module.\n",
              " */\n",
              "(function(scope) {\n",
              "function span(text, styleAttributes = {}) {\n",
              "  const element = document.createElement('span');\n",
              "  element.textContent = text;\n",
              "  for (const key of Object.keys(styleAttributes)) {\n",
              "    element.style[key] = styleAttributes[key];\n",
              "  }\n",
              "  return element;\n",
              "}\n",
              "\n",
              "// Max number of bytes which will be uploaded at a time.\n",
              "const MAX_PAYLOAD_SIZE = 100 * 1024;\n",
              "\n",
              "function _uploadFiles(inputId, outputId) {\n",
              "  const steps = uploadFilesStep(inputId, outputId);\n",
              "  const outputElement = document.getElementById(outputId);\n",
              "  // Cache steps on the outputElement to make it available for the next call\n",
              "  // to uploadFilesContinue from Python.\n",
              "  outputElement.steps = steps;\n",
              "\n",
              "  return _uploadFilesContinue(outputId);\n",
              "}\n",
              "\n",
              "// This is roughly an async generator (not supported in the browser yet),\n",
              "// where there are multiple asynchronous steps and the Python side is going\n",
              "// to poll for completion of each step.\n",
              "// This uses a Promise to block the python side on completion of each step,\n",
              "// then passes the result of the previous step as the input to the next step.\n",
              "function _uploadFilesContinue(outputId) {\n",
              "  const outputElement = document.getElementById(outputId);\n",
              "  const steps = outputElement.steps;\n",
              "\n",
              "  const next = steps.next(outputElement.lastPromiseValue);\n",
              "  return Promise.resolve(next.value.promise).then((value) => {\n",
              "    // Cache the last promise value to make it available to the next\n",
              "    // step of the generator.\n",
              "    outputElement.lastPromiseValue = value;\n",
              "    return next.value.response;\n",
              "  });\n",
              "}\n",
              "\n",
              "/**\n",
              " * Generator function which is called between each async step of the upload\n",
              " * process.\n",
              " * @param {string} inputId Element ID of the input file picker element.\n",
              " * @param {string} outputId Element ID of the output display.\n",
              " * @return {!Iterable<!Object>} Iterable of next steps.\n",
              " */\n",
              "function* uploadFilesStep(inputId, outputId) {\n",
              "  const inputElement = document.getElementById(inputId);\n",
              "  inputElement.disabled = false;\n",
              "\n",
              "  const outputElement = document.getElementById(outputId);\n",
              "  outputElement.innerHTML = '';\n",
              "\n",
              "  const pickedPromise = new Promise((resolve) => {\n",
              "    inputElement.addEventListener('change', (e) => {\n",
              "      resolve(e.target.files);\n",
              "    });\n",
              "  });\n",
              "\n",
              "  const cancel = document.createElement('button');\n",
              "  inputElement.parentElement.appendChild(cancel);\n",
              "  cancel.textContent = 'Cancel upload';\n",
              "  const cancelPromise = new Promise((resolve) => {\n",
              "    cancel.onclick = () => {\n",
              "      resolve(null);\n",
              "    };\n",
              "  });\n",
              "\n",
              "  // Wait for the user to pick the files.\n",
              "  const files = yield {\n",
              "    promise: Promise.race([pickedPromise, cancelPromise]),\n",
              "    response: {\n",
              "      action: 'starting',\n",
              "    }\n",
              "  };\n",
              "\n",
              "  cancel.remove();\n",
              "\n",
              "  // Disable the input element since further picks are not allowed.\n",
              "  inputElement.disabled = true;\n",
              "\n",
              "  if (!files) {\n",
              "    return {\n",
              "      response: {\n",
              "        action: 'complete',\n",
              "      }\n",
              "    };\n",
              "  }\n",
              "\n",
              "  for (const file of files) {\n",
              "    const li = document.createElement('li');\n",
              "    li.append(span(file.name, {fontWeight: 'bold'}));\n",
              "    li.append(span(\n",
              "        `(${file.type || 'n/a'}) - ${file.size} bytes, ` +\n",
              "        `last modified: ${\n",
              "            file.lastModifiedDate ? file.lastModifiedDate.toLocaleDateString() :\n",
              "                                    'n/a'} - `));\n",
              "    const percent = span('0% done');\n",
              "    li.appendChild(percent);\n",
              "\n",
              "    outputElement.appendChild(li);\n",
              "\n",
              "    const fileDataPromise = new Promise((resolve) => {\n",
              "      const reader = new FileReader();\n",
              "      reader.onload = (e) => {\n",
              "        resolve(e.target.result);\n",
              "      };\n",
              "      reader.readAsArrayBuffer(file);\n",
              "    });\n",
              "    // Wait for the data to be ready.\n",
              "    let fileData = yield {\n",
              "      promise: fileDataPromise,\n",
              "      response: {\n",
              "        action: 'continue',\n",
              "      }\n",
              "    };\n",
              "\n",
              "    // Use a chunked sending to avoid message size limits. See b/62115660.\n",
              "    let position = 0;\n",
              "    do {\n",
              "      const length = Math.min(fileData.byteLength - position, MAX_PAYLOAD_SIZE);\n",
              "      const chunk = new Uint8Array(fileData, position, length);\n",
              "      position += length;\n",
              "\n",
              "      const base64 = btoa(String.fromCharCode.apply(null, chunk));\n",
              "      yield {\n",
              "        response: {\n",
              "          action: 'append',\n",
              "          file: file.name,\n",
              "          data: base64,\n",
              "        },\n",
              "      };\n",
              "\n",
              "      let percentDone = fileData.byteLength === 0 ?\n",
              "          100 :\n",
              "          Math.round((position / fileData.byteLength) * 100);\n",
              "      percent.textContent = `${percentDone}% done`;\n",
              "\n",
              "    } while (position < fileData.byteLength);\n",
              "  }\n",
              "\n",
              "  // All done.\n",
              "  yield {\n",
              "    response: {\n",
              "      action: 'complete',\n",
              "    }\n",
              "  };\n",
              "}\n",
              "\n",
              "scope.google = scope.google || {};\n",
              "scope.google.colab = scope.google.colab || {};\n",
              "scope.google.colab._files = {\n",
              "  _uploadFiles,\n",
              "  _uploadFilesContinue,\n",
              "};\n",
              "})(self);\n",
              "</script> "
            ]
          },
          "metadata": {}
        },
        {
          "output_type": "stream",
          "name": "stdout",
          "text": [
            "Saving recList_Rocchio.txt to recList_Rocchio.txt\n",
            "Saving recList_PureSVD.txt to recList_PureSVD.txt\n",
            "Saving recList_MostPopular.txt to recList_MostPopular.txt\n",
            "Saving recList_BestRated.txt to recList_BestRated.txt\n"
          ]
        }
      ]
    },
    {
      "cell_type": "code",
      "execution_count": 26,
      "metadata": {
        "id": "7jWHDCgR8C4G"
      },
      "outputs": [],
      "source": [
        "rec_MostPopular = readRecommendation(\"recList_MostPopular.txt\")\n",
        "rec_BestRated = readRecommendation(\"recList_BestRated.txt\")\n",
        "rec_Rocchio = readRecommendation(\"recList_Rocchio.txt\")\n",
        "rec_PureSVD = readRecommendation(\"recList_PureSVD.txt\")"
      ]
    },
    {
      "cell_type": "code",
      "execution_count": 27,
      "metadata": {
        "colab": {
          "base_uri": "https://localhost:8080/"
        },
        "id": "ZtAZxZqQ8C4G",
        "outputId": "1d4b8433-be1f-442f-bd60-fd4f71dfe0cc"
      },
      "outputs": [
        {
          "output_type": "execute_result",
          "data": {
            "text/plain": [
              "[2858, 1196, 1210, 480, 589, 2571, 1198, 593, 1580, 110]"
            ]
          },
          "metadata": {},
          "execution_count": 27
        }
      ],
      "source": [
        "rec_MostPopular[1]"
      ]
    },
    {
      "cell_type": "markdown",
      "metadata": {
        "id": "LQuFlV3s8C4G"
      },
      "source": [
        "## Evaluation Metrics"
      ]
    },
    {
      "cell_type": "markdown",
      "metadata": {
        "id": "nJv-0TQe8C4G"
      },
      "source": [
        "You have to implement:\n",
        "- Hit rate\n",
        "- Precision\n",
        "- Recall\n",
        "- MRR\n",
        "\n",
        "PS: You should define if one item is relevant or not based on the item's rating and the average users' ratings"
      ]
    },
    {
      "cell_type": "code",
      "execution_count": 28,
      "metadata": {
        "id": "Pi8T8voW8C4G"
      },
      "outputs": [],
      "source": [
        "def metric_hitRate(users_targets, test_matrix, recommendation):\n",
        "\n",
        "    hitRate = {}\n",
        "\n",
        "    for u in users_targets:\n",
        "        # items consumed by u in test set\n",
        "        items_consumed = list(np.nonzero(test_matrix[u,:])[1])\n",
        "        # hits represented by intersection\n",
        "        hits = set(recommendation[u]).intersection(set(items_consumed))\n",
        "        # saving\n",
        "        hitRate[u] = len(hits)\n",
        "\n",
        "    return hitRate"
      ]
    },
    {
      "cell_type": "code",
      "execution_count": 29,
      "metadata": {
        "id": "5jUYfwbT8C4G"
      },
      "outputs": [],
      "source": [
        "def metric_precision_recall(users_targets, test_matrix, recommendation):\n",
        "\n",
        "    precision = {}\n",
        "    recall = {}\n",
        "\n",
        "    for u in users_targets:\n",
        "        # items consumed by u in test set\n",
        "        items_consumed = list(np.nonzero(test_matrix[u,:])[1])\n",
        "        # measuring u's average rating\n",
        "        mean_rating = np.sum(test_matrix[u,:])/float(len(items_consumed))\n",
        "        # selecting relevant items for u\n",
        "        relevants = []\n",
        "        for i in items_consumed:\n",
        "            if (float(test_matrix[u,i]) >= mean_rating):\n",
        "                relevants.append(i)\n",
        "        # relevants INT retrieved\n",
        "        inter = set(recommendation[u]).intersection(set(relevants))\n",
        "        # measuring precision\n",
        "        precision[u] = len(inter)/float(len(recommendation[u]))\n",
        "        # measuring recall\n",
        "        recall[u] = len(inter)/float(len(relevants))\n",
        "\n",
        "    return precision, recall"
      ]
    },
    {
      "cell_type": "code",
      "execution_count": 30,
      "metadata": {
        "id": "FnCUFVb28C4G"
      },
      "outputs": [],
      "source": [
        "def metric_reciprocalRank(users_targets, test_matrix, recommendation):\n",
        "\n",
        "    reciprocalRank = {}\n",
        "\n",
        "    for u in users_targets:\n",
        "        # items consumed by u in test set\n",
        "        items_consumed = list(np.nonzero(test_matrix[u,:])[1])\n",
        "        # measuring u's average rating\n",
        "        mean_rating = np.sum(test_matrix[u,:])/float(len(items_consumed))\n",
        "        # selecting relevant items for u\n",
        "        relevants = []\n",
        "        for i in items_consumed:\n",
        "            if (test_matrix[u,i] >= mean_rating):\n",
        "                relevants.append(i)\n",
        "        # measuring RR\n",
        "        reciprocalRank[u] = 0\n",
        "        cont = 1\n",
        "        for i in recommendation[u]:\n",
        "            if (i in relevants):\n",
        "                reciprocalRank[u] = 1/float(cont)\n",
        "                break\n",
        "            else:\n",
        "                cont += 1\n",
        "\n",
        "    return reciprocalRank"
      ]
    },
    {
      "cell_type": "markdown",
      "metadata": {
        "id": "cIknQHjV8C4H"
      },
      "source": [
        "## Analyzing recommendation effectiveness"
      ]
    },
    {
      "cell_type": "code",
      "execution_count": 31,
      "metadata": {
        "id": "zTUnEdil8C4H"
      },
      "outputs": [],
      "source": [
        "users_targets = rec_MostPopular.keys()"
      ]
    },
    {
      "cell_type": "code",
      "execution_count": 32,
      "metadata": {
        "id": "QBuYQq3N8C4H"
      },
      "outputs": [],
      "source": [
        "def statisticInformation(distribution, name):\n",
        "\n",
        "    print(\"RS:\", name)\n",
        "    print(\"\\t- Min:\", np.min(distribution))\n",
        "    print(\"\\t- Max:\", np.max(distribution))\n",
        "    print(\"\\t- Mean:\", np.mean(distribution))\n",
        "    print(\"\\t- Median:\", np.median(distribution))\n",
        "    print(\"\\t- STD:\", np.std(distribution))"
      ]
    },
    {
      "cell_type": "code",
      "execution_count": 33,
      "metadata": {
        "id": "n0VlW-HT8C4H"
      },
      "outputs": [],
      "source": [
        "def plotDistribution(distribution, x_label, y_label, name):\n",
        "\n",
        "    distribution.sort(reverse=True)\n",
        "    plt.plot(distribution, color='blue')\n",
        "    plt.title(name)\n",
        "    plt.ylabel(y_label)\n",
        "    plt.xlabel(x_label)\n",
        "    plt.show()"
      ]
    },
    {
      "cell_type": "markdown",
      "metadata": {
        "id": "tx2ldXNo8C4H"
      },
      "source": [
        "#### Measuring hit-rate and analyzing it."
      ]
    },
    {
      "cell_type": "code",
      "execution_count": 34,
      "metadata": {
        "id": "Hc03H5C78C4H"
      },
      "outputs": [],
      "source": [
        "hitRate_MP = metric_hitRate(users_targets, test_matrix, rec_MostPopular)\n",
        "hitRate_BR = metric_hitRate(users_targets, test_matrix, rec_BestRated)\n",
        "hitRate_Roc = metric_hitRate(users_targets, test_matrix, rec_Rocchio)\n",
        "hitRate_SVD = metric_hitRate(users_targets, test_matrix, rec_PureSVD)"
      ]
    },
    {
      "cell_type": "markdown",
      "metadata": {
        "id": "ClbwacMu8C4H"
      },
      "source": [
        "Analyzing min, max, average, median and std."
      ]
    },
    {
      "cell_type": "code",
      "execution_count": 35,
      "metadata": {
        "colab": {
          "base_uri": "https://localhost:8080/"
        },
        "id": "a1KZa4918C4H",
        "outputId": "c63c15b3-e172-4419-d80c-0a97df2b1ff2"
      },
      "outputs": [
        {
          "output_type": "stream",
          "name": "stdout",
          "text": [
            "RS: Most-Popular\n",
            "\t- Min: 0\n",
            "\t- Max: 10\n",
            "\t- Mean: 1.054139072847682\n",
            "\t- Median: 0.0\n",
            "\t- STD: 1.600253318273547\n",
            "RS: Best-Rated\n",
            "\t- Min: 0\n",
            "\t- Max: 10\n",
            "\t- Mean: 1.0440397350993378\n",
            "\t- Median: 0.0\n",
            "\t- STD: 1.631046338201806\n",
            "RS: Rocchio\n",
            "\t- Min: 0\n",
            "\t- Max: 9\n",
            "\t- Mean: 0.2685430463576159\n",
            "\t- Median: 0.0\n",
            "\t- STD: 0.6718590373194409\n",
            "RS: PureSVD\n",
            "\t- Min: 0\n",
            "\t- Max: 10\n",
            "\t- Mean: 1.2849337748344372\n",
            "\t- Median: 1.0\n",
            "\t- STD: 1.6844943909761534\n"
          ]
        }
      ],
      "source": [
        "statisticInformation(list(hitRate_MP.values()), \"Most-Popular\")\n",
        "statisticInformation(list(hitRate_BR.values()), \"Best-Rated\")\n",
        "statisticInformation(list(hitRate_Roc.values()), \"Rocchio\")\n",
        "statisticInformation(list(hitRate_SVD.values()), \"PureSVD\")"
      ]
    },
    {
      "cell_type": "markdown",
      "metadata": {
        "id": "T1Y23_m58C4H"
      },
      "source": [
        "Plot some of these distributions."
      ]
    },
    {
      "cell_type": "code",
      "execution_count": 36,
      "metadata": {
        "colab": {
          "base_uri": "https://localhost:8080/",
          "height": 955
        },
        "id": "Yy2mSSje8C4H",
        "outputId": "55f765ac-f038-4971-bccb-5fe85c6d5550"
      },
      "outputs": [
        {
          "output_type": "display_data",
          "data": {
            "text/plain": [
              "<Figure size 640x480 with 1 Axes>"
            ],
            "image/png": "[encoded data removed]"
          },
          "metadata": {}
        },
        {
          "output_type": "display_data",
          "data": {
            "text/plain": [
              "<Figure size 640x480 with 1 Axes>"
            ],
            "image/png": "[encoded data removed]"
          },
          "metadata": {}
        }
      ],
      "source": [
        "plotDistribution(list(hitRate_MP.values()), \"Users\", \"Hit Rate\", \"Most Popular\")\n",
        "#plotDistribution(list(hitRate_BR.values()), \"Users\", \"Hit Rate\", \"Best-Rated\")\n",
        "#plotDistribution(list(hitRate_Roc.values()), \"Users\", \"Hit Rate\", \"Rocchio\")\n",
        "plotDistribution(list(hitRate_SVD.values()), \"Users\", \"Hit Rate\", \"PureSVD\")"
      ]
    },
    {
      "cell_type": "markdown",
      "metadata": {
        "id": "VQrl2dO48C4H"
      },
      "source": [
        "#### Measuring precision and recall"
      ]
    },
    {
      "cell_type": "code",
      "execution_count": 37,
      "metadata": {
        "id": "yASFZp6C8C4I"
      },
      "outputs": [],
      "source": [
        "precision_MP, recall_MP = metric_precision_recall(users_targets, test_matrix, rec_MostPopular)\n",
        "precision_BR, recall_BR = metric_precision_recall(users_targets, test_matrix, rec_BestRated)\n",
        "precision_Roc, recall_Roc = metric_precision_recall(users_targets, test_matrix, rec_Rocchio)\n",
        "precision_SVD, recall_SVD = metric_precision_recall(users_targets, test_matrix, rec_PureSVD)"
      ]
    },
    {
      "cell_type": "markdown",
      "metadata": {
        "id": "pqd2dmtP8C4I"
      },
      "source": [
        "**Precision**: Analyzing min, max, average, median and std."
      ]
    },
    {
      "cell_type": "code",
      "execution_count": 38,
      "metadata": {
        "colab": {
          "base_uri": "https://localhost:8080/"
        },
        "id": "tGYpYpYL8C4I",
        "outputId": "6f257ccc-789b-4b03-bca2-f8ed4a8adb8a"
      },
      "outputs": [
        {
          "output_type": "stream",
          "name": "stdout",
          "text": [
            "RS: Most-Popular\n",
            "\t- Min: 0.0\n",
            "\t- Max: 1.0\n",
            "\t- Mean: 0.0783112582781457\n",
            "\t- Median: 0.0\n",
            "\t- STD: 0.13272411686560392\n",
            "RS: Best-Rated\n",
            "\t- Min: 0.0\n",
            "\t- Max: 1.0\n",
            "\t- Mean: 0.07960264900662252\n",
            "\t- Median: 0.0\n",
            "\t- STD: 0.13691676204206008\n",
            "RS: Rocchio\n",
            "\t- Min: 0.0\n",
            "\t- Max: 0.5\n",
            "\t- Mean: 0.014619205298013247\n",
            "\t- Median: 0.0\n",
            "\t- STD: 0.04534475037006396\n",
            "RS: PureSVD\n",
            "\t- Min: 0.0\n",
            "\t- Max: 1.0\n",
            "\t- Mean: 0.09827814569536424\n",
            "\t- Median: 0.0\n",
            "\t- STD: 0.14322566637703013\n"
          ]
        }
      ],
      "source": [
        "statisticInformation(list(precision_MP.values()), \"Most-Popular\")\n",
        "statisticInformation(list(precision_BR.values()), \"Best-Rated\")\n",
        "statisticInformation(list(precision_Roc.values()), \"Rocchio\")\n",
        "statisticInformation(list(precision_SVD.values()), \"PureSVD\")"
      ]
    },
    {
      "cell_type": "markdown",
      "metadata": {
        "id": "yfy9FMCk8C4I"
      },
      "source": [
        "**Recall:** Analyzing min, max, average, median and std."
      ]
    },
    {
      "cell_type": "code",
      "execution_count": 39,
      "metadata": {
        "colab": {
          "base_uri": "https://localhost:8080/"
        },
        "id": "16cqlqGH8C4P",
        "outputId": "cdbba5fd-9a49-4950-81b5-95c6f433e3c5"
      },
      "outputs": [
        {
          "output_type": "stream",
          "name": "stdout",
          "text": [
            "RS: Most-Popular\n",
            "\t- Min: 0.0\n",
            "\t- Max: 1.0\n",
            "\t- Mean: 0.04995044597234478\n",
            "\t- Median: 0.0\n",
            "\t- STD: 0.09871510288985426\n",
            "RS: Best-Rated\n",
            "\t- Min: 0.0\n",
            "\t- Max: 1.0\n",
            "\t- Mean: 0.05081093237477739\n",
            "\t- Median: 0.0\n",
            "\t- STD: 0.10232208900723808\n",
            "RS: Rocchio\n",
            "\t- Min: 0.0\n",
            "\t- Max: 1.0\n",
            "\t- Mean: 0.013143848897088504\n",
            "\t- Median: 0.0\n",
            "\t- STD: 0.05526768364931675\n",
            "RS: PureSVD\n",
            "\t- Min: 0.0\n",
            "\t- Max: 1.0\n",
            "\t- Mean: 0.07907353453517718\n",
            "\t- Median: 0.0\n",
            "\t- STD: 0.1348399727729013\n"
          ]
        }
      ],
      "source": [
        "statisticInformation(list(recall_MP.values()), \"Most-Popular\")\n",
        "statisticInformation(list(recall_BR.values()), \"Best-Rated\")\n",
        "statisticInformation(list(recall_Roc.values()), \"Rocchio\")\n",
        "statisticInformation(list(recall_SVD.values()), \"PureSVD\")"
      ]
    },
    {
      "cell_type": "markdown",
      "metadata": {
        "id": "iSLRkfxO8C4P"
      },
      "source": [
        "### Answer some questions!"
      ]
    },
    {
      "cell_type": "markdown",
      "metadata": {
        "id": "kQAKSWRd8C4P"
      },
      "source": [
        "**Questão 1:** Suponha que você foi contratado para uma empresa de e-commerce para utilizar propor um recomendador que maximize o número de vendas. Ele não está interessado em satisfazer ao cliente, mas apenas em vender. Qual dos recomendadores já implementados você sugere e por quê? Comprove com uma análise sua proposta."
      ]
    },
    {
      "cell_type": "code",
      "execution_count": null,
      "metadata": {
        "id": "lbwJqj-e8C4P"
      },
      "outputs": [],
      "source": [
        "## Hit Rate => PureSVD"
      ]
    },
    {
      "cell_type": "markdown",
      "metadata": {
        "id": "ztp5bOad8C4P"
      },
      "source": [
        "**Questão 2:** Em uma última análise do sistema, foi constatado que a maioria dos usuários gastam muito tempo até comprar um produto (desconsiderando o tempo de compra e escolha). Você consegue imaginar o porquê disso? Como você poderia avaliar se o recomendador está contribuindo para esse problema? Qual dos propostos anteriormente você sugeriria? Mostre a análise realizada."
      ]
    },
    {
      "cell_type": "code",
      "execution_count": null,
      "metadata": {
        "id": "9r7ExsTc8C4P"
      },
      "outputs": [],
      "source": [
        "## MRR => PureSVD"
      ]
    }
  ],
  "metadata": {
    "kernelspec": {
      "display_name": "Python 3",
      "language": "python",
      "name": "python3"
    },
    "language_info": {
      "codemirror_mode": {
        "name": "ipython",
        "version": 3
      },
      "file_extension": ".py",
      "mimetype": "text/x-python",
      "name": "python",
      "nbconvert_exporter": "python",
      "pygments_lexer": "ipython3",
      "version": "3.6.9"
    },
    "colab": {
      "provenance": []
    }
  },
  "nbformat": 4,
  "nbformat_minor": 0
}