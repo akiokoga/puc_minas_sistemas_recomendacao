{
  "cells": [
    {
      "cell_type": "markdown",
      "metadata": {
        "id": "EiMuwwT44h04"
      },
      "source": [
        "# Non-Personalized RS"
      ]
    },
    {
      "cell_type": "markdown",
      "metadata": {
        "id": "8jPkrmA-4h05"
      },
      "source": [
        "In this step we will implement the two main non-personalized Recommender Systems (RS). They are:\n",
        "\n",
        "- Most-Popular: the one that recommends the most popular items\n",
        "- Best-Rated: the one that recommends the items who was rated with higher grades\n",
        "\n",
        "For this reason, you must do:\n",
        "\n",
        "- Read the train file extracted from the dataset\n",
        "- Create a sparse matrix for the ratings file\n",
        "- Implement the Most-Popular and save the items recommended\n",
        "- Implement the Best-Rated and save the items recommended"
      ]
    },
    {
      "cell_type": "code",
      "execution_count": 3,
      "metadata": {
        "colab": {
          "base_uri": "https://localhost:8080/",
          "height": 105
        },
        "id": "E9fXOoyV4h05",
        "outputId": "a09071ec-178f-4c9d-c637-406464e2b265"
      },
      "outputs": [
        {
          "output_type": "display_data",
          "data": {
            "text/plain": [
              "<IPython.core.display.HTML object>"
            ],
            "text/html": [
              "\n",
              "     <input type=\"file\" id=\"files-d9bcc476-f139-4487-8dd6-4a047cea4427\" name=\"files[]\" multiple disabled\n",
              "        style=\"border:none\" />\n",
              "     <output id=\"result-d9bcc476-f139-4487-8dd6-4a047cea4427\">\n",
              "      Upload widget is only available when the cell has been executed in the\n",
              "      current browser session. Please rerun this cell to enable.\n",
              "      </output>\n",
              "      <script>// Copyright 2017 Google LLC\n",
              "//\n",
              "// Licensed under the Apache License, Version 2.0 (the \"License\");\n",
              "// you may not use this file except in compliance with the License.\n",
              "// You may obtain a copy of the License at\n",
              "//\n",
              "//      http://www.apache.org/licenses/LICENSE-2.0\n",
              "//\n",
              "// Unless required by applicable law or agreed to in writing, software\n",
              "// distributed under the License is distributed on an \"AS IS\" BASIS,\n",
              "// WITHOUT WARRANTIES OR CONDITIONS OF ANY KIND, either express or implied.\n",
              "// See the License for the specific language governing permissions and\n",
              "// limitations under the License.\n",
              "\n",
              "/**\n",
              " * @fileoverview Helpers for google.colab Python module.\n",
              " */\n",
              "(function(scope) {\n",
              "function span(text, styleAttributes = {}) {\n",
              "  const element = document.createElement('span');\n",
              "  element.textContent = text;\n",
              "  for (const key of Object.keys(styleAttributes)) {\n",
              "    element.style[key] = styleAttributes[key];\n",
              "  }\n",
              "  return element;\n",
              "}\n",
              "\n",
              "// Max number of bytes which will be uploaded at a time.\n",
              "const MAX_PAYLOAD_SIZE = 100 * 1024;\n",
              "\n",
              "function _uploadFiles(inputId, outputId) {\n",
              "  const steps = uploadFilesStep(inputId, outputId);\n",
              "  const outputElement = document.getElementById(outputId);\n",
              "  // Cache steps on the outputElement to make it available for the next call\n",
              "  // to uploadFilesContinue from Python.\n",
              "  outputElement.steps = steps;\n",
              "\n",
              "  return _uploadFilesContinue(outputId);\n",
              "}\n",
              "\n",
              "// This is roughly an async generator (not supported in the browser yet),\n",
              "// where there are multiple asynchronous steps and the Python side is going\n",
              "// to poll for completion of each step.\n",
              "// This uses a Promise to block the python side on completion of each step,\n",
              "// then passes the result of the previous step as the input to the next step.\n",
              "function _uploadFilesContinue(outputId) {\n",
              "  const outputElement = document.getElementById(outputId);\n",
              "  const steps = outputElement.steps;\n",
              "\n",
              "  const next = steps.next(outputElement.lastPromiseValue);\n",
              "  return Promise.resolve(next.value.promise).then((value) => {\n",
              "    // Cache the last promise value to make it available to the next\n",
              "    // step of the generator.\n",
              "    outputElement.lastPromiseValue = value;\n",
              "    return next.value.response;\n",
              "  });\n",
              "}\n",
              "\n",
              "/**\n",
              " * Generator function which is called between each async step of the upload\n",
              " * process.\n",
              " * @param {string} inputId Element ID of the input file picker element.\n",
              " * @param {string} outputId Element ID of the output display.\n",
              " * @return {!Iterable<!Object>} Iterable of next steps.\n",
              " */\n",
              "function* uploadFilesStep(inputId, outputId) {\n",
              "  const inputElement = document.getElementById(inputId);\n",
              "  inputElement.disabled = false;\n",
              "\n",
              "  const outputElement = document.getElementById(outputId);\n",
              "  outputElement.innerHTML = '';\n",
              "\n",
              "  const pickedPromise = new Promise((resolve) => {\n",
              "    inputElement.addEventListener('change', (e) => {\n",
              "      resolve(e.target.files);\n",
              "    });\n",
              "  });\n",
              "\n",
              "  const cancel = document.createElement('button');\n",
              "  inputElement.parentElement.appendChild(cancel);\n",
              "  cancel.textContent = 'Cancel upload';\n",
              "  const cancelPromise = new Promise((resolve) => {\n",
              "    cancel.onclick = () => {\n",
              "      resolve(null);\n",
              "    };\n",
              "  });\n",
              "\n",
              "  // Wait for the user to pick the files.\n",
              "  const files = yield {\n",
              "    promise: Promise.race([pickedPromise, cancelPromise]),\n",
              "    response: {\n",
              "      action: 'starting',\n",
              "    }\n",
              "  };\n",
              "\n",
              "  cancel.remove();\n",
              "\n",
              "  // Disable the input element since further picks are not allowed.\n",
              "  inputElement.disabled = true;\n",
              "\n",
              "  if (!files) {\n",
              "    return {\n",
              "      response: {\n",
              "        action: 'complete',\n",
              "      }\n",
              "    };\n",
              "  }\n",
              "\n",
              "  for (const file of files) {\n",
              "    const li = document.createElement('li');\n",
              "    li.append(span(file.name, {fontWeight: 'bold'}));\n",
              "    li.append(span(\n",
              "        `(${file.type || 'n/a'}) - ${file.size} bytes, ` +\n",
              "        `last modified: ${\n",
              "            file.lastModifiedDate ? file.lastModifiedDate.toLocaleDateString() :\n",
              "                                    'n/a'} - `));\n",
              "    const percent = span('0% done');\n",
              "    li.appendChild(percent);\n",
              "\n",
              "    outputElement.appendChild(li);\n",
              "\n",
              "    const fileDataPromise = new Promise((resolve) => {\n",
              "      const reader = new FileReader();\n",
              "      reader.onload = (e) => {\n",
              "        resolve(e.target.result);\n",
              "      };\n",
              "      reader.readAsArrayBuffer(file);\n",
              "    });\n",
              "    // Wait for the data to be ready.\n",
              "    let fileData = yield {\n",
              "      promise: fileDataPromise,\n",
              "      response: {\n",
              "        action: 'continue',\n",
              "      }\n",
              "    };\n",
              "\n",
              "    // Use a chunked sending to avoid message size limits. See b/62115660.\n",
              "    let position = 0;\n",
              "    do {\n",
              "      const length = Math.min(fileData.byteLength - position, MAX_PAYLOAD_SIZE);\n",
              "      const chunk = new Uint8Array(fileData, position, length);\n",
              "      position += length;\n",
              "\n",
              "      const base64 = btoa(String.fromCharCode.apply(null, chunk));\n",
              "      yield {\n",
              "        response: {\n",
              "          action: 'append',\n",
              "          file: file.name,\n",
              "          data: base64,\n",
              "        },\n",
              "      };\n",
              "\n",
              "      let percentDone = fileData.byteLength === 0 ?\n",
              "          100 :\n",
              "          Math.round((position / fileData.byteLength) * 100);\n",
              "      percent.textContent = `${percentDone}% done`;\n",
              "\n",
              "    } while (position < fileData.byteLength);\n",
              "  }\n",
              "\n",
              "  // All done.\n",
              "  yield {\n",
              "    response: {\n",
              "      action: 'complete',\n",
              "    }\n",
              "  };\n",
              "}\n",
              "\n",
              "scope.google = scope.google || {};\n",
              "scope.google.colab = scope.google.colab || {};\n",
              "scope.google.colab._files = {\n",
              "  _uploadFiles,\n",
              "  _uploadFilesContinue,\n",
              "};\n",
              "})(self);\n",
              "</script> "
            ]
          },
          "metadata": {}
        },
        {
          "output_type": "stream",
          "name": "stdout",
          "text": [
            "Saving trainSet.txt to trainSet.txt\n",
            "Saving testSet.txt to testSet.txt\n"
          ]
        }
      ],
      "source": [
        "# import libs\n",
        "import operator\n",
        "import numpy as np\n",
        "import pandas as pd\n",
        "import matplotlib.pyplot as plt\n",
        "\n",
        "from scipy.sparse import csr_matrix\n",
        "from collections import OrderedDict\n",
        "\n",
        "# useful command\n",
        "from IPython.core.interactiveshell import InteractiveShell\n",
        "InteractiveShell.ast_node_interactivity = \"all\"\n",
        "\n",
        "plt.rcParams.update({'font.size': 14})\n",
        "\n",
        "# Carrega a base de dados sonar.\n",
        "from google.colab import files\n",
        "uploaded = files.upload()"
      ]
    },
    {
      "cell_type": "markdown",
      "metadata": {
        "id": "8l3TqBmP4h05"
      },
      "source": [
        "## Reading train and test files"
      ]
    },
    {
      "cell_type": "markdown",
      "metadata": {
        "id": "RhkVz1oV4h06"
      },
      "source": [
        "You can read this file as you prefer. I propose to read the files by the pandas' library and create the sparse matrix after it."
      ]
    },
    {
      "cell_type": "code",
      "execution_count": 4,
      "metadata": {
        "colab": {
          "base_uri": "https://localhost:8080/",
          "height": 485
        },
        "id": "36NNM7jh4h06",
        "outputId": "40c9528d-1110-4ba0-c484-6768e88d3488"
      },
      "outputs": [
        {
          "output_type": "stream",
          "name": "stderr",
          "text": [
            "<ipython-input-4-fee11c7ad298>:1: ParserWarning: Falling back to the 'python' engine because the 'c' engine does not support regex separators (separators > 1 char and different from '\\s+' are interpreted as regex); you can avoid this warning by specifying engine='python'.\n",
            "  df_train = pd.read_csv('trainSet.txt', sep = '::', names = ['userId', 'itemId', 'rating', 'timestamp'])\n",
            "<ipython-input-4-fee11c7ad298>:2: ParserWarning: Falling back to the 'python' engine because the 'c' engine does not support regex separators (separators > 1 char and different from '\\s+' are interpreted as regex); you can avoid this warning by specifying engine='python'.\n",
            "  df_test = pd.read_csv('testSet.txt', sep = '::', names = ['userId', 'itemId', 'rating', 'timestamp'])\n"
          ]
        },
        {
          "output_type": "execute_result",
          "data": {
            "text/plain": [
              "   userId  itemId  rating    timestamp\n",
              "0       1    1193     5.0  978300760.0\n",
              "1       1     661     3.0  978302109.0\n",
              "2       1     914     3.0  978301968.0\n",
              "3       1    3408     4.0  978300275.0\n",
              "4       1    1197     3.0  978302268.0"
            ],
            "text/html": [
              "\n",
              "  <div id=\"df-80d1db0a-facb-4317-ac69-98bcf95e3003\" class=\"colab-df-container\">\n",
              "    <div>\n",
              "<style scoped>\n",
              "    .dataframe tbody tr th:only-of-type {\n",
              "        vertical-align: middle;\n",
              "    }\n",
              "\n",
              "    .dataframe tbody tr th {\n",
              "        vertical-align: top;\n",
              "    }\n",
              "\n",
              "    .dataframe thead th {\n",
              "        text-align: right;\n",
              "    }\n",
              "</style>\n",
              "<table border=\"1\" class=\"dataframe\">\n",
              "  <thead>\n",
              "    <tr style=\"text-align: right;\">\n",
              "      <th></th>\n",
              "      <th>userId</th>\n",
              "      <th>itemId</th>\n",
              "      <th>rating</th>\n",
              "      <th>timestamp</th>\n",
              "    </tr>\n",
              "  </thead>\n",
              "  <tbody>\n",
              "    <tr>\n",
              "      <th>0</th>\n",
              "      <td>1</td>\n",
              "      <td>1193</td>\n",
              "      <td>5.0</td>\n",
              "      <td>978300760.0</td>\n",
              "    </tr>\n",
              "    <tr>\n",
              "      <th>1</th>\n",
              "      <td>1</td>\n",
              "      <td>661</td>\n",
              "      <td>3.0</td>\n",
              "      <td>978302109.0</td>\n",
              "    </tr>\n",
              "    <tr>\n",
              "      <th>2</th>\n",
              "      <td>1</td>\n",
              "      <td>914</td>\n",
              "      <td>3.0</td>\n",
              "      <td>978301968.0</td>\n",
              "    </tr>\n",
              "    <tr>\n",
              "      <th>3</th>\n",
              "      <td>1</td>\n",
              "      <td>3408</td>\n",
              "      <td>4.0</td>\n",
              "      <td>978300275.0</td>\n",
              "    </tr>\n",
              "    <tr>\n",
              "      <th>4</th>\n",
              "      <td>1</td>\n",
              "      <td>1197</td>\n",
              "      <td>3.0</td>\n",
              "      <td>978302268.0</td>\n",
              "    </tr>\n",
              "  </tbody>\n",
              "</table>\n",
              "</div>\n",
              "    <div class=\"colab-df-buttons\">\n",
              "\n",
              "  <div class=\"colab-df-container\">\n",
              "    <button class=\"colab-df-convert\" onclick=\"convertToInteractive('df-80d1db0a-facb-4317-ac69-98bcf95e3003')\"\n",
              "            title=\"Convert this dataframe to an interactive table.\"\n",
              "            style=\"display:none;\">\n",
              "\n",
              "  <svg xmlns=\"http://www.w3.org/2000/svg\" height=\"24px\" viewBox=\"0 -960 960 960\">\n",
              "    <path d=\"M120-120v-720h720v720H120Zm60-500h600v-160H180v160Zm220 220h160v-160H400v160Zm0 220h160v-160H400v160ZM180-400h160v-160H180v160Zm440 0h160v-160H620v160ZM180-180h160v-160H180v160Zm440 0h160v-160H620v160Z\"/>\n",
              "  </svg>\n",
              "    </button>\n",
              "\n",
              "  <style>\n",
              "    .colab-df-container {\n",
              "      display:flex;\n",
              "      gap: 12px;\n",
              "    }\n",
              "\n",
              "    .colab-df-convert {\n",
              "      background-color: #E8F0FE;\n",
              "      border: none;\n",
              "      border-radius: 50%;\n",
              "      cursor: pointer;\n",
              "      display: none;\n",
              "      fill: #1967D2;\n",
              "      height: 32px;\n",
              "      padding: 0 0 0 0;\n",
              "      width: 32px;\n",
              "    }\n",
              "\n",
              "    .colab-df-convert:hover {\n",
              "      background-color: #E2EBFA;\n",
              "      box-shadow: 0px 1px 2px rgba(60, 64, 67, 0.3), 0px 1px 3px 1px rgba(60, 64, 67, 0.15);\n",
              "      fill: #174EA6;\n",
              "    }\n",
              "\n",
              "    .colab-df-buttons div {\n",
              "      margin-bottom: 4px;\n",
              "    }\n",
              "\n",
              "    [theme=dark] .colab-df-convert {\n",
              "      background-color: #3B4455;\n",
              "      fill: #D2E3FC;\n",
              "    }\n",
              "\n",
              "    [theme=dark] .colab-df-convert:hover {\n",
              "      background-color: #434B5C;\n",
              "      box-shadow: 0px 1px 3px 1px rgba(0, 0, 0, 0.15);\n",
              "      filter: drop-shadow(0px 1px 2px rgba(0, 0, 0, 0.3));\n",
              "      fill: #FFFFFF;\n",
              "    }\n",
              "  </style>\n",
              "\n",
              "    <script>\n",
              "      const buttonEl =\n",
              "        document.querySelector('#df-80d1db0a-facb-4317-ac69-98bcf95e3003 button.colab-df-convert');\n",
              "      buttonEl.style.display =\n",
              "        google.colab.kernel.accessAllowed ? 'block' : 'none';\n",
              "\n",
              "      async function convertToInteractive(key) {\n",
              "        const element = document.querySelector('#df-80d1db0a-facb-4317-ac69-98bcf95e3003');\n",
              "        const dataTable =\n",
              "          await google.colab.kernel.invokeFunction('convertToInteractive',\n",
              "                                                    [key], {});\n",
              "        if (!dataTable) return;\n",
              "\n",
              "        const docLinkHtml = 'Like what you see? Visit the ' +\n",
              "          '<a target=\"_blank\" href=https://colab.research.google.com/notebooks/data_table.ipynb>data table notebook</a>'\n",
              "          + ' to learn more about interactive tables.';\n",
              "        element.innerHTML = '';\n",
              "        dataTable['output_type'] = 'display_data';\n",
              "        await google.colab.output.renderOutput(dataTable, element);\n",
              "        const docLink = document.createElement('div');\n",
              "        docLink.innerHTML = docLinkHtml;\n",
              "        element.appendChild(docLink);\n",
              "      }\n",
              "    </script>\n",
              "  </div>\n",
              "\n",
              "\n",
              "<div id=\"df-4178bfab-544d-466d-aca8-1a285646701b\">\n",
              "  <button class=\"colab-df-quickchart\" onclick=\"quickchart('df-4178bfab-544d-466d-aca8-1a285646701b')\"\n",
              "            title=\"Suggest charts\"\n",
              "            style=\"display:none;\">\n",
              "\n",
              "<svg xmlns=\"http://www.w3.org/2000/svg\" height=\"24px\"viewBox=\"0 0 24 24\"\n",
              "     width=\"24px\">\n",
              "    <g>\n",
              "        <path d=\"M19 3H5c-1.1 0-2 .9-2 2v14c0 1.1.9 2 2 2h14c1.1 0 2-.9 2-2V5c0-1.1-.9-2-2-2zM9 17H7v-7h2v7zm4 0h-2V7h2v10zm4 0h-2v-4h2v4z\"/>\n",
              "    </g>\n",
              "</svg>\n",
              "  </button>\n",
              "\n",
              "<style>\n",
              "  .colab-df-quickchart {\n",
              "      --bg-color: #E8F0FE;\n",
              "      --fill-color: #1967D2;\n",
              "      --hover-bg-color: #E2EBFA;\n",
              "      --hover-fill-color: #174EA6;\n",
              "      --disabled-fill-color: #AAA;\n",
              "      --disabled-bg-color: #DDD;\n",
              "  }\n",
              "\n",
              "  [theme=dark] .colab-df-quickchart {\n",
              "      --bg-color: #3B4455;\n",
              "      --fill-color: #D2E3FC;\n",
              "      --hover-bg-color: #434B5C;\n",
              "      --hover-fill-color: #FFFFFF;\n",
              "      --disabled-bg-color: #3B4455;\n",
              "      --disabled-fill-color: #666;\n",
              "  }\n",
              "\n",
              "  .colab-df-quickchart {\n",
              "    background-color: var(--bg-color);\n",
              "    border: none;\n",
              "    border-radius: 50%;\n",
              "    cursor: pointer;\n",
              "    display: none;\n",
              "    fill: var(--fill-color);\n",
              "    height: 32px;\n",
              "    padding: 0;\n",
              "    width: 32px;\n",
              "  }\n",
              "\n",
              "  .colab-df-quickchart:hover {\n",
              "    background-color: var(--hover-bg-color);\n",
              "    box-shadow: 0 1px 2px rgba(60, 64, 67, 0.3), 0 1px 3px 1px rgba(60, 64, 67, 0.15);\n",
              "    fill: var(--button-hover-fill-color);\n",
              "  }\n",
              "\n",
              "  .colab-df-quickchart-complete:disabled,\n",
              "  .colab-df-quickchart-complete:disabled:hover {\n",
              "    background-color: var(--disabled-bg-color);\n",
              "    fill: var(--disabled-fill-color);\n",
              "    box-shadow: none;\n",
              "  }\n",
              "\n",
              "  .colab-df-spinner {\n",
              "    border: 2px solid var(--fill-color);\n",
              "    border-color: transparent;\n",
              "    border-bottom-color: var(--fill-color);\n",
              "    animation:\n",
              "      spin 1s steps(1) infinite;\n",
              "  }\n",
              "\n",
              "  @keyframes spin {\n",
              "    0% {\n",
              "      border-color: transparent;\n",
              "      border-bottom-color: var(--fill-color);\n",
              "      border-left-color: var(--fill-color);\n",
              "    }\n",
              "    20% {\n",
              "      border-color: transparent;\n",
              "      border-left-color: var(--fill-color);\n",
              "      border-top-color: var(--fill-color);\n",
              "    }\n",
              "    30% {\n",
              "      border-color: transparent;\n",
              "      border-left-color: var(--fill-color);\n",
              "      border-top-color: var(--fill-color);\n",
              "      border-right-color: var(--fill-color);\n",
              "    }\n",
              "    40% {\n",
              "      border-color: transparent;\n",
              "      border-right-color: var(--fill-color);\n",
              "      border-top-color: var(--fill-color);\n",
              "    }\n",
              "    60% {\n",
              "      border-color: transparent;\n",
              "      border-right-color: var(--fill-color);\n",
              "    }\n",
              "    80% {\n",
              "      border-color: transparent;\n",
              "      border-right-color: var(--fill-color);\n",
              "      border-bottom-color: var(--fill-color);\n",
              "    }\n",
              "    90% {\n",
              "      border-color: transparent;\n",
              "      border-bottom-color: var(--fill-color);\n",
              "    }\n",
              "  }\n",
              "</style>\n",
              "\n",
              "  <script>\n",
              "    async function quickchart(key) {\n",
              "      const quickchartButtonEl =\n",
              "        document.querySelector('#' + key + ' button');\n",
              "      quickchartButtonEl.disabled = true;  // To prevent multiple clicks.\n",
              "      quickchartButtonEl.classList.add('colab-df-spinner');\n",
              "      try {\n",
              "        const charts = await google.colab.kernel.invokeFunction(\n",
              "            'suggestCharts', [key], {});\n",
              "      } catch (error) {\n",
              "        console.error('Error during call to suggestCharts:', error);\n",
              "      }\n",
              "      quickchartButtonEl.classList.remove('colab-df-spinner');\n",
              "      quickchartButtonEl.classList.add('colab-df-quickchart-complete');\n",
              "    }\n",
              "    (() => {\n",
              "      let quickchartButtonEl =\n",
              "        document.querySelector('#df-4178bfab-544d-466d-aca8-1a285646701b button');\n",
              "      quickchartButtonEl.style.display =\n",
              "        google.colab.kernel.accessAllowed ? 'block' : 'none';\n",
              "    })();\n",
              "  </script>\n",
              "</div>\n",
              "\n",
              "    </div>\n",
              "  </div>\n"
            ],
            "application/vnd.google.colaboratory.intrinsic+json": {
              "type": "dataframe",
              "variable_name": "df_test"
            }
          },
          "metadata": {},
          "execution_count": 4
        },
        {
          "output_type": "execute_result",
          "data": {
            "text/plain": [
              "   userId  itemId  rating    timestamp\n",
              "0       1    2355     5.0  978824291.0\n",
              "1       1     595     5.0  978824268.0\n",
              "2       1    2687     3.0  978824268.0\n",
              "3       1      48     5.0  978824351.0\n",
              "4       1     745     3.0  978824268.0"
            ],
            "text/html": [
              "\n",
              "  <div id=\"df-1b42648b-6285-4823-90c0-50ba518a170b\" class=\"colab-df-container\">\n",
              "    <div>\n",
              "<style scoped>\n",
              "    .dataframe tbody tr th:only-of-type {\n",
              "        vertical-align: middle;\n",
              "    }\n",
              "\n",
              "    .dataframe tbody tr th {\n",
              "        vertical-align: top;\n",
              "    }\n",
              "\n",
              "    .dataframe thead th {\n",
              "        text-align: right;\n",
              "    }\n",
              "</style>\n",
              "<table border=\"1\" class=\"dataframe\">\n",
              "  <thead>\n",
              "    <tr style=\"text-align: right;\">\n",
              "      <th></th>\n",
              "      <th>userId</th>\n",
              "      <th>itemId</th>\n",
              "      <th>rating</th>\n",
              "      <th>timestamp</th>\n",
              "    </tr>\n",
              "  </thead>\n",
              "  <tbody>\n",
              "    <tr>\n",
              "      <th>0</th>\n",
              "      <td>1</td>\n",
              "      <td>2355</td>\n",
              "      <td>5.0</td>\n",
              "      <td>978824291.0</td>\n",
              "    </tr>\n",
              "    <tr>\n",
              "      <th>1</th>\n",
              "      <td>1</td>\n",
              "      <td>595</td>\n",
              "      <td>5.0</td>\n",
              "      <td>978824268.0</td>\n",
              "    </tr>\n",
              "    <tr>\n",
              "      <th>2</th>\n",
              "      <td>1</td>\n",
              "      <td>2687</td>\n",
              "      <td>3.0</td>\n",
              "      <td>978824268.0</td>\n",
              "    </tr>\n",
              "    <tr>\n",
              "      <th>3</th>\n",
              "      <td>1</td>\n",
              "      <td>48</td>\n",
              "      <td>5.0</td>\n",
              "      <td>978824351.0</td>\n",
              "    </tr>\n",
              "    <tr>\n",
              "      <th>4</th>\n",
              "      <td>1</td>\n",
              "      <td>745</td>\n",
              "      <td>3.0</td>\n",
              "      <td>978824268.0</td>\n",
              "    </tr>\n",
              "  </tbody>\n",
              "</table>\n",
              "</div>\n",
              "    <div class=\"colab-df-buttons\">\n",
              "\n",
              "  <div class=\"colab-df-container\">\n",
              "    <button class=\"colab-df-convert\" onclick=\"convertToInteractive('df-1b42648b-6285-4823-90c0-50ba518a170b')\"\n",
              "            title=\"Convert this dataframe to an interactive table.\"\n",
              "            style=\"display:none;\">\n",
              "\n",
              "  <svg xmlns=\"http://www.w3.org/2000/svg\" height=\"24px\" viewBox=\"0 -960 960 960\">\n",
              "    <path d=\"M120-120v-720h720v720H120Zm60-500h600v-160H180v160Zm220 220h160v-160H400v160Zm0 220h160v-160H400v160ZM180-400h160v-160H180v160Zm440 0h160v-160H620v160ZM180-180h160v-160H180v160Zm440 0h160v-160H620v160Z\"/>\n",
              "  </svg>\n",
              "    </button>\n",
              "\n",
              "  <style>\n",
              "    .colab-df-container {\n",
              "      display:flex;\n",
              "      gap: 12px;\n",
              "    }\n",
              "\n",
              "    .colab-df-convert {\n",
              "      background-color: #E8F0FE;\n",
              "      border: none;\n",
              "      border-radius: 50%;\n",
              "      cursor: pointer;\n",
              "      display: none;\n",
              "      fill: #1967D2;\n",
              "      height: 32px;\n",
              "      padding: 0 0 0 0;\n",
              "      width: 32px;\n",
              "    }\n",
              "\n",
              "    .colab-df-convert:hover {\n",
              "      background-color: #E2EBFA;\n",
              "      box-shadow: 0px 1px 2px rgba(60, 64, 67, 0.3), 0px 1px 3px 1px rgba(60, 64, 67, 0.15);\n",
              "      fill: #174EA6;\n",
              "    }\n",
              "\n",
              "    .colab-df-buttons div {\n",
              "      margin-bottom: 4px;\n",
              "    }\n",
              "\n",
              "    [theme=dark] .colab-df-convert {\n",
              "      background-color: #3B4455;\n",
              "      fill: #D2E3FC;\n",
              "    }\n",
              "\n",
              "    [theme=dark] .colab-df-convert:hover {\n",
              "      background-color: #434B5C;\n",
              "      box-shadow: 0px 1px 3px 1px rgba(0, 0, 0, 0.15);\n",
              "      filter: drop-shadow(0px 1px 2px rgba(0, 0, 0, 0.3));\n",
              "      fill: #FFFFFF;\n",
              "    }\n",
              "  </style>\n",
              "\n",
              "    <script>\n",
              "      const buttonEl =\n",
              "        document.querySelector('#df-1b42648b-6285-4823-90c0-50ba518a170b button.colab-df-convert');\n",
              "      buttonEl.style.display =\n",
              "        google.colab.kernel.accessAllowed ? 'block' : 'none';\n",
              "\n",
              "      async function convertToInteractive(key) {\n",
              "        const element = document.querySelector('#df-1b42648b-6285-4823-90c0-50ba518a170b');\n",
              "        const dataTable =\n",
              "          await google.colab.kernel.invokeFunction('convertToInteractive',\n",
              "                                                    [key], {});\n",
              "        if (!dataTable) return;\n",
              "\n",
              "        const docLinkHtml = 'Like what you see? Visit the ' +\n",
              "          '<a target=\"_blank\" href=https://colab.research.google.com/notebooks/data_table.ipynb>data table notebook</a>'\n",
              "          + ' to learn more about interactive tables.';\n",
              "        element.innerHTML = '';\n",
              "        dataTable['output_type'] = 'display_data';\n",
              "        await google.colab.output.renderOutput(dataTable, element);\n",
              "        const docLink = document.createElement('div');\n",
              "        docLink.innerHTML = docLinkHtml;\n",
              "        element.appendChild(docLink);\n",
              "      }\n",
              "    </script>\n",
              "  </div>\n",
              "\n",
              "\n",
              "<div id=\"df-1d0c9f91-986f-4472-aef0-a65b8f8281ed\">\n",
              "  <button class=\"colab-df-quickchart\" onclick=\"quickchart('df-1d0c9f91-986f-4472-aef0-a65b8f8281ed')\"\n",
              "            title=\"Suggest charts\"\n",
              "            style=\"display:none;\">\n",
              "\n",
              "<svg xmlns=\"http://www.w3.org/2000/svg\" height=\"24px\"viewBox=\"0 0 24 24\"\n",
              "     width=\"24px\">\n",
              "    <g>\n",
              "        <path d=\"M19 3H5c-1.1 0-2 .9-2 2v14c0 1.1.9 2 2 2h14c1.1 0 2-.9 2-2V5c0-1.1-.9-2-2-2zM9 17H7v-7h2v7zm4 0h-2V7h2v10zm4 0h-2v-4h2v4z\"/>\n",
              "    </g>\n",
              "</svg>\n",
              "  </button>\n",
              "\n",
              "<style>\n",
              "  .colab-df-quickchart {\n",
              "      --bg-color: #E8F0FE;\n",
              "      --fill-color: #1967D2;\n",
              "      --hover-bg-color: #E2EBFA;\n",
              "      --hover-fill-color: #174EA6;\n",
              "      --disabled-fill-color: #AAA;\n",
              "      --disabled-bg-color: #DDD;\n",
              "  }\n",
              "\n",
              "  [theme=dark] .colab-df-quickchart {\n",
              "      --bg-color: #3B4455;\n",
              "      --fill-color: #D2E3FC;\n",
              "      --hover-bg-color: #434B5C;\n",
              "      --hover-fill-color: #FFFFFF;\n",
              "      --disabled-bg-color: #3B4455;\n",
              "      --disabled-fill-color: #666;\n",
              "  }\n",
              "\n",
              "  .colab-df-quickchart {\n",
              "    background-color: var(--bg-color);\n",
              "    border: none;\n",
              "    border-radius: 50%;\n",
              "    cursor: pointer;\n",
              "    display: none;\n",
              "    fill: var(--fill-color);\n",
              "    height: 32px;\n",
              "    padding: 0;\n",
              "    width: 32px;\n",
              "  }\n",
              "\n",
              "  .colab-df-quickchart:hover {\n",
              "    background-color: var(--hover-bg-color);\n",
              "    box-shadow: 0 1px 2px rgba(60, 64, 67, 0.3), 0 1px 3px 1px rgba(60, 64, 67, 0.15);\n",
              "    fill: var(--button-hover-fill-color);\n",
              "  }\n",
              "\n",
              "  .colab-df-quickchart-complete:disabled,\n",
              "  .colab-df-quickchart-complete:disabled:hover {\n",
              "    background-color: var(--disabled-bg-color);\n",
              "    fill: var(--disabled-fill-color);\n",
              "    box-shadow: none;\n",
              "  }\n",
              "\n",
              "  .colab-df-spinner {\n",
              "    border: 2px solid var(--fill-color);\n",
              "    border-color: transparent;\n",
              "    border-bottom-color: var(--fill-color);\n",
              "    animation:\n",
              "      spin 1s steps(1) infinite;\n",
              "  }\n",
              "\n",
              "  @keyframes spin {\n",
              "    0% {\n",
              "      border-color: transparent;\n",
              "      border-bottom-color: var(--fill-color);\n",
              "      border-left-color: var(--fill-color);\n",
              "    }\n",
              "    20% {\n",
              "      border-color: transparent;\n",
              "      border-left-color: var(--fill-color);\n",
              "      border-top-color: var(--fill-color);\n",
              "    }\n",
              "    30% {\n",
              "      border-color: transparent;\n",
              "      border-left-color: var(--fill-color);\n",
              "      border-top-color: var(--fill-color);\n",
              "      border-right-color: var(--fill-color);\n",
              "    }\n",
              "    40% {\n",
              "      border-color: transparent;\n",
              "      border-right-color: var(--fill-color);\n",
              "      border-top-color: var(--fill-color);\n",
              "    }\n",
              "    60% {\n",
              "      border-color: transparent;\n",
              "      border-right-color: var(--fill-color);\n",
              "    }\n",
              "    80% {\n",
              "      border-color: transparent;\n",
              "      border-right-color: var(--fill-color);\n",
              "      border-bottom-color: var(--fill-color);\n",
              "    }\n",
              "    90% {\n",
              "      border-color: transparent;\n",
              "      border-bottom-color: var(--fill-color);\n",
              "    }\n",
              "  }\n",
              "</style>\n",
              "\n",
              "  <script>\n",
              "    async function quickchart(key) {\n",
              "      const quickchartButtonEl =\n",
              "        document.querySelector('#' + key + ' button');\n",
              "      quickchartButtonEl.disabled = true;  // To prevent multiple clicks.\n",
              "      quickchartButtonEl.classList.add('colab-df-spinner');\n",
              "      try {\n",
              "        const charts = await google.colab.kernel.invokeFunction(\n",
              "            'suggestCharts', [key], {});\n",
              "      } catch (error) {\n",
              "        console.error('Error during call to suggestCharts:', error);\n",
              "      }\n",
              "      quickchartButtonEl.classList.remove('colab-df-spinner');\n",
              "      quickchartButtonEl.classList.add('colab-df-quickchart-complete');\n",
              "    }\n",
              "    (() => {\n",
              "      let quickchartButtonEl =\n",
              "        document.querySelector('#df-1d0c9f91-986f-4472-aef0-a65b8f8281ed button');\n",
              "      quickchartButtonEl.style.display =\n",
              "        google.colab.kernel.accessAllowed ? 'block' : 'none';\n",
              "    })();\n",
              "  </script>\n",
              "</div>\n",
              "\n",
              "    </div>\n",
              "  </div>\n"
            ],
            "application/vnd.google.colaboratory.intrinsic+json": {
              "type": "dataframe",
              "variable_name": "df_test"
            }
          },
          "metadata": {},
          "execution_count": 4
        }
      ],
      "source": [
        "df_train = pd.read_csv('trainSet.txt', sep = '::', names = ['userId', 'itemId', 'rating', 'timestamp'])\n",
        "df_test = pd.read_csv('testSet.txt', sep = '::', names = ['userId', 'itemId', 'rating', 'timestamp'])\n",
        "\n",
        "df_train.head()\n",
        "df_test.head()"
      ]
    },
    {
      "cell_type": "markdown",
      "metadata": {
        "id": "k5CpGyVb4h06"
      },
      "source": [
        "## Creating Sparse Matrix"
      ]
    },
    {
      "cell_type": "markdown",
      "metadata": {
        "id": "Q15Xwd7S4h06"
      },
      "source": [
        "I propose to use the csr_matrix from scipy."
      ]
    },
    {
      "cell_type": "code",
      "execution_count": 5,
      "metadata": {
        "id": "gq8RjGEi4h06"
      },
      "outputs": [],
      "source": [
        "# Select users, items and ratings logs (i.e., all information from each column)\n",
        "users = df_train['userId']\n",
        "items = df_train['itemId']\n",
        "ratings = df_train['rating']"
      ]
    },
    {
      "cell_type": "code",
      "execution_count": 6,
      "metadata": {
        "id": "UBZYNSKT4h06"
      },
      "outputs": [],
      "source": [
        "# Define the matrix dimensions based on the max index related to users and items\n",
        "nb_users = max(users)\n",
        "nb_items = max(items)"
      ]
    },
    {
      "cell_type": "code",
      "execution_count": 7,
      "metadata": {
        "colab": {
          "base_uri": "https://localhost:8080/"
        },
        "id": "i4aW3ZOp4h06",
        "outputId": "76b4f5c8-d120-4273-fed0-1c1763b92143"
      },
      "outputs": [
        {
          "output_type": "execute_result",
          "data": {
            "text/plain": [
              "(6041, 3953)"
            ]
          },
          "metadata": {},
          "execution_count": 7
        }
      ],
      "source": [
        "# Creating matrix of ratings\n",
        "ratings_matrix = csr_matrix((ratings, (users, items)), shape=(nb_users+1, nb_items+1))\n",
        "\n",
        "ratings_matrix.shape"
      ]
    },
    {
      "cell_type": "markdown",
      "metadata": {
        "id": "BxBTjsEE4h06"
      },
      "source": [
        "## An useful function"
      ]
    },
    {
      "cell_type": "markdown",
      "metadata": {
        "id": "F_3mufnx4h06"
      },
      "source": [
        "This function is used to save the recommendations in a file."
      ]
    },
    {
      "cell_type": "code",
      "execution_count": 8,
      "metadata": {
        "id": "cbPKeIT_4h07"
      },
      "outputs": [],
      "source": [
        "def dumpRecommendation(recommendation, users_targets, file_name):\n",
        "\n",
        "    file_out = open(file_name, 'w')\n",
        "\n",
        "    # for each user target\n",
        "    for userId in users_targets:\n",
        "        issuedItems = \"\"\n",
        "        # for each item in the previous order\n",
        "        for itemId in recommendation[userId]:\n",
        "            issuedItems += str(itemId) + \":\" + str(0.0) + \",\"\n",
        "        # saving in file in correct format\n",
        "        string_s = str(userId) + \"\\t\" + \"[\" + issuedItems\n",
        "        string_out = string_s[:-1] + ']'\n",
        "        file_out.write(string_out + \"\\n\")\n",
        "\n",
        "    file_out.close()"
      ]
    },
    {
      "cell_type": "markdown",
      "metadata": {
        "id": "lcKuk5PE4h07"
      },
      "source": [
        "## Most-Popular Recommendation"
      ]
    },
    {
      "cell_type": "code",
      "execution_count": 9,
      "metadata": {
        "colab": {
          "base_uri": "https://localhost:8080/"
        },
        "id": "dt9HOU-e4h07",
        "outputId": "b0335bac-a131-465f-c263-576cdc9c7198"
      },
      "outputs": [
        {
          "output_type": "stream",
          "name": "stdout",
          "text": [
            "{0: 0, 1: 1810, 2: 558, 3: 339, 4: 115, 5: 198, 6: 796, 7: 342, 8: 53, 9: 73, 10: 753, 11: 866, 12: 105, 13: 72, 14: 105, 15: 100, 16: 525, 17: 722, 18: 94, 19: 271, 20: 100, 21: 1201, 22: 287, 23: 78, 24: 514, 25: 835, 26: 74, 27: 44, 28: 148, 29: 360, 30: 54, 31: 94, 32: 1322, 33: 3, 34: 1527, 35: 48, 36: 787, 37: 7, 38: 18, 39: 1184, 40: 24, 41: 214, 42: 173, 43: 134, 44: 234, 45: 449, 46: 120, 47: 886, 48: 297, 49: 21, 50: 1529, 51: 0, 52: 358, 53: 6, 54: 26, 55: 33, 56: 8, 57: 74, 58: 416, 59: 8, 60: 281, 61: 36, 62: 426, 63: 72, 64: 56, 65: 88, 66: 63, 67: 3, 68: 51, 69: 269, 70: 759, 71: 68, 72: 75, 73: 184, 74: 84, 75: 8, 76: 140, 77: 27, 78: 40, 79: 78, 80: 41, 81: 120, 82: 71, 83: 23, 84: 16, 85: 152, 86: 163, 87: 52, 88: 136, 89: 178, 90: 6, 91: 0, 92: 55, 93: 54, 94: 147, 95: 504, 96: 12, 97: 35, 98: 4, 99: 40, 100: 87, 101: 216, 102: 32, 103: 19, 104: 575, 105: 295, 106: 10, 107: 207, 108: 6, 109: 0, 110: 2186, 111: 1067, 112: 495, 113: 40, 114: 7, 115: 0, 116: 36, 117: 51, 118: 49, 119: 10, 120: 3, 121: 31, 122: 135, 123: 98, 124: 10, 125: 264, 126: 75, 127: 1, 128: 11, 129: 9, 130: 2, 131: 8, 132: 48, 133: 1, 134: 0, 135: 79, 136: 7, 137: 9, 138: 2, 139: 1, 140: 87, 141: 543, 142: 1, 143: 0, 144: 337, 145: 295, 146: 14, 147: 125, 148: 15, 149: 32, 150: 1045, 151: 453, 152: 60, 153: 590, 154: 124, 155: 70, 156: 55, 157: 130, 158: 193, 159: 87, 160: 405, 161: 592, 162: 416, 163: 448, 164: 302, 165: 661, 166: 42, 167: 1, 168: 279, 169: 63, 170: 229, 171: 70, 172: 335, 173: 423, 174: 54, 175: 161, 176: 174, 177: 99, 178: 16, 179: 34, 180: 367, 181: 66, 182: 37, 183: 20, 184: 18, 185: 414, 186: 141, 187: 84, 188: 157, 189: 14, 190: 79, 191: 49, 192: 1, 193: 134, 194: 163, 195: 120, 196: 423, 197: 14, 198: 526, 199: 94, 200: 5, 201: 24, 202: 19, 203: 134, 204: 144, 205: 64, 206: 56, 207: 146, 208: 479, 209: 28, 210: 30, 211: 27, 212: 11, 213: 108, 214: 24, 215: 128, 216: 256, 217: 41, 218: 156, 219: 12, 220: 22, 221: 0, 222: 255, 223: 1238, 224: 320, 225: 174, 226: 1, 227: 105, 228: 6, 229: 78, 230: 253, 231: 508, 232: 302, 233: 198, 234: 102, 235: 814, 236: 223, 237: 188, 238: 23, 239: 130, 240: 30, 241: 20, 242: 66, 243: 6, 244: 7, 245: 8, 246: 609, 247: 400, 248: 104, 249: 207, 250: 22, 251: 11, 252: 269, 253: 585, 254: 30, 255: 41, 256: 156, 257: 72, 258: 105, 259: 70, 260: 2691, 261: 214, 262: 133, 263: 24, 264: 4, 265: 650, 266: 539, 267: 85, 268: 42, 269: 42, 270: 57, 271: 44, 272: 294, 273: 181, 274: 11, 275: 60, 276: 147, 277: 130, 278: 33, 279: 36, 280: 164, 281: 186, 282: 143, 283: 10, 284: 0, 285: 0, 286: 1, 287: 14, 288: 517, 289: 117, 290: 141, 291: 33, 292: 567, 293: 770, 294: 29, 295: 19, 296: 1865, 297: 18, 298: 17, 299: 120, 300: 567, 301: 36, 302: 62, 303: 328, 304: 28, 305: 84, 306: 288, 307: 193, 308: 168, 309: 37, 310: 4, 311: 1, 312: 68, 313: 39, 314: 236, 315: 110, 316: 928, 317: 512, 318: 1970, 319: 210, 320: 24, 321: 52, 322: 170, 323: 0, 324: 25, 325: 25, 326: 48, 327: 272, 328: 110, 329: 846, 330: 114, 331: 12, 332: 134, 333: 314, 334: 97, 335: 34, 336: 13, 337: 576, 338: 168, 339: 525, 340: 69, 341: 23, 342: 436, 343: 30, 344: 597, 345: 388, 346: 98, 347: 33, 348: 380, 349: 889, 350: 379, 351: 202, 352: 106, 353: 584, 354: 37, 355: 177, 356: 1893, 357: 1044, 358: 103, 359: 14, 360: 86, 361: 198, 362: 184, 363: 49, 364: 895, 365: 37, 366: 210, 367: 975, 368: 643, 369: 35, 370: 292, 371: 163, 372: 331, 373: 194, 374: 120, 375: 11, 376: 266, 377: 1413, 378: 107, 379: 334, 380: 1178, 381: 169, 382: 197, 383: 191, 384: 31, 385: 8, 386: 21, 387: 82, 388: 78, 389: 18, 390: 47, 391: 29, 392: 21, 393: 73, 394: 14, 395: 0, 396: 0, 397: 9, 398: 1, 399: 0, 400: 0, 401: 1, 402: 1, 403: 0, 404: 3, 405: 158, 406: 5, 407: 153, 408: 52, 409: 37, 410: 360, 411: 11, 412: 235, 413: 173, 414: 67, 415: 118, 416: 63, 417: 167, 418: 17, 419: 99, 420: 255, 421: 71, 422: 42, 423: 148, 424: 49, 425: 75, 426: 216, 427: 115, 428: 203, 429: 128, 430: 17, 431: 303, 432: 271, 433: 33, 434: 523, 435: 391, 436: 93, 437: 39, 438: 97, 439: 1, 440: 774, 441: 562, 442: 521, 443: 22, 444: 54, 445: 65, 446: 208, 447: 21, 448: 186, 449: 56, 450: 181, 451: 83, 452: 26, 453: 53, 454: 635, 455: 195, 456: 81, 457: 1731, 458: 64, 459: 99, 460: 23, 461: 61, 462: 20, 463: 29, 464: 170, 465: 81, 466: 434, 467: 44, 468: 277, 469: 51, 470: 25, 471: 504, 472: 30, 473: 101, 474: 820, 475: 255, 476: 28, 477: 145, 478: 14, 479: 103, 480: 2385, 481: 214, 482: 134, 483: 55, 484: 22, 485: 378, 486: 40, 487: 43, 488: 24, 489: 66, 490: 125, 491: 159, 492: 268, 493: 258, 494: 341, 495: 32, 496: 28, 497: 568, 498: 30, 499: 32, 500: 651, 501: 77, 502: 102, 503: 9, 504: 138, 505: 44, 506: 82, 507: 258, 508: 451, 509: 484, 510: 21, 511: 126, 512: 149, 513: 54, 514: 293, 515: 366, 516: 174, 517: 289, 518: 97, 519: 133, 520: 256, 521: 82, 522: 68, 523: 95, 524: 374, 525: 18, 526: 7, 527: 2056, 528: 48, 529: 593, 530: 1, 531: 276, 532: 307, 533: 156, 534: 241, 535: 255, 536: 30, 537: 147, 538: 252, 539: 780, 540: 97, 541: 1561, 542: 142, 543: 562, 544: 94, 545: 1, 546: 239, 547: 92, 548: 103, 549: 127, 550: 134, 551: 831, 552: 448, 553: 418, 554: 19, 555: 580, 556: 112, 557: 2, 558: 115, 559: 4, 560: 5, 561: 11, 562: 409, 563: 15, 564: 28, 565: 43, 566: 9, 567: 6, 568: 28, 569: 80, 570: 17, 571: 30, 572: 0, 573: 15, 574: 142, 575: 72, 576: 0, 577: 41, 578: 1, 579: 1, 580: 36, 581: 109, 582: 2, 583: 22, 584: 0, 585: 316, 586: 495, 587: 872, 588: 1131, 589: 2365, 590: 1194, 591: 2, 592: 1173, 593: 2257, 594: 588, 595: 885, 596: 360, 597: 812, 598: 7, 599: 182, 600: 16, 601: 1, 602: 33, 603: 39, 604: 0, 605: 174, 606: 62, 607: 1, 608: 2203, 609: 47, 610: 512, 611: 161, 612: 54, 613: 65, 614: 5, 615: 55, 616: 202, 617: 9, 618: 6, 619: 21, 620: 0, 621: 31, 622: 0, 623: 3, 624: 1, 625: 0, 626: 13, 627: 90, 628: 396, 629: 0, 630: 6, 631: 53, 632: 12, 633: 14, 634: 3, 635: 57, 636: 0, 637: 95, 638: 13, 639: 54, 640: 37, 641: 1, 642: 1, 643: 3, 644: 1, 645: 13, 646: 0, 647: 342, 648: 1215, 649: 15, 650: 68, 651: 1, 652: 4, 653: 497, 654: 0, 655: 1, 656: 27, 657: 1, 658: 1, 659: 21, 660: 1, 661: 429, 662: 80, 663: 205, 664: 6, 665: 26, 666: 2, 667: 31, 668: 40, 669: 18, 670: 49, 671: 395, 672: 1, 673: 418, 674: 293, 675: 0, 676: 0, 677: 0, 678: 261, 679: 0, 680: 52, 681: 10, 682: 1, 683: 0, 684: 1, 685: 24, 686: 0, 687: 1, 688: 162, 689: 0, 690: 2, 691: 85, 692: 76, 693: 0, 694: 90, 695: 93, 696: 3, 697: 48, 698: 4, 699: 0, 700: 114, 701: 0, 702: 18, 703: 7, 704: 31, 705: 30, 706: 1, 707: 211, 708: 531, 709: 113, 710: 27, 711: 46, 712: 1, 713: 0, 714: 121, 715: 38, 716: 18, 717: 1, 718: 26, 719: 164, 720: 379, 721: 0, 722: 19, 723: 0, 724: 304, 725: 65, 726: 7, 727: 0, 728: 186, 729: 2, 730: 1, 731: 31, 732: 5, 733: 1116, 734: 1, 735: 83, 736: 852, 737: 221, 738: 0, 739: 0, 740: 0, 741: 275, 742: 124, 743: 72, 744: 3, 745: 582, 746: 24, 747: 35, 748: 330, 749: 3, 750: 1152, 751: 10, 752: 0, 753: 20, 754: 10, 755: 7, 756: 1, 757: 2, 758: 1, 759: 49, 760: 28, 761: 98, 762: 191, 763: 0, 764: 55, 765: 124, 766: 77, 767: 20, 768: 0, 769: 9, 770: 0, 771: 13, 772: 0, 773: 0, 774: 1, 775: 6, 776: 4, 777: 0, 778: 622, 779: 44, 780: 1414, 781: 76, 782: 95, 783: 287, 784: 275, 785: 649, 786: 334, 787: 2, 788: 744, 789: 1, 790: 1, 791: 2, 792: 1, 793: 6, 794: 0, 795: 0, 796: 3, 797: 0, 798: 156, 799: 282, 800: 532, 801: 86, 802: 319, 803: 42, 804: 171, 805: 263, 806: 48, 807: 10, 808: 34, 809: 81, 810: 90, 811: 5, 812: 0, 813: 31, 814: 1, 815: 4, 816: 0, 817: 0, 818: 129, 819: 0, 820: 4, 821: 2, 822: 0, 823: 2, 824: 21, 825: 0, 826: 1, 827: 1, 828: 36, 829: 81, 830: 211, 831: 13, 832: 411, 833: 49, 834: 3, 835: 77, 836: 172, 837: 183, 838: 393, 839: 83, 840: 32, 841: 17, 842: 117, 843: 0, 844: 6, 845: 0, 846: 31, 847: 3, 848: 111, 849: 399, 850: 26, 851: 90, 852: 499, 853: 2, 854: 5, 855: 0, 856: 0, 857: 0, 858: 2015, 859: 1, 860: 5, 861: 226, 862: 24, 863: 9, 864: 10, 865: 1, 866: 488, 867: 17, 868: 1, 869: 31, 870: 28, 871: 0, 872: 1, 873: 0, 874: 4, 875: 37, 876: 18, 877: 16, 878: 1, 879: 180, 880: 214, 881: 57, 882: 36, 883: 0, 884: 0, 885: 34, 886: 76, 887: 2, 888: 31, 889: 2, 890: 0, 891: 140, 892: 133, 893: 52, 894: 0, 895: 1, 896: 41, 897: 71, 898: 481, 899: 607, 900: 272, 901: 129, 902: 561, 903: 684, 904: 815, 905: 319, 906: 137, 907: 83, 908: 1140, 909: 353, 910: 694, 911: 253, 912: 1462, 913: 870, 914: 488, 915: 284, 916: 339, 917: 55, 918: 141, 919: 1415, 920: 973, 921: 256, 922: 371, 923: 960, 924: 1423, 925: 10, 926: 314, 927: 62, 928: 307, 929: 73, 930: 365, 931: 160, 932: 147, 933: 353, 934: 245, 935: 62, 936: 106, 937: 32, 938: 129, 939: 8, 940: 320, 941: 86, 942: 237, 943: 127, 944: 76, 945: 212, 946: 133, 947: 159, 948: 95, 949: 164, 950: 229, 951: 327, 952: 212, 953: 564, 954: 302, 955: 338, 956: 27, 957: 27, 958: 10, 959: 46, 960: 16, 961: 20, 962: 9, 963: 36, 964: 38, 965: 200, 966: 5, 967: 20, 968: 599, 969: 890, 970: 27, 971: 197, 972: 3, 973: 63, 974: 11, 975: 2, 976: 40, 977: 1, 978: 73, 979: 0, 980: 4, 981: 4, 982: 61, 983: 0, 984: 23, 985: 4, 986: 189, 987: 31, 988: 56, 989: 0, 990: 38, 991: 123, 992: 11, 993: 5, 994: 383, 995: 0, 996: 187, 997: 20, 998: 74, 999: 220, 1000: 14, 1001: 0, 1002: 7, 1003: 80, 1004: 69, 1005: 93, 1006: 57, 1007: 173, 1008: 70, 1009: 219, 1010: 163, 1011: 98, 1012: 201, 1013: 173, 1014: 100, 1015: 189, 1016: 108, 1017: 190, 1018: 81, 1019: 480, 1020: 304, 1021: 173, 1022: 427, 1023: 160, 1024: 98, 1025: 192, 1026: 5, 1027: 224, 1028: 818, 1029: 439, 1030: 234, 1031: 231, 1032: 419, 1033: 223, 1034: 132, 1035: 685, 1036: 1428, 1037: 475, 1038: 7, 1039: 3, 1040: 4, 1041: 414, 1042: 417, 1043: 80, 1044: 26, 1045: 0, 1046: 80, 1047: 366, 1048: 0, 1049: 372, 1050: 120, 1051: 69, 1052: 0, 1053: 25, 1054: 62, 1055: 12, 1056: 35, 1057: 211, 1058: 10, 1059: 381, 1060: 673, 1061: 290, 1062: 2, 1063: 21, 1064: 164, 1065: 0, 1066: 139, 1067: 20, 1068: 28, 1069: 90, 1070: 2, 1071: 3, 1072: 0, 1073: 1038, 1074: 0, 1075: 0, 1076: 19, 1077: 635, 1078: 300, 1079: 1133, 1080: 780, 1081: 341, 1082: 107, 1083: 120, 1084: 556, 1085: 97, 1086: 291, 1087: 13, 1088: 466, 1089: 1062, 1090: 931, 1091: 251, 1092: 537, 1093: 559, 1094: 1028, 1095: 472, 1096: 273, 1097: 2018, 1098: 3, 1099: 149, 1100: 310, 1101: 799, 1102: 3, 1103: 289, 1104: 383, 1105: 27, 1106: 0, 1107: 3, 1108: 0, 1109: 0, 1110: 0, 1111: 74, 1112: 28, 1113: 32, 1114: 24, 1115: 0, 1116: 12, 1117: 8, 1118: 1, 1119: 25, 1120: 348, 1121: 10, 1122: 0, 1123: 25, 1124: 298, 1125: 297, 1126: 228, 1127: 1526, 1128: 119, 1129: 768, 1130: 173, 1131: 183, 1132: 183, 1133: 2, 1134: 2, 1135: 312, 1136: 1375, 1137: 0, 1138: 5, 1139: 2, 1140: 0, 1141: 0, 1142: 2, 1143: 0, 1144: 14, 1145: 1, 1146: 0, 1147: 230, 1148: 798, 1149: 2, 1150: 136, 1151: 23, 1152: 22, 1153: 11, 1154: 13, 1155: 0, 1156: 0, 1157: 0, 1158: 0, 1159: 0, 1160: 4, 1161: 66, 1162: 71, 1163: 13, 1164: 3, 1165: 1, 1166: 0, 1167: 65, 1168: 15, 1169: 31, 1170: 15, 1171: 357, 1172: 533, 1173: 136, 1174: 4, 1175: 335, 1176: 109, 1177: 111, 1178: 197, 1179: 731, 1180: 45, 1181: 9, 1182: 0, 1183: 799, 1184: 73, 1185: 366, 1186: 434, 1187: 124, 1188: 586, 1189: 219, 1190: 82, 1191: 141, 1192: 86, 1193: 1523, 1194: 162, 1195: 0, 1196: 2734, 1197: 2091, 1198: 2292, 1199: 769, 1200: 1614, 1201: 692, 1202: 63, 1203: 489, 1204: 677, 1205: 187, 1206: 1018, 1207: 762, 1208: 932, 1209: 131, 1210: 2668, 1211: 204, 1212: 398, 1213: 1452, 1214: 1782, 1215: 869, 1216: 67, 1217: 311, 1218: 200, 1219: 1031, 1220: 1171, 1221: 1511, 1222: 1064, 1223: 412, 1224: 354, 1225: 1195, 1226: 176, 1227: 196, 1228: 580, 1229: 0, 1230: 1194, 1231: 602, 1232: 41, 1233: 898, 1234: 878, 1235: 586, 1236: 76, 1237: 247, 1238: 305, 1239: 0, 1240: 1855, 1241: 60, 1242: 956, 1243: 280, 1244: 611, 1245: 286, 1246: 662, 1247: 1029, 1248: 432, 1249: 604, 1250: 755, 1251: 183, 1252: 992, 1253: 471, 1254: 361, 1255: 48, 1256: 509, 1257: 395, 1258: 829, 1259: 1552, 1260: 266, 1261: 477, 1262: 559, 1263: 562, 1264: 218, 1265: 2022, 1266: 772, 1267: 612, 1268: 233, 1269: 565, 1270: 2307, 1271: 458, 1272: 494, 1273: 130, 1274: 388, 1275: 627, 1276: 802, 1277: 315, 1278: 971, 1279: 157, 1280: 244, 1281: 185, 1282: 750, 1283: 296, 1284: 460, 1285: 696, 1286: 213, 1287: 582, 1288: 955, 1289: 138, 1290: 166, 1291: 1396, 1292: 490, 1293: 566, 1294: 941, 1295: 201, 1296: 465, 1297: 362, 1298: 287, 1299: 616, 1300: 272, 1301: 316, 1302: 592, 1303: 246, 1304: 1236, 1305: 88, 1306: 117, 1307: 1301, 1308: 0, 1309: 0, 1310: 38, 1311: 6, 1312: 21, 1313: 6, 1314: 0, 1315: 1, 1316: 1, 1317: 29, 1318: 0, 1319: 0, 1320: 766, 1321: 421, 1322: 18, 1323: 30, 1324: 13, 1325: 13, 1326: 44, 1327: 265, 1328: 14, 1329: 23, 1330: 90, 1331: 37, 1332: 80, 1333: 560, 1334: 274, 1335: 17, 1336: 42, 1337: 51, 1338: 0, 1339: 526, 1340: 174, 1341: 34, 1342: 193, 1343: 531, 1344: 290, 1345: 421, 1346: 133, 1347: 346, 1348: 180, 1349: 10, 1350: 309, 1351: 28, 1352: 72, 1353: 139, 1354: 220, 1355: 55, 1356: 1135, 1357: 433, 1358: 997, 1359: 161, 1360: 2, 1361: 140, 1362: 86, 1363: 70, 1364: 2, 1365: 39, 1366: 78, 1367: 264, 1368: 0, 1369: 3, 1370: 949, 1371: 632, 1372: 866, 1373: 453, 1374: 1256, 1375: 783, 1376: 974, 1377: 835, 1378: 441, 1379: 267, 1380: 575, 1381: 207, 1382: 95, 1383: 9, 1384: 4, 1385: 370, 1386: 1, 1387: 1455, 1388: 265, 1389: 144, 1390: 86, 1391: 862, 1392: 195, 1393: 1092, 1394: 1245, 1395: 236, 1396: 934, 1397: 52, 1398: 43, 1399: 78, 1400: 0, 1401: 122, 1402: 0, 1403: 0, 1404: 60, 1405: 367, 1406: 18, 1407: 692, 1408: 818, 1409: 287, 1410: 63, 1411: 323, 1412: 17, 1413: 43, 1414: 132, 1415: 29, 1416: 206, 1417: 30, 1418: 0, 1419: 108, 1420: 6, 1421: 16, 1422: 188, 1423: 14, 1424: 0, 1425: 134, 1426: 16, 1427: 20, 1428: 37, 1429: 250, 1430: 0, 1431: 167, 1432: 68, 1433: 2, 1434: 2, 1435: 0, 1436: 7, 1437: 17, 1438: 223, 1439: 31, 1440: 55, 1441: 368, 1442: 46, 1443: 0, 1444: 6, 1445: 102, 1446: 161, 1447: 38, 1448: 0, 1449: 377, 1450: 13, 1451: 0, 1452: 0, 1453: 96, 1454: 62, 1455: 16, 1456: 45, 1457: 208, 1458: 14, 1459: 274, 1460: 66, 1461: 134, 1462: 0, 1463: 27, 1464: 107, 1465: 100, 1466: 571, 1467: 0, 1468: 99, 1469: 0, 1470: 1, 1471: 4, 1472: 38, 1473: 32, 1474: 96, 1475: 50, 1476: 398, 1477: 17, 1478: 0, 1479: 413, 1480: 210, 1481: 0, 1482: 52, 1483: 95, 1484: 101, 1485: 509, 1486: 4, 1487: 114, 1488: 227, 1489: 24, 1490: 18, 1491: 0, 1492: 0, 1493: 10, 1494: 12, 1495: 26, 1496: 21, 1497: 31, 1498: 99, 1499: 279, 1500: 975, 1501: 9, 1502: 9, 1503: 103, 1504: 12, 1505: 0, 1506: 0, 1507: 30, 1508: 27, 1509: 19, 1510: 1, 1511: 19, 1512: 0, 1513: 592, 1514: 3, 1515: 120, 1516: 44, 1517: 983, 1518: 293, 1519: 5, 1520: 9, 1521: 0, 1522: 4, 1523: 47, 1524: 0, 1525: 34, 1526: 54, 1527: 1175, 1528: 1, 1529: 20, 1530: 0, 1531: 7, 1532: 5, 1533: 20, 1534: 4, 1535: 84, 1536: 0, 1537: 296, 1538: 4, 1539: 7, 1540: 0, 1541: 176, 1542: 192, 1543: 3, 1544: 976, 1545: 57, 1546: 41, 1547: 29, 1548: 1, 1549: 14, 1550: 47, 1551: 23, 1552: 765, 1553: 4, 1554: 103, 1555: 1, 1556: 241, 1557: 0, 1558: 1, 1559: 0, 1560: 0, 1561: 3, 1562: 453, 1563: 33, 1564: 29, 1565: 11, 1566: 388, 1567: 6, 1568: 0, 1569: 640, 1570: 21, 1571: 33, 1572: 21, 1573: 1191, 1574: 10, 1575: 10, 1576: 0, 1577: 0, 1578: 0, 1579: 1, 1580: 2233, 1581: 45, 1582: 43, 1583: 24, 1584: 1171, 1585: 21, 1586: 442, 1587: 465, 1588: 205, 1589: 383, 1590: 361, 1591: 355, 1592: 74, 1593: 120, 1594: 258, 1595: 43, 1596: 23, 1597: 656, 1598: 80, 1599: 47, 1600: 55, 1601: 55, 1602: 26, 1603: 283, 1604: 43, 1605: 61, 1606: 70, 1607: 0, 1608: 884, 1609: 35, 1610: 1422, 1611: 181, 1612: 37, 1613: 23, 1614: 309, 1615: 186, 1616: 310, 1617: 2014, 1618: 0, 1619: 278, 1620: 290, 1621: 61, 1622: 4, 1623: 89, 1624: 34, 1625: 706, 1626: 56, 1627: 184, 1628: 0, 1629: 76, 1630: 0, 1631: 31, 1632: 14, 1633: 209, 1634: 0, 1635: 413, 1636: 4, 1637: 0, 1638: 0, 1639: 821, 1640: 68, 1641: 1034, 1642: 56, 1643: 211, 1644: 324, 1645: 650, 1646: 56, 1647: 62, 1648: 149, 1649: 163, 1650: 36, 1651: 12, 1652: 3, 1653: 920, 1654: 62, 1655: 55, 1656: 13, 1657: 17, 1658: 74, 1659: 5, 1660: 133, 1661: 62, 1662: 15, 1663: 617, 1664: 5, 1665: 133, 1666: 12, 1667: 85, 1668: 32, 1669: 32, 1670: 66, 1671: 16, 1672: 250, 1673: 930, 1674: 851, 1675: 8, 1676: 987, 1677: 28, 1678: 391, 1679: 19, 1680: 365, 1681: 87, 1682: 807, 1683: 162, 1684: 46, 1685: 4, 1686: 81, 1687: 233, 1688: 240, 1689: 200, 1690: 665, 1691: 0, 1692: 16, 1693: 270, 1694: 403, 1695: 21, 1696: 23, 1697: 0, 1698: 0, 1699: 125, 1700: 0, 1701: 209, 1702: 222, 1703: 44, 1704: 1308, 1705: 0, 1706: 0, 1707: 106, 1708: 0, 1709: 1, 1710: 0, 1711: 477, 1712: 0, 1713: 176, 1714: 0, 1715: 8, 1716: 0, 1717: 339, 1718: 4, 1719: 316, 1720: 3, 1721: 1323, 1722: 726, 1723: 0, 1724: 1, 1725: 19, 1726: 90, 1727: 153, 1728: 11, 1729: 576, 1730: 139, 1731: 30, 1732: 882, 1733: 63, 1734: 174, 1735: 195, 1736: 0, 1737: 0, 1738: 0, 1739: 33, 1740: 0, 1741: 3, 1742: 0, 1743: 8, 1744: 50, 1745: 0, 1746: 40, 1747: 738, 1748: 741, 1749: 7, 1750: 47, 1751: 0, 1752: 136, 1753: 159, 1754: 298, 1755: 23, 1756: 34, 1757: 0, 1758: 77, 1759: 38, 1760: 134, 1761: 0, 1762: 185, 1763: 0, 1764: 1, 1765: 0, 1766: 0, 1767: 18, 1768: 0, 1769: 262, 1770: 13, 1771: 39, 1772: 157, 1773: 2, 1774: 0, 1775: 0, 1776: 0, 1777: 719, 1778: 0, 1779: 402, 1780: 6, 1781: 0, 1782: 8, 1783: 169, 1784: 1221, 1785: 143, 1786: 0, 1787: 2, 1788: 77, 1789: 0, 1790: 0, 1791: 36, 1792: 344, 1793: 7, 1794: 124, 1795: 1, 1796: 4, 1797: 133, 1798: 22, 1799: 159, 1800: 0, 1801: 295, 1802: 0, 1803: 0, 1804: 81, 1805: 468, 1806: 138, 1807: 11, 1808: 0, 1809: 27, 1810: 260, 1811: 7, 1812: 22, 1813: 0, 1814: 18, 1815: 1, 1816: 69, 1817: 8, 1818: 0, 1819: 0, 1820: 0, 1821: 161, 1822: 13, 1823: 0, 1824: 84, 1825: 27, 1826: 23, 1827: 92, 1828: 0, 1829: 27, 1830: 1, 1831: 492, 1832: 1, 1833: 184, 1834: 390, 1835: 261, 1836: 96, 1837: 37, 1838: 0, 1839: 44, 1840: 115, 1841: 64, 1842: 2, 1843: 1, 1844: 22, 1845: 240, 1846: 15, 1847: 0, 1848: 142, 1849: 5, 1850: 12, 1851: 2, 1852: 1, 1853: 11, 1854: 29, 1855: 71, 1856: 59, 1857: 15, 1858: 143, 1859: 26, 1860: 33, 1861: 3, 1862: 125, 1863: 87, 1864: 6, 1865: 39, 1866: 151, 1867: 25, 1868: 2, 1869: 33, 1870: 59, 1871: 4, 1872: 7, 1873: 210, 1874: 19, 1875: 130, 1876: 730, 1877: 3, 1878: 9, 1879: 19, 1880: 17, 1881: 53, 1882: 352, 1883: 563, 1884: 230, 1885: 523, 1886: 4, 1887: 45, 1888: 296, 1889: 35, 1890: 5, 1891: 6, 1892: 279, 1893: 15, 1894: 358, 1895: 244, 1896: 39, 1897: 108, 1898: 12, 1899: 5, 1900: 49, 1901: 4, 1902: 23, 1903: 4, 1904: 94, 1905: 1, 1906: 25, 1907: 382, 1908: 0, 1909: 791, 1910: 36, 1911: 428, 1912: 797, 1913: 129, 1914: 313, 1915: 1, 1916: 310, 1917: 901, 1918: 521, 1919: 85, 1920: 272, 1921: 489, 1922: 41, 1923: 1164, 1924: 194, 1925: 32, 1926: 27, 1927: 217, 1928: 21, 1929: 65, 1930: 5, 1931: 180, 1932: 28, 1933: 18, 1934: 63, 1935: 77, 1936: 56, 1937: 49, 1938: 90, 1939: 192, 1940: 75, 1941: 87, 1942: 94, 1943: 42, 1944: 271, 1945: 427, 1946: 166, 1947: 566, 1948: 157, 1949: 167, 1950: 287, 1951: 151, 1952: 535, 1953: 760, 1954: 924, 1955: 325, 1956: 412, 1957: 518, 1958: 408, 1959: 496, 1960: 501, 1961: 1134, 1962: 511, 1963: 206, 1964: 243, 1965: 642, 1966: 164, 1967: 443, 1968: 1348, 1969: 205, 1970: 201, 1971: 181, 1972: 157, 1973: 170, 1974: 224, 1975: 124, 1976: 145, 1977: 121, 1978: 81, 1979: 74, 1980: 60, 1981: 68, 1982: 394, 1983: 141, 1984: 69, 1985: 93, 1986: 91, 1987: 70, 1988: 39, 1989: 11, 1990: 11, 1991: 171, 1992: 86, 1993: 67, 1994: 634, 1995: 125, 1996: 77, 1997: 657, 1998: 66, 1999: 94, 2000: 1439, 2001: 864, 2002: 636, 2003: 619, 2004: 280, 2005: 557, 2006: 846, 2007: 46, 2008: 11, 2009: 330, 2010: 329, 2011: 970, 2012: 920, 2013: 511, 2014: 126, 2015: 285, 2016: 77, 2017: 119, 2018: 434, 2019: 541, 2020: 632, 2021: 622, 2022: 187, 2023: 666, 2024: 111, 2025: 177, 2026: 105, 2027: 87, 2028: 2438, 2029: 61, 2030: 0, 2031: 26, 2032: 29, 2033: 155, 2034: 226, 2035: 36, 2036: 65, 2037: 40, 2038: 154, 2039: 1, 2040: 87, 2041: 115, 2042: 134, 2043: 124, 2044: 42, 2045: 42, 2046: 460, 2047: 15, 2048: 105, 2049: 30, 2050: 76, 2051: 74, 2052: 139, 2053: 268, 2054: 827, 2055: 23, 2056: 15, 2057: 71, 2058: 678, 2059: 196, 2060: 128, 2061: 3, 2062: 45, 2063: 8, 2064: 666, 2065: 378, 2066: 89, 2067: 444, 2068: 96, 2069: 106, 2070: 195, 2071: 129, 2072: 227, 2073: 52, 2074: 13, 2075: 67, 2076: 538, 2077: 117, 2078: 514, 2079: 10, 2080: 688, 2081: 822, 2082: 270, 2083: 201, 2084: 61, 2085: 418, 2086: 22, 2087: 455, 2088: 341, 2089: 181, 2090: 180, 2091: 141, 2092: 118, 2093: 225, 2094: 616, 2095: 76, 2096: 383, 2097: 153, 2098: 51, 2099: 163, 2100: 943, 2101: 11, 2102: 157, 2103: 29, 2104: 35, 2105: 793, 2106: 123, 2107: 140, 2108: 684, 2109: 448, 2110: 283, 2111: 236, 2112: 247, 2113: 50, 2114: 183, 2115: 912, 2116: 344, 2117: 223, 2118: 290, 2119: 87, 2120: 178, 2121: 167, 2122: 149, 2123: 155, 2124: 585, 2125: 337, 2126: 345, 2127: 3, 2128: 22, 2129: 6, 2130: 250, 2131: 24, 2132: 224, 2133: 435, 2134: 387, 2135: 165, 2136: 162, 2137: 365, 2138: 243, 2139: 302, 2140: 574, 2141: 311, 2142: 143, 2143: 281, 2144: 592, 2145: 550, 2146: 251, 2147: 180, 2148: 134, 2149: 69, 2150: 552, 2151: 102, 2152: 45, 2153: 198, 2154: 99, 2155: 212, 2156: 6, 2157: 16, 2158: 15, 2159: 188, 2160: 553, 2161: 547, 2162: 143, 2163: 163, 2164: 11, 2165: 83, 2166: 113, 2167: 686, 2168: 56, 2169: 96, 2170: 87, 2171: 168, 2172: 3, 2173: 88, 2174: 1223, 2175: 13, 2176: 137, 2177: 50, 2178: 77, 2179: 28, 2180: 44, 2181: 84, 2182: 88, 2183: 115, 2184: 105, 2185: 11, 2186: 403, 2187: 18, 2188: 202, 2189: 17, 2190: 42, 2191: 3, 2192: 3, 2193: 655, 2194: 932, 2195: 106, 2196: 22, 2197: 8, 2198: 1, 2199: 0, 2200: 7, 2201: 13, 2202: 150, 2203: 187, 2204: 71, 2205: 24, 2206: 124, 2207: 4, 2208: 175, 2209: 10, 2210: 37, 2211: 14, 2212: 92, 2213: 1, 2214: 1, 2215: 5, 2216: 0, 2217: 1, 2218: 1, 2219: 6, 2220: 0, 2221: 8, 2222: 0, 2223: 3, 2224: 0, 2225: 0, 2226: 1, 2227: 16, 2228: 0, 2229: 0, 2230: 0, 2231: 250, 2232: 195, 2233: 4, 2234: 6, 2235: 1, 2236: 142, 2237: 35, 2238: 62, 2239: 73, 2240: 175, 2241: 95, 2242: 5, 2243: 658, 2244: 4, 2245: 371, 2246: 11, 2247: 282, 2248: 775, 2249: 156, 2250: 36, 2251: 1, 2252: 128, 2253: 325, 2254: 0, 2255: 59, 2256: 17, 2257: 14, 2258: 2, 2259: 129, 2260: 42, 2261: 127, 2262: 260, 2263: 101, 2264: 52, 2265: 55, 2266: 133, 2267: 44, 2268: 832, 2269: 137, 2270: 0, 2271: 54, 2272: 80, 2273: 491, 2274: 0, 2275: 58, 2276: 58, 2277: 0, 2278: 673, 2279: 160, 2280: 94, 2281: 8, 2282: 278, 2283: 41, 2284: 37, 2285: 42, 2286: 29, 2287: 225, 2288: 638, 2289: 860, 2290: 91, 2291: 1254, 2292: 11, 2293: 17, 2294: 516, 2295: 60, 2296: 96, 2297: 244, 2298: 9, 2299: 4, 2300: 567, 2301: 280, 2302: 886, 2303: 274, 2304: 5, 2305: 21, 2306: 59, 2307: 26, 2308: 1, 2309: 1, 2310: 107, 2311: 370, 2312: 239, 2313: 381, 2314: 81, 2315: 101, 2316: 166, 2317: 6, 2318: 256, 2319: 0, 2320: 123, 2321: 999, 2322: 223, 2323: 30, 2324: 1005, 2325: 83, 2326: 9, 2327: 72, 2328: 128, 2329: 532, 2330: 77, 2331: 149, 2332: 6, 2333: 476, 2334: 302, 2335: 270, 2336: 802, 2337: 92, 2338: 190, 2339: 19, 2340: 258, 2341: 32, 2342: 10, 2343: 1, 2344: 158, 2345: 35, 2346: 219, 2347: 70, 2348: 237, 2349: 128, 2350: 14, 2351: 98, 2352: 706, 2353: 831, 2354: 107, 2355: 1494, 2356: 69, 2357: 187, 2358: 2, 2359: 584, 2360: 95, 2361: 124, 2362: 43, 2363: 255, 2364: 89, 2365: 107, 2366: 634, 2367: 224, 2368: 40, 2369: 675, 2370: 109, 2371: 456, 2372: 163, 2373: 140, 2374: 173, 2375: 288, 2376: 240, 2377: 160, 2378: 305, 2379: 148, 2380: 133, 2381: 109, 2382: 94, 2383: 100, 2384: 432, 2385: 107, 2386: 33, 2387: 159, 2388: 10, 2389: 186, 2390: 281, 2391: 614, 2392: 157, 2393: 691, 2394: 465, 2395: 1031, 2396: 2078, 2397: 15, 2398: 283, 2399: 165, 2400: 30, 2401: 225, 2402: 301, 2403: 320, 2404: 222, 2405: 508, 2406: 1107, 2407: 807, 2408: 168, 2409: 338, 2410: 301, 2411: 260, 2412: 186, 2413: 324, 2414: 314, 2415: 8, 2416: 261, 2417: 58, 2418: 84, 2419: 50, 2420: 349, 2421: 337, 2422: 189, 2423: 417, 2424: 633, 2425: 51, 2426: 22, 2427: 655, 2428: 425, 2429: 128, 2430: 109, 2431: 331, 2432: 109, 2433: 510, 2434: 44, 2435: 69, 2436: 97, 2437: 60, 2438: 1, 2439: 165, 2440: 40, 2441: 22, 2442: 126, 2443: 101, 2444: 3, 2445: 49, 2446: 38, 2447: 195, 2448: 130, 2449: 28, 2450: 311, 2451: 75, 2452: 11, 2453: 135, 2454: 374, 2455: 883, 2456: 208, 2457: 219, 2458: 95, 2459: 181, 2460: 81, 2461: 50, 2462: 35, 2463: 372, 2464: 6, 2465: 31, 2466: 5, 2467: 259, 2468: 270, 2469: 379, 2470: 708, 2471: 285, 2472: 71, 2473: 125, 2474: 253, 2475: 108, 2476: 245, 2477: 33, 2478: 384, 2479: 27, 2480: 1, 2481: 24, 2482: 22, 2483: 20, 2484: 1, 2485: 303, 2486: 9, 2487: 4, 2488: 69, 2489: 0, 2490: 631, 2491: 84, 2492: 117, 2493: 24, 2494: 20, 2495: 79, 2496: 287, 2497: 122, 2498: 88, 2499: 42, 2500: 89, 2501: 484, 2502: 726, 2503: 7, 2504: 125, 2505: 172, 2506: 126, 2507: 36, 2508: 0, 2509: 11, 2510: 0, 2511: 64, 2512: 18, 2513: 200, 2514: 83, 2515: 33, 2516: 27, 2517: 202, 2518: 230, 2519: 72, 2520: 129, 2521: 57, 2522: 57, 2523: 22, 2524: 179, 2525: 126, 2526: 103, 2527: 510, 2528: 507, 2529: 974, 2530: 269, 2531: 226, 2532: 274, 2533: 379, 2534: 15, 2535: 89, 2536: 19, 2537: 25, 2538: 4, 2539: 481, 2540: 127, 2541: 458, 2542: 517, 2543: 2, 2544: 17, 2545: 6, 2546: 136, 2547: 0, 2548: 63, 2549: 125, 2550: 145, 2551: 147, 2552: 25, 2553: 192, 2554: 112, 2555: 126, 2556: 1, 2557: 4, 2558: 168, 2559: 21, 2560: 133, 2561: 79, 2562: 6, 2563: 0, 2564: 0, 2565: 277, 2566: 28, 2567: 236, 2568: 160, 2569: 8, 2570: 83, 2571: 2320, 2572: 587, 2573: 39, 2574: 156, 2575: 115, 2576: 3, 2577: 20, 2578: 3, 2579: 27, 2580: 596, 2581: 518, 2582: 50, 2583: 172, 2584: 1, 2585: 39, 2586: 11, 2587: 72, 2588: 0, 2589: 49, 2590: 37, 2591: 2, 2592: 1, 2593: 32, 2594: 51, 2595: 0, 2596: 120, 2597: 47, 2598: 408, 2599: 1343, 2600: 303, 2601: 0, 2602: 3, 2603: 0, 2604: 0, 2605: 620, 2606: 171, 2607: 51, 2608: 2, 2609: 51, 2610: 38, 2611: 110, 2612: 104, 2613: 235, 2614: 32, 2615: 148, 2616: 462, 2617: 810, 2618: 40, 2619: 1, 2620: 29, 2621: 56, 2622: 334, 2623: 3, 2624: 84, 2625: 52, 2626: 23, 2627: 12, 2628: 1960, 2629: 119, 2630: 36, 2631: 3, 2632: 8, 2633: 114, 2634: 65, 2635: 23, 2636: 9, 2637: 20, 2638: 24, 2639: 101, 2640: 992, 2641: 690, 2642: 359, 2643: 238, 2644: 190, 2645: 76, 2646: 30, 2647: 40, 2648: 316, 2649: 51, 2650: 26, 2651: 60, 2652: 41, 2653: 31, 2654: 106, 2655: 31, 2656: 42, 2657: 1006, 2658: 7, 2659: 34, 2660: 110, 2661: 77, 2662: 485, 2663: 41, 2664: 517, 2665: 56, 2666: 21, 2667: 43, 2668: 194, 2669: 80, 2670: 156, 2671: 620, 2672: 288, 2673: 6, 2674: 22, 2675: 8, 2676: 210, 2677: 192, 2678: 22, 2679: 5, 2680: 0, 2681: 33, 2682: 72, 2683: 1190, 2684: 0, 2685: 2, 2686: 476, 2687: 359, 2688: 539, 2689: 29, 2690: 328, 2691: 17, 2692: 927, 2693: 165, 2694: 654, 2695: 9, 2696: 67, 2697: 38, 2698: 0, 2699: 1179, 2700: 1061, 2701: 615, 2702: 269, 2703: 0, 2704: 31, 2705: 6, 2706: 1186, 2707: 531, 2708: 31, 2709: 173, 2710: 1034, 2711: 26, 2712: 791, 2713: 326, 2714: 62, 2715: 13, 2716: 1889, 2717: 409, 2718: 315, 2719: 361, 2720: 293, 2721: 59, 2722: 487, 2723: 714, 2724: 483, 2725: 67, 2726: 113, 2727: 26, 2728: 330, 2729: 146, 2730: 120, 2731: 160, 2732: 121, 2733: 33, 2734: 379, 2735: 349, 2736: 164, 2737: 16, 2738: 57, 2739: 359, 2740: 14, 2741: 48, 2742: 1, 2743: 20, 2744: 30, 2745: 169, 2746: 757, 2747: 285, 2748: 103, 2749: 56, 2750: 231, 2751: 41, 2752: 133, 2753: 44, 2754: 8, 2755: 20, 2756: 22, 2757: 106, 2758: 19, 2759: 360, 2760: 7, 2761: 557, 2762: 2011, 2763: 791, 2764: 207, 2765: 6, 2766: 25, 2767: 19, 2768: 9, 2769: 45, 2770: 798, 2771: 137, 2772: 199, 2773: 11, 2774: 60, 2775: 13, 2776: 12, 2777: 4, 2778: 13, 2779: 264, 2780: 66, 2781: 41, 2782: 83, 2783: 7, 2784: 54, 2785: 18, 2786: 51, 2787: 116, 2788: 379, 2789: 122, 2790: 45, 2791: 1507, 2792: 428, 2793: 206, 2794: 290, 2795: 432, 2796: 169, 2797: 1240, 2798: 100, 2799: 62, 2800: 14, 2801: 77, 2802: 237, 2803: 229, 2804: 1199, 2805: 335, 2806: 127, 2807: 65, 2808: 276, 2809: 13, 2810: 33, 2811: 2, 2812: 36, 2813: 18, 2814: 6, 2815: 194, 2816: 100, 2817: 93, 2818: 36, 2819: 229, 2820: 40, 2821: 3, 2822: 198, 2823: 3, 2824: 9, 2825: 4, 2826: 626, 2827: 257, 2828: 89, 2829: 106, 2830: 10, 2831: 7, 2832: 0, 2833: 4, 2834: 14, 2835: 30, 2836: 129, 2837: 20, 2838: 0, 2839: 8, 2840: 274, 2841: 347, 2842: 37, 2843: 20, 2844: 59, 2845: 1, 2846: 134, 2847: 26, 2848: 29, 2849: 17, 2850: 5, 2851: 103, 2852: 127, 2853: 27, 2854: 9, 2855: 9, 2856: 70, 2857: 307, 2858: 3152, 2859: 197, 2860: 95, 2861: 284, 2862: 57, 2863: 430, 2864: 23, 2865: 14, 2866: 148, 2867: 242, 2868: 47, 2869: 1, 2870: 143, 2871: 574, 2872: 622, 2873: 15, 2874: 48, 2875: 205, 2876: 37, 2877: 129, 2878: 20, 2879: 127, 2880: 58, 2881: 626, 2882: 88, 2883: 221, 2884: 28, 2885: 46, 2886: 27, 2887: 2, 2888: 96, 2889: 228, 2890: 813, 2891: 148, 2892: 7, 2893: 27, 2894: 22, 2895: 2, 2896: 24, 2897: 16, 2898: 73, 2899: 95, 2900: 121, 2901: 277, 2902: 112, 2903: 67, 2904: 13, 2905: 58, 2906: 179, 2907: 150, 2908: 745, 2909: 1, 2910: 0, 2911: 4, 2912: 385, 2913: 14, 2914: 9, 2915: 691, 2916: 1761, 2917: 403, 2918: 1240, 2919: 308, 2920: 83, 2921: 225, 2922: 162, 2923: 12, 2924: 116, 2925: 48, 2926: 374, 2927: 79, 2928: 54, 2929: 167, 2930: 4, 2931: 6, 2932: 92, 2933: 7, 2934: 3, 2935: 122, 2936: 142, 2937: 94, 2938: 27, 2939: 35, 2940: 85, 2941: 189, 2942: 253, 2943: 122, 2944: 594, 2945: 19, 2946: 238, 2947: 766, 2948: 660, 2949: 553, 2950: 232, 2951: 421, 2952: 149, 2953: 230, 2954: 0, 2955: 2, 2956: 116, 2957: 0, 2958: 0, 2959: 1238, 2960: 3, 2961: 205, 2962: 8, 2963: 8, 2964: 8, 2965: 56, 2966: 364, 2967: 96, 2968: 876, 2969: 71, 2970: 83, 2971: 251, 2972: 56, 2973: 394, 2974: 41, 2975: 92, 2976: 453, 2977: 23, 2978: 77, 2979: 26, 2980: 0, 2981: 12, 2982: 21, 2983: 61, 2984: 8, 2985: 1037, 2986: 365, 2987: 1382, 2988: 85, 2989: 332, 2990: 312, 2991: 344, 2992: 22, 2993: 312, 2994: 7, 2995: 265, 2996: 91, 2997: 1978, 2998: 9, 2999: 4, 3000: 267, 3001: 6, 3002: 27, 3003: 7, 3004: 203, 3005: 504, 3006: 738, 3007: 225, 3008: 39, 3009: 0, 3010: 25, 3011: 114, 3012: 8, 3013: 54, 3014: 38, 3015: 97, 3016: 357, 3017: 76, 3018: 185, 3019: 328, 3020: 425, 3021: 25, 3022: 180, 3023: 0, 3024: 106, 3025: 13, 3026: 1, 3027: 4, 3028: 107, 3029: 161, 3030: 181, 3031: 33, 3032: 173, 3033: 714, 3034: 262, 3035: 346, 3036: 141, 3037: 478, 3038: 54, 3039: 699, 3040: 231, 3041: 50, 3042: 48, 3043: 32, 3044: 457, 3045: 82, 3046: 72, 3047: 11, 3048: 53, 3049: 28, 3050: 13, 3051: 119, 3052: 817, 3053: 266, 3054: 99, 3055: 59, 3056: 3, 3057: 1, 3058: 12, 3059: 0, 3060: 479, 3061: 199, 3062: 270, 3063: 84, 3064: 34, 3065: 1, 3066: 135, 3067: 295, 3068: 308, 3069: 42, 3070: 522, 3071: 242, 3072: 860, 3073: 22, 3074: 158, 3075: 57, 3076: 69, 3077: 74, 3078: 120, 3079: 116, 3080: 0, 3081: 837, 3082: 686, 3083: 324, 3084: 2, 3085: 2, 3086: 64, 3087: 403, 3088: 284, 3089: 203, 3090: 142, 3091: 118, 3092: 16, 3093: 164, 3094: 84, 3095: 435, 3096: 75, 3097: 176, 3098: 400, 3099: 204, 3100: 488, 3101: 674, 3102: 189, 3103: 40, 3104: 663, 3105: 549, 3106: 17, 3107: 706, 3108: 802, 3109: 46, 3110: 23, 3111: 171, 3112: 56, 3113: 435, 3114: 1330, 3115: 75, 3116: 8, 3117: 48, 3118: 44, 3119: 3, 3120: 91, 3121: 14, 3122: 23, 3123: 3, 3124: 27, 3125: 157, 3126: 3, 3127: 33, 3128: 38, 3129: 228, 3130: 78, 3131: 2, 3132: 28, 3133: 35, 3134: 141, 3135: 151, 3136: 3, 3137: 11, 3138: 48, 3139: 12, 3140: 7, 3141: 38, 3142: 95, 3143: 23, 3144: 29, 3145: 186, 3146: 225, 3147: 1009, 3148: 523, 3149: 6, 3150: 36, 3151: 1, 3152: 284, 3153: 219, 3154: 8, 3155: 251, 3156: 298, 3157: 386, 3158: 28, 3159: 365, 3160: 923, 3161: 14, 3162: 13, 3163: 248, 3164: 1, 3165: 47, 3166: 3, 3167: 120, 3168: 388, 3169: 191, 3170: 0, 3171: 17, 3172: 1, 3173: 336, 3174: 752, 3175: 1526, 3176: 981, 3177: 124, 3178: 421, 3179: 176, 3180: 49, 3181: 107, 3182: 90, 3183: 28, 3184: 0, 3185: 281, 3186: 340, 3187: 1, 3188: 42, 3189: 213, 3190: 112, 3191: 0, 3192: 17, 3193: 0, 3194: 166, 3195: 0, 3196: 317, 3197: 196, 3198: 241, 3199: 54, 3200: 134, 3201: 279, 3202: 1, 3203: 397, 3204: 153, 3205: 3, 3206: 89, 3207: 5, 3208: 210, 3209: 1, 3210: 732, 3211: 49, 3212: 2, 3213: 183, 3214: 80, 3215: 9, 3216: 3, 3217: 72, 3218: 25, 3219: 337, 3220: 1, 3221: 25, 3222: 21, 3223: 22, 3224: 65, 3225: 85, 3226: 0, 3227: 0, 3228: 1, 3229: 1, 3230: 50, 3231: 0, 3232: 5, 3233: 2, 3234: 0, 3235: 48, 3236: 2, 3237: 1, 3238: 207, 3239: 27, 3240: 24, 3241: 39, 3242: 1, 3243: 198, 3244: 249, 3245: 4, 3246: 405, 3247: 497, 3248: 125, 3249: 232, 3250: 297, 3251: 216, 3252: 415, 3253: 918, 3254: 328, 3255: 918, 3256: 867, 3257: 437, 3258: 237, 3259: 302, 3260: 391, 3261: 349, 3262: 109, 3263: 502, 3264: 401, 3265: 282, 3266: 122, 3267: 411, 3268: 115, 3269: 373, 3270: 145, 3271: 271, 3272: 122, 3273: 440, 3274: 338, 3275: 66, 3276: 36, 3277: 1, 3278: 0, 3279: 0, 3280: 0, 3281: 37, 3282: 8, 3283: 12, 3284: 35, 3285: 327, 3286: 78, 3287: 90, 3288: 1, 3289: 42, 3290: 1, 3291: 1, 3292: 5, 3293: 4, 3294: 1, 3295: 2, 3296: 150, 3297: 1, 3298: 465, 3299: 127, 3300: 425, 3301: 428, 3302: 40, 3303: 4, 3304: 42, 3305: 2, 3306: 19, 3307: 251, 3308: 237, 3309: 20, 3310: 49, 3311: 28, 3312: 1, 3313: 14, 3314: 3, 3315: 1, 3316: 192, 3317: 316, 3318: 37, 3319: 19, 3320: 31, 3321: 0, 3322: 3, 3323: 1, 3324: 132, 3325: 113, 3326: 130, 3327: 96, 3328: 219, 3329: 19, 3330: 90, 3331: 17, 3332: 0, 3333: 11, 3334: 381, 3335: 11, 3336: 0, 3337: 2, 3338: 23, 3339: 28, 3340: 58, 3341: 144, 3342: 184, 3343: 30, 3344: 14, 3345: 18, 3346: 2, 3347: 155, 3348: 0, 3349: 19, 3350: 116, 3351: 12, 3352: 2, 3353: 1, 3354: 615, 3355: 216, 3356: 0, 3357: 75, 3358: 372, 3359: 422, 3360: 471, 3361: 941, 3362: 645, 3363: 824, 3364: 123, 3365: 175, 3366: 215, 3367: 28, 3368: 52, 3369: 0, 3370: 67, 3371: 40, 3372: 45, 3373: 3, 3374: 13, 3375: 53, 3376: 1, 3377: 2, 3378: 3, 3379: 78, 3380: 2, 3381: 2, 3382: 1, 3383: 0, 3384: 205, 3385: 99, 3386: 603, 3387: 116, 3388: 204, 3389: 31, 3390: 21, 3391: 63, 3392: 103, 3393: 36, 3394: 149, 3395: 44, 3396: 582, 3397: 283, 3398: 254, 3399: 62, 3400: 19, 3401: 85, 3402: 16, 3403: 19, 3404: 182, 3405: 112, 3406: 87, 3407: 1, 3408: 1011, 3409: 352, 3410: 6, 3411: 0, 3412: 147, 3413: 2, 3414: 38, 3415: 20, 3416: 44, 3417: 64, 3418: 1222, 3419: 9, 3420: 146, 3421: 1006, 3422: 162, 3423: 50, 3424: 655, 3425: 52, 3426: 155, 3427: 57, 3428: 39, 3429: 236, 3430: 176, 3431: 61, 3432: 52, 3433: 34, 3434: 25, 3435: 470, 3436: 87, 3437: 6, 3438: 410, 3439: 192, 3440: 139, 3441: 361, 3442: 29, 3443: 4, 3444: 175, 3445: 102, 3446: 28, 3447: 61, 3448: 867, 3449: 21, 3450: 655, 3451: 269, 3452: 242, 3453: 71, 3454: 28, 3455: 0, 3456: 45, 3457: 107, 3458: 1, 3459: 41, 3460: 1, 3461: 282, 3462: 269, 3463: 7, 3464: 17, 3465: 9, 3466: 177, 3467: 236, 3468: 357, 3469: 218, 3470: 73, 3471: 1202, 3472: 3, 3473: 18, 3474: 12, 3475: 102, 3476: 533, 3477: 212, 3478: 194, 3479: 435, 3480: 125, 3481: 1077, 3482: 1, 3483: 109, 3484: 218, 3485: 2, 3486: 9, 3487: 50, 3488: 17, 3489: 550, 3490: 14, 3491: 55, 3492: 11, 3493: 2, 3494: 230, 3495: 8, 3496: 41, 3497: 71, 3498: 229, 3499: 699, 3500: 120, 3501: 203, 3502: 53, 3503: 119, 3504: 601, 3505: 264, 3506: 121, 3507: 294, 3508: 254, 3509: 59, 3510: 613, 3511: 46, 3512: 336, 3513: 309, 3514: 45, 3515: 132, 3516: 187, 3517: 2, 3518: 43, 3519: 147, 3520: 19, 3521: 169, 3522: 1, 3523: 4, 3524: 408, 3525: 282, 3526: 675, 3527: 1106, 3528: 230, 3529: 124, 3530: 1, 3531: 23, 3532: 18, 3533: 4, 3534: 400, 3535: 501, 3536: 361, 3537: 21, 3538: 128, 3539: 24, 3540: 20, 3541: 0, 3542: 2, 3543: 754, 3544: 80, 3545: 357, 3546: 160, 3547: 56, 3548: 229, 3549: 205, 3550: 115, 3551: 299, 3552: 803, 3553: 52, 3554: 90, 3555: 713, 3556: 218, 3557: 76, 3558: 0, 3559: 24, 3560: 0, 3561: 0, 3562: 15, 3563: 7, 3564: 88, 3565: 216, 3566: 240, 3567: 24, 3568: 18, 3569: 24, 3570: 8, 3571: 92, 3572: 58, 3573: 17, 3574: 10, 3575: 3, 3576: 254, 3577: 41, 3578: 1509, 3579: 48, 3580: 22, 3581: 13, 3582: 0, 3583: 0, 3584: 101, 3585: 13, 3586: 17, 3587: 23, 3588: 37, 3589: 0, 3590: 56, 3591: 484, 3592: 8, 3593: 253, 3594: 128, 3595: 3, 3596: 48, 3597: 20, 3598: 129, 3599: 79, 3600: 80, 3601: 1, 3602: 33, 3603: 2, 3604: 88, 3605: 35, 3606: 132, 3607: 1, 3608: 718, 3609: 4, 3610: 22, 3611: 12, 3612: 22, 3613: 75, 3614: 402, 3615: 270, 3616: 86, 3617: 284, 3618: 255, 3619: 72, 3620: 33, 3621: 2, 3622: 71, 3623: 1061, 3624: 623, 3625: 13, 3626: 32, 3627: 89, 3628: 74, 3629: 235, 3630: 0, 3631: 0, 3632: 33, 3633: 289, 3634: 129, 3635: 394, 3636: 4, 3637: 17, 3638: 518, 3639: 382, 3640: 11, 3641: 6, 3642: 10, 3643: 74, 3644: 15, 3645: 15, 3646: 119, 3647: 1, 3648: 7, 3649: 224, 3650: 0, 3651: 2, 3652: 5, 3653: 115, 3654: 433, 3655: 42, 3656: 0, 3657: 3, 3658: 57, 3659: 30, 3660: 129, 3661: 59, 3662: 68, 3663: 36, 3664: 36, 3665: 17, 3666: 3, 3667: 29, 3668: 268, 3669: 45, 3670: 17, 3671: 901, 3672: 115, 3673: 22, 3674: 32, 3675: 191, 3676: 145, 3677: 35, 3678: 69, 3679: 50, 3680: 36, 3681: 248, 3682: 160, 3683: 536, 3684: 271, 3685: 442, 3686: 292, 3687: 2, 3688: 239, 3689: 91, 3690: 91, 3691: 32, 3692: 46, 3693: 143, 3694: 46, 3695: 44, 3696: 51, 3697: 522, 3698: 580, 3699: 728, 3700: 210, 3701: 411, 3702: 914, 3703: 886, 3704: 596, 3705: 278, 3706: 344, 3707: 164, 3708: 187, 3709: 86, 3710: 139, 3711: 25, 3712: 301, 3713: 75, 3714: 44, 3715: 69, 3716: 52, 3717: 432, 3718: 43, 3719: 32, 3720: 60, 3721: 15, 3722: 1, 3723: 202, 3724: 158, 3725: 84, 3726: 88, 3727: 127, 3728: 121, 3729: 171, 3730: 371, 3731: 35, 3732: 53, 3733: 229, 3734: 39, 3735: 415, 3736: 31, 3737: 41, 3738: 63, 3739: 32, 3740: 483, 3741: 210, 3742: 196, 3743: 54, 3744: 303, 3745: 414, 3746: 46, 3747: 109, 3748: 2, 3749: 16, 3750: 0, 3751: 1020, 3752: 426, 3753: 977, 3754: 161, 3755: 746, 3756: 15, 3757: 15, 3758: 87, 3759: 27, 3760: 244, 3761: 17, 3762: 3, 3763: 583, 3764: 187, 3765: 30, 3766: 142, 3767: 73, 3768: 58, 3769: 155, 3770: 273, 3771: 122, 3772: 2, 3773: 130, 3774: 46, 3775: 17, 3776: 22, 3777: 10, 3778: 4, 3779: 1, 3780: 35, 3781: 23, 3782: 34, 3783: 160, 3784: 112, 3785: 449, 3786: 138, 3787: 38, 3788: 196, 3789: 133, 3790: 30, 3791: 320, 3792: 60, 3793: 1150, 3794: 77, 3795: 49, 3796: 9, 3797: 18, 3798: 297, 3799: 74, 3800: 2, 3801: 165, 3802: 229, 3803: 7, 3804: 29, 3805: 29, 3806: 42, 3807: 84, 3808: 37, 3809: 660, 3810: 60, 3811: 310, 3812: 201, 3813: 62, 3814: 178, 3815: 0, 3816: 28, 3817: 9, 3818: 7, 3819: 194, 3820: 25, 3821: 170, 3822: 45, 3823: 52, 3824: 72, 3825: 131, 3826: 278, 3827: 328, 3828: 2, 3829: 0, 3830: 19, 3831: 110, 3832: 17, 3833: 46, 3834: 132, 3835: 119, 3836: 302, 3837: 72, 3838: 30, 3839: 34, 3840: 77, 3841: 225, 3842: 1, 3843: 21, 3844: 298, 3845: 21, 3846: 107, 3847: 21, 3848: 10, 3849: 31, 3850: 8, 3851: 33, 3852: 135, 3853: 9, 3854: 15, 3855: 23, 3856: 0, 3857: 33, 3858: 42, 3859: 49, 3860: 10, 3861: 152, 3862: 15, 3863: 466, 3864: 99, 3865: 103, 3866: 4, 3867: 6, 3868: 568, 3869: 312, 3870: 39, 3871: 229, 3872: 76, 3873: 219, 3874: 17, 3875: 4, 3876: 3, 3877: 125, 3878: 5, 3879: 96, 3880: 13, 3881: 0, 3882: 155, 3883: 9, 3884: 23, 3885: 18, 3886: 24, 3887: 3, 3888: 2, 3889: 94, 3890: 0, 3891: 4, 3892: 7, 3893: 409, 3894: 14, 3895: 61, 3896: 125, 3897: 712, 3898: 30, 3899: 3, 3900: 18, 3901: 67, 3902: 18, 3903: 29, 3904: 1, 3905: 5, 3906: 19, 3907: 0, 3908: 64, 3909: 44, 3910: 146, 3911: 450, 3912: 24, 3913: 22, 3914: 48, 3915: 82, 3916: 313, 3917: 222, 3918: 136, 3919: 68, 3920: 48, 3921: 34, 3922: 31, 3923: 85, 3924: 19, 3925: 100, 3926: 149, 3927: 297, 3928: 178, 3929: 126, 3930: 182, 3931: 19, 3932: 184, 3933: 11, 3934: 21, 3935: 18, 3936: 100, 3937: 98, 3938: 20, 3939: 20, 3940: 13, 3941: 15, 3942: 19, 3943: 64, 3944: 8, 3945: 34, 3946: 71, 3947: 45, 3948: 596, 3949: 174, 3950: 30, 3951: 28, 3952: 257}\n"
          ]
        }
      ],
      "source": [
        "# Items popularity\n",
        "items_popularity = {}\n",
        "\n",
        "for i in range(ratings_matrix.shape[1]):\n",
        "  items_popularity[i] = ratings_matrix[:, i].count_nonzero()\n",
        "\n",
        "print(items_popularity)"
      ]
    },
    {
      "cell_type": "code",
      "execution_count": 11,
      "metadata": {
        "id": "Lz-H9mF64h07"
      },
      "outputs": [],
      "source": [
        "# Sorting the itemId descending by its popularity\n",
        "popularity_order = OrderedDict(sorted(items_popularity.items(), key = operator.itemgetter(1), reverse = True))\n",
        "most_popular = list(popularity_order.keys())"
      ]
    },
    {
      "cell_type": "code",
      "execution_count": 12,
      "metadata": {
        "colab": {
          "base_uri": "https://localhost:8080/"
        },
        "id": "crxI6iDq4h07",
        "outputId": "5cf98c0e-8690-4ceb-a74e-96f680ff6b4a"
      },
      "outputs": [
        {
          "output_type": "execute_result",
          "data": {
            "text/plain": [
              "[2858, 1196, 260, 1210, 2028, 480, 589, 2571, 1270, 1198]"
            ]
          },
          "metadata": {},
          "execution_count": 12
        }
      ],
      "source": [
        "most_popular[:10]"
      ]
    },
    {
      "cell_type": "code",
      "execution_count": 13,
      "metadata": {
        "id": "RmCjgbeK4h07"
      },
      "outputs": [],
      "source": [
        "# Size of each recommendation\n",
        "top_k = 10"
      ]
    },
    {
      "cell_type": "code",
      "execution_count": 17,
      "metadata": {
        "id": "M1UnilXL4h07"
      },
      "outputs": [],
      "source": [
        "# Setting the recommendations of items that have not be rated by the user\n",
        "recommendation = {}\n",
        "\n",
        "for u in range(ratings_matrix.shape[0]):\n",
        "    # recommending just the most popular\n",
        "    recommendation[u] = []\n",
        "    cont = 0\n",
        "    # recommending the most popular that have never seen by users\n",
        "    for i in most_popular:\n",
        "        # recommending the top-k items\n",
        "        if (cont < top_k):\n",
        "            if (cont < top_k):\n",
        "              if (ratings_matrix[u, i] == 0):\n",
        "                  recommendation[u].append(i)\n",
        "                  cont += 1\n",
        "        else:\n",
        "            break"
      ]
    },
    {
      "cell_type": "code",
      "execution_count": 18,
      "metadata": {
        "id": "n807FwDQ4h07"
      },
      "outputs": [],
      "source": [
        "# Save in a file\n",
        "users_targets = df_test['userId'].unique()\n",
        "dumpRecommendation(recommendation, users_targets, \"recList_MostPopular.txt\")"
      ]
    },
    {
      "cell_type": "code",
      "execution_count": 19,
      "metadata": {
        "colab": {
          "base_uri": "https://localhost:8080/"
        },
        "id": "4iRfGf7q4h07",
        "outputId": "85a9fae2-3c4c-4fd5-f2c6-0412d9663b76"
      },
      "outputs": [
        {
          "output_type": "execute_result",
          "data": {
            "text/plain": [
              "[260, 1210, 480, 2571, 1580, 527, 1265, 1097, 2997, 2628]"
            ]
          },
          "metadata": {},
          "execution_count": 19
        },
        {
          "output_type": "execute_result",
          "data": {
            "text/plain": [
              "[2028, 593, 608, 110, 2396, 527, 858, 1617, 2762, 318]"
            ]
          },
          "metadata": {},
          "execution_count": 19
        },
        {
          "output_type": "execute_result",
          "data": {
            "text/plain": [
              "[2858, 480, 589, 2571, 593, 608, 2396, 1097, 1617, 2762]"
            ]
          },
          "metadata": {},
          "execution_count": 19
        }
      ],
      "source": [
        "recommendation[300]\n",
        "recommendation[3000]\n",
        "recommendation[6010]"
      ]
    },
    {
      "cell_type": "markdown",
      "metadata": {
        "id": "Fc7R6BV04h07"
      },
      "source": [
        "## Best-Rated Recommendation"
      ]
    },
    {
      "cell_type": "code",
      "execution_count": 21,
      "metadata": {
        "colab": {
          "base_uri": "https://localhost:8080/"
        },
        "id": "qU16xiRW4h07",
        "outputId": "440ac805-d8fa-4e94-869b-a6e69dfaef7b"
      },
      "outputs": [
        {
          "output_type": "stream",
          "name": "stdout",
          "text": [
            "{0: 0.0, 1: 1.2385366661148816, 2: 0.29647409369309713, 3: 0.16801853997682503, 4: 0.052805826849859294, 5: 0.09733487833140209, 6: 0.5126634663135242, 7: 0.19582850521436845, 8: 0.025823539149147492, 9: 0.032610494951167024, 10: 0.43999337857970533, 11: 0.5442807482204932, 12: 0.04303923191524582, 13: 0.03790763118688959, 14: 0.06174474424764112, 15: 0.0423770898857805, 16: 0.32941565965899683, 17: 0.48088064889918886, 18: 0.05230922032776031, 19: 0.11190200297963912, 20: 0.04188048336368151, 21: 0.7200794570435358, 22: 0.16023837113060752, 23: 0.039066379738453894, 24: 0.27114716106604864, 25: 0.5047177619599404, 26: 0.04353583843734481, 27: 0.02118854494289025, 28: 0.10081112398609501, 29: 0.2421784472769409, 30: 0.03327263698063235, 31: 0.048998510180433705, 32: 0.8688958781658666, 33: 0.0013242840589306405, 34: 0.9841085912928322, 35: 0.0253269326270485, 36: 0.5168018539976824, 37: 0.004303923191524581, 38: 0.006952491309385863, 39: 0.713623572256249, 40: 0.015725873199801357, 41: 0.1413673232908459, 42: 0.08210561165369973, 43: 0.07614633338851184, 44: 0.10826022181757985, 45: 0.2554212878662473, 46: 0.06025492468134414, 47: 0.60486674391657, 48: 0.14484356894553882, 49: 0.012911769574573745, 50: 1.1471610660486673, 51: 0.0, 52: 0.2190034762456547, 53: 0.004966065220989902, 54: 0.010759807978811455, 55: 0.017050157258731997, 56: 0.002317497103128621, 57: 0.04188048336368151, 58: 0.2845555371627214, 59: 0.0036417811620592616, 60: 0.15113391822545935, 61: 0.01804337030292998, 62: 0.26485681178612813, 63: 0.036583347127958944, 64: 0.019698725376593278, 65: 0.03062406886277106, 66: 0.01738122827346466, 67: 0.0016553550736633008, 68: 0.028968713789107765, 69: 0.16222479721900346, 70: 0.4000993213044198, 71: 0.023174971031286212, 72: 0.0456878000331071, 73: 0.11570931964906472, 74: 0.04254262539314683, 75: 0.002648568117861281, 76: 0.06588313193179937, 77: 0.01655355073663301, 78: 0.02135408045025658, 79: 0.035424598576394635, 80: 0.02665121668597914, 81: 0.06340009932130442, 82: 0.044694586988909116, 83: 0.014567124648237046, 84: 0.008111239860950175, 85: 0.08359543121999669, 86: 0.09087899354411522, 87: 0.01853997682502897, 88: 0.06671080946863102, 89: 0.09005131600728356, 90: 0.0036417811620592616, 91: 0.0, 92: 0.020857473928157587, 93: 0.02002979639132594, 94: 0.09154113557358053, 95: 0.23737791756331733, 96: 0.008111239860950173, 97: 0.02168515146498924, 98: 0.0011587485515643105, 99: 0.02284390001655355, 100: 0.04452905148154279, 101: 0.1387187551729846, 102: 0.008938917397781824, 103: 0.010097665949346133, 104: 0.33156762125475914, 105: 0.15560337692435028, 106: 0.006786955802019533, 107: 0.10710147326601555, 108: 0.002979639132593941, 109: 0.0, 110: 1.53269326270485, 111: 0.7412680019864261, 112: 0.2830657175964244, 113: 0.02019533189869227, 114: 0.003807316669425592, 115: 0.0, 116: 0.02416818407548419, 117: 0.029961926833305744, 118: 0.024499255090216852, 119: 0.004138387684158251, 120: 0.0013242840589306405, 121: 0.021023009435523918, 122: 0.06091706671080947, 123: 0.06373117033603708, 124: 0.005793742757821552, 125: 0.1691772885283893, 126: 0.02350604204601887, 127: 0.00016553550736633007, 128: 0.007945704353583844, 129: 0.004634994206257242, 130: 0.0013242840589306405, 131: 0.003972852176791922, 132: 0.02151961595762291, 133: 0.00016553550736633007, 134: 0.0, 135: 0.03608674060585996, 136: 0.004138387684158251, 137: 0.004469458698890911, 138: 0.0008276775368316503, 139: 0.0006621420294653203, 140: 0.04651547756993875, 141: 0.3218010263201457, 142: 0.00016553550736633007, 143: 0.0, 144: 0.1888760139049826, 145: 0.1605694421453402, 146: 0.006455884787286873, 147: 0.07349776527065055, 148: 0.006952491309385862, 149: 0.02002979639132594, 150: 0.7038569773216354, 151: 0.26833305744082103, 152: 0.029630855818573082, 153: 0.2610494951167025, 154: 0.07647740440324449, 155: 0.04005959278265188, 156: 0.032610494951167024, 157: 0.06025492468134415, 158: 0.09435523919880814, 159: 0.048832974673067374, 160: 0.15047177619599406, 161: 0.3664956133090548, 162: 0.27958947194173145, 163: 0.2580698559841086, 164: 0.17960602549246812, 165: 0.39331236550240023, 166: 0.01853997682502897, 167: 0.0008276775368316503, 168: 0.1365667935772223, 169: 0.0220162224797219, 170: 0.12166859791425261, 171: 0.04287369640787949, 172: 0.14484356894553882, 173: 0.16371461678530047, 174: 0.02019533189869227, 175: 0.09385863267670916, 176: 0.11306075153120344, 177: 0.044694586988909116, 178: 0.009269988412514484, 179: 0.012415163052474755, 180: 0.2158583016056944, 181: 0.01787783479556365, 182: 0.019698725376593278, 183: 0.012084092037742095, 184: 0.009601059427247144, 185: 0.19566296970700214, 186: 0.06671080946863102, 187: 0.04618440655520609, 188: 0.0830988246978977, 189: 0.007614633338851184, 190: 0.04932958119516636, 191: 0.019367654361860616, 192: 0.00033107101473266014, 193: 0.04502565800364178, 194: 0.10213540804502566, 195: 0.056944214534017545, 196: 0.19632511173646747, 197: 0.006952491309385864, 198: 0.2885283893395133, 199: 0.06008938917397782, 200: 0.002151961595762291, 201: 0.010428736964078793, 202: 0.007945704353583844, 203: 0.06654527396126468, 204: 0.07200794570435358, 205: 0.03890084423108757, 206: 0.03360370799536501, 207: 0.07713954643270982, 208: 0.21387187551729847, 209: 0.011918556530375764, 210: 0.015394802185068699, 211: 0.015394802185068699, 212: 0.003310710147326601, 213: 0.07316669425591789, 214: 0.016884621751365667, 215: 0.08078132759476908, 216: 0.13458036748882635, 217: 0.019036583347127958, 218: 0.08227114716106605, 219: 0.006952491309385862, 220: 0.007118026816752193, 221: 0.0, 222: 0.151464989240192, 223: 0.8136070187055122, 224: 0.18026816752193345, 225: 0.0935275616619765, 226: 0.00033107101473266014, 227: 0.04717761959940407, 228: 0.001986426088395961, 229: 0.04651547756993875, 230: 0.14467803343817248, 231: 0.27280251613971196, 232: 0.20294653203112067, 233: 0.118357887766926, 234: 0.03873530872372123, 235: 0.4944545605032279, 236: 0.12183413342161895, 237: 0.09220327760304585, 238: 0.011421950008276775, 239: 0.06323456381393808, 240: 0.012746234067207415, 241: 0.011090878993544115, 242: 0.03856977321635491, 243: 0.002317497103128621, 244: 0.002317497103128621, 245: 0.004303923191524582, 246: 0.421784472769409, 247: 0.25624896540307895, 248: 0.05065386525409701, 249: 0.1289521602383711, 250: 0.008938917397781824, 251: 0.006290349279920542, 252: 0.14467803343817248, 253: 0.34530706836616454, 254: 0.015891408707167688, 255: 0.014236053633504386, 256: 0.06952491309385864, 257: 0.04005959278265188, 258: 0.04337030292997848, 259: 0.03194835292170171, 260: 1.9852673398443963, 261: 0.12961430226783643, 262: 0.08425757324946201, 263: 0.015394802185068696, 264: 0.001986426088395961, 265: 0.423274292335706, 266: 0.30955139877503723, 267: 0.040556199304750865, 268: 0.02300943552391988, 269: 0.0253269326270485, 270: 0.028968713789107762, 271: 0.023009435523919878, 272: 0.1789438834630028, 273: 0.08839596093362026, 274: 0.004138387684158252, 275: 0.024002648568117863, 276: 0.06621420294653203, 277: 0.06919384207912598, 278: 0.015229266677702368, 279: 0.02300943552391988, 280: 0.09783148485350107, 281: 0.11190200297963913, 282: 0.07780168846217514, 283: 0.005297136235722562, 284: 0.0, 285: 0.0, 286: 0.0004966065220989903, 287: 0.006952491309385863, 288: 0.27296805164707827, 289: 0.06488991888760139, 290: 0.09352756166197648, 291: 0.011918556530375764, 292: 0.3082271147161066, 293: 0.5229266677702367, 294: 0.014567124648237046, 295: 0.008442310875682833, 296: 1.3236219169011751, 297: 0.009601059427247144, 298: 0.010759807978811455, 299: 0.07382883628538321, 300: 0.3559013408376096, 301: 0.01903658334712796, 302: 0.03757656017215693, 303: 0.16487336533686475, 304: 0.015229266677702366, 305: 0.03426585002483032, 306: 0.20079457043535837, 307: 0.1304419798046681, 308: 0.11107432544280749, 309: 0.0236715775533852, 310: 0.0014898195662969708, 311: 0.0004966065220989903, 312: 0.02814103625227611, 313: 0.0187055123323953, 314: 0.15014070518126138, 315: 0.049826187717265345, 316: 0.5403078960437013, 317: 0.2688296639629201, 318: 1.4873365336864754, 319: 0.1370634000993213, 320: 0.013573911604039065, 321: 0.03244495944380069, 322: 0.1034596921039563, 323: 0.0, 324: 0.01655355073663301, 325: 0.009601059427247144, 326: 0.033934779010097664, 327: 0.11703360370799536, 328: 0.05727528554875021, 329: 0.4717761959940407, 330: 0.05148154279092865, 331: 0.005959278265187882, 332: 0.0561165369971859, 333: 0.18142691607349776, 334: 0.061910279755007444, 335: 0.019698725376593278, 336: 0.005793742757821552, 337: 0.36616454229432205, 338: 0.08078132759476908, 339: 0.3050819400761463, 340: 0.03840423770898858, 341: 0.014236053633504386, 342: 0.2635325277271975, 343: 0.011918556530375764, 344: 0.3098824697897699, 345: 0.24366826684323786, 346: 0.05727528554875021, 347: 0.016719086243999336, 348: 0.23390167190862438, 349: 0.5507366330077801, 350: 0.21271312696573413, 351: 0.11190200297963912, 352: 0.054461181923522596, 353: 0.33703029299784804, 354: 0.02069193842079126, 355: 0.06737295149809634, 356: 1.2850521436848203, 357: 0.6472438338023506, 358: 0.055288859460354244, 359: 0.007449097831484853, 360: 0.03592120509849363, 361: 0.11173646747227281, 362: 0.10230094355239198, 363: 0.03476245654692932, 364: 0.5730839265022347, 365: 0.01936765436186062, 366: 0.09733487833140209, 367: 0.5277271974838603, 368: 0.37510345969210396, 369: 0.019533189869226947, 370: 0.1413673232908459, 371: 0.08707167687468961, 372: 0.17480549577884455, 373: 0.12365502400264856, 374: 0.04105280582684986, 375: 0.006455884787286873, 376: 0.14517463996027147, 377: 0.8354577056778678, 378: 0.050157258731998014, 379: 0.16040390663797383, 380: 0.7124648237046847, 381: 0.09104452905148154, 382: 0.09650720079457044, 383: 0.10312862108922363, 384: 0.015229266677702368, 385: 0.004634994206257242, 386: 0.009766594934613473, 387: 0.03724548915742427, 388: 0.04701208409203775, 389: 0.011090878993544113, 390: 0.027975500744909787, 391: 0.01605694421453402, 392: 0.009601059427247144, 393: 0.02234729349445456, 394: 0.008111239860950175, 395: 0.0, 396: 0.0, 397: 0.003972852176791922, 398: 0.0006621420294653203, 399: 0.0, 400: 0.0, 401: 0.00033107101473266014, 402: 0.0004966065220989903, 403: 0.0, 404: 0.001986426088395961, 405: 0.05760635656348286, 406: 0.002814103625227611, 407: 0.0721734812117199, 408: 0.0286376427743751, 409: 0.019533189869226947, 410: 0.17199139215361695, 411: 0.004634994206257241, 412: 0.13805661314351927, 413: 0.0720079457043536, 414: 0.028968713789107765, 415: 0.047839761628869396, 416: 0.02466479059758318, 417: 0.09601059427247144, 418: 0.007449097831484853, 419: 0.03658334712795895, 420: 0.10296308558185731, 421: 0.039066379738453894, 422: 0.02218175798708823, 423: 0.0776361529548088, 424: 0.021850686972355572, 425: 0.044860122496275454, 426: 0.1117364674722728, 427: 0.0456878000331071, 428: 0.13242840589306404, 429: 0.050157258731998014, 430: 0.006621420294653203, 431: 0.18589637477238868, 432: 0.11554378414169839, 433: 0.015229266677702368, 434: 0.2689951994702864, 435: 0.17149478563151796, 436: 0.04204601887104785, 437: 0.013077305081940077, 438: 0.043701373944711144, 439: 0.0006621420294653203, 440: 0.48733653368647567, 441: 0.34315510677040223, 442: 0.2592286045356729, 443: 0.012084092037742095, 444: 0.02118854494289025, 445: 0.028472107267008773, 446: 0.13938089720244992, 447: 0.008442310875682833, 448: 0.11041218341334216, 449: 0.034265850024830326, 450: 0.0984936268829664, 451: 0.042046018871047836, 452: 0.014567124648237048, 453: 0.028472107267008773, 454: 0.37245489157424266, 455: 0.08177454063896705, 456: 0.05346796887932462, 457: 1.1782817414335374, 458: 0.035259063069028304, 459: 0.04717761959940407, 460: 0.009104452905148153, 461: 0.03459692103956299, 462: 0.008607846383049164, 463: 0.013573911604039066, 464: 0.07912597252110577, 465: 0.04618440655520609, 466: 0.20013242840589307, 467: 0.02300943552391988, 468: 0.14997516967389507, 469: 0.025161397119682172, 470: 0.007614633338851183, 471: 0.3027644429730177, 472: 0.013573911604039066, 473: 0.038404237708988584, 474: 0.522595596755504, 475: 0.16536997185896374, 476: 0.012084092037742095, 477: 0.08276775368316504, 478: 0.005959278265187883, 479: 0.047508690614136734, 480: 1.4866743916570102, 481: 0.12001324284058931, 482: 0.07846383049164045, 483: 0.03360370799536501, 484: 0.009766594934613473, 485: 0.16023837113060752, 486: 0.018374441317662638, 487: 0.019533189869226947, 488: 0.014732660155603376, 489: 0.02648568117861281, 490: 0.0693593775864923, 491: 0.08723721238205595, 492: 0.1640456878000331, 493: 0.15328587982122166, 494: 0.18904154941234896, 495: 0.018043370302929976, 496: 0.015560337692435026, 497: 0.3742757821552723, 498: 0.013739447111405397, 499: 0.015063731170336037, 500: 0.37146167853004475, 501: 0.04601887104783976, 502: 0.03343817248799868, 503: 0.005462671743088893, 504: 0.066710809468631, 505: 0.01787783479556365, 506: 0.047343155106770396, 507: 0.1508028472107267, 508: 0.29299784803840423, 509: 0.29283231253103786, 510: 0.009269988412514484, 511: 0.06588313193179937, 512: 0.07084919715278927, 513: 0.028637642774375104, 514: 0.17149478563151796, 515: 0.23655024002648567, 516: 0.08508525078629366, 517: 0.15328587982122166, 518: 0.04039066379738454, 519: 0.04154941234894885, 520: 0.12564145009104452, 521: 0.04618440655520609, 522: 0.0402251282900182, 523: 0.05727528554875021, 524: 0.22463168349610993, 525: 0.009766594934613473, 526: 0.003145174639960271, 527: 1.5341830822711469, 528: 0.01986426088395961, 529: 0.3938089720244992, 530: 0.0004966065220989903, 531: 0.17364674722728024, 532: 0.15758980301274622, 533: 0.0721734812117199, 534: 0.15245820228439, 535: 0.16156265518953816, 536: 0.014898195662969706, 537: 0.07432544280748221, 538: 0.1595762291011422, 539: 0.4863433206422777, 540: 0.03641781162059261, 541: 1.1092534348617777, 542: 0.06522098990233405, 543: 0.3133587154444628, 544: 0.042211554378414166, 545: 0.00033107101473266014, 546: 0.0721734812117199, 547: 0.04436351597417647, 548: 0.04386690945207747, 549: 0.07862936599900677, 550: 0.06853170004966065, 551: 0.5068697235557027, 552: 0.2416818407548419, 553: 0.269822877007118, 554: 0.008607846383049164, 555: 0.3790763118688959, 556: 0.07829829498427412, 557: 0.0014898195662969706, 558: 0.05098493626882967, 559: 0.0016553550736633006, 560: 0.002979639132593941, 561: 0.006621420294653202, 562: 0.2550902168515147, 563: 0.007945704353583844, 564: 0.010097665949346133, 565: 0.022512829001820892, 566: 0.004469458698890912, 567: 0.0036417811620592616, 568: 0.018374441317662638, 569: 0.038404237708988584, 570: 0.009932130441979804, 571: 0.018208905810296307, 572: 0.0, 573: 0.008607846383049164, 574: 0.08028472107267008, 575: 0.03310710147326601, 576: 0.0, 577: 0.019533189869226947, 578: 0.0006621420294653203, 579: 0.00033107101473266014, 580: 0.01903658334712796, 581: 0.0731666942559179, 582: 0.0009932130441979805, 583: 0.013242840589306405, 584: 0.0, 585: 0.15163052474755837, 586: 0.2526071842410197, 587: 0.5038900844231087, 588: 0.7101473266015561, 589: 1.596424433040887, 590: 0.7740440324449595, 591: 0.0006621420294653203, 592: 0.7002151961595762, 593: 1.6287038569773213, 594: 0.37262042708160903, 595: 0.5667935772223142, 596: 0.22281079291508027, 597: 0.49213706340009933, 598: 0.005131600728356232, 599: 0.1249793080615792, 600: 0.008442310875682833, 601: 0.0004966065220989903, 602: 0.02267836450918722, 603: 0.01936765436186062, 604: 0.0, 605: 0.09501738122827347, 606: 0.02400264856811786, 607: 0.00016553550736633007, 608: 1.552723059096176, 609: 0.021023009435523918, 610: 0.3001158748551564, 611: 0.06522098990233405, 612: 0.02284390001655355, 613: 0.03840423770898857, 614: 0.001986426088395961, 615: 0.03724548915742426, 616: 0.1117364674722728, 617: 0.005959278265187882, 618: 0.001986426088395961, 619: 0.009601059427247146, 620: 0.0, 621: 0.01986426088395961, 622: 0.0, 623: 0.0014898195662969706, 624: 0.0006621420294653203, 625: 0.0, 626: 0.004303923191524582, 627: 0.05495778844562159, 628: 0.2585664625062076, 629: 0.0, 630: 0.002648568117861281, 631: 0.0187055123323953, 632: 0.007945704353583844, 633: 0.008111239860950173, 634: 0.0008276775368316504, 635: 0.03476245654692932, 636: 0.0, 637: 0.04039066379738454, 638: 0.007283562324118522, 639: 0.02483032610494951, 640: 0.017050157258731997, 641: 0.00016553550736633007, 642: 0.00033107101473266014, 643: 0.0009932130441979805, 644: 0.00033107101473266014, 645: 0.007780168846217513, 646: 0.0, 647: 0.20294653203112067, 648: 0.6912762787617943, 649: 0.010263201456712466, 650: 0.039397450753186555, 651: 0.00033107101473266014, 652: 0.002151961595762291, 653: 0.2678364509187221, 654: 0.0, 655: 0.00016553550736633007, 656: 0.011421950008276775, 657: 0.0004966065220989903, 658: 0.0004966065220989903, 659: 0.013242840589306405, 660: 0.00033107101473266014, 661: 0.24615129945373282, 662: 0.03972852176791922, 663: 0.11537824863433205, 664: 0.003145174639960271, 665: 0.015725873199801357, 666: 0.0013242840589306405, 667: 0.009601059427247144, 668: 0.02946532031120675, 669: 0.013077305081940075, 670: 0.03592120509849363, 671: 0.24151630524747555, 672: 0.00033107101473266014, 673: 0.17910941897036914, 674: 0.1471610660486674, 675: 0.0, 676: 0.0, 677: 0.0, 678: 0.18490316172819068, 679: 0.0, 680: 0.02814103625227611, 681: 0.006621420294653202, 682: 0.0006621420294653203, 683: 0.0, 684: 0.00016553550736633007, 685: 0.013077305081940077, 686: 0.0, 687: 0.00033107101473266014, 688: 0.060751531203443135, 689: 0.0, 690: 0.0006621420294653203, 691: 0.04386690945207747, 692: 0.027644429730177122, 693: 0.0, 694: 0.04022512829001821, 695: 0.04966065220989902, 696: 0.0013242840589306405, 697: 0.02102300943552392, 698: 0.0013242840589306405, 699: 0.0, 700: 0.061910279755007444, 701: 0.0, 702: 0.011090878993544113, 703: 0.001820890581029631, 704: 0.011918556530375764, 705: 0.019036583347127958, 706: 0.0006621420294653203, 707: 0.10826022181757987, 708: 0.30425426253931465, 709: 0.05727528554875021, 710: 0.010925343486177786, 711: 0.019698725376593278, 712: 0.0006621420294653203, 713: 0.0, 714: 0.07730508194007614, 715: 0.02284390001655355, 716: 0.008111239860950173, 717: 0.0006621420294653203, 718: 0.015560337692435026, 719: 0.07747061744744248, 720: 0.27826518788280086, 721: 0.0, 722: 0.012249627545108426, 723: 0.0, 724: 0.15659658996854825, 725: 0.029796391325939413, 726: 0.0033107101473266016, 727: 0.0, 728: 0.11637146167853003, 729: 0.0014898195662969706, 730: 0.00016553550736633007, 731: 0.014898195662969706, 732: 0.002317497103128621, 733: 0.6930971693428241, 734: 0.0004966065220989903, 735: 0.04651547756993875, 736: 0.4509187220658831, 737: 0.07614633338851184, 738: 0.0, 739: 0.0, 740: 0.0, 741: 0.186061910279755, 742: 0.053136897864591956, 743: 0.031617281906969046, 744: 0.0009932130441979805, 745: 0.43684820393974505, 746: 0.01605694421453402, 747: 0.012415163052474755, 748: 0.17265353418308227, 749: 0.0016553550736633008, 750: 0.8526733984439662, 751: 0.005297136235722562, 752: 0.0, 753: 0.009932130441979804, 754: 0.004634994206257242, 755: 0.004303923191524582, 756: 0.00033107101473266014, 757: 0.0011587485515643105, 758: 0.0006621420294653203, 759: 0.03327263698063234, 760: 0.015725873199801357, 761: 0.04452905148154279, 762: 0.06588313193179937, 763: 0.0, 764: 0.029796391325939413, 765: 0.05379903989405727, 766: 0.0456878000331071, 767: 0.010759807978811455, 768: 0.0, 769: 0.004469458698890912, 770: 0.0, 771: 0.007945704353583844, 772: 0.0, 773: 0.0, 774: 0.0006621420294653203, 775: 0.002979639132593941, 776: 0.001986426088395961, 777: 0.0, 778: 0.4095348452243006, 779: 0.02019533189869227, 780: 0.827512001324284, 781: 0.042046018871047836, 782: 0.04022512829001821, 783: 0.15328587982122166, 784: 0.1239860950173812, 785: 0.3737791756331733, 786: 0.17530210230094354, 787: 0.0016553550736633006, 788: 0.36997185896374774, 789: 0.00033107101473266014, 790: 0.0004966065220989903, 791: 0.0011587485515643105, 792: 0.0006621420294653203, 793: 0.002814103625227611, 794: 0.0, 795: 0.0, 796: 0.0016553550736633008, 797: 0.0, 798: 0.07051812613805662, 799: 0.15659658996854825, 800: 0.3588809799702036, 801: 0.043701373944711144, 802: 0.18357887766926004, 803: 0.025989074656513823, 804: 0.08458864426419466, 805: 0.15725873199801357, 806: 0.02499586161231584, 807: 0.004966065220989902, 808: 0.0187055123323953, 809: 0.03459692103956299, 810: 0.0220162224797219, 811: 0.003310710147326601, 812: 0.0, 813: 0.012746234067207415, 814: 0.0004966065220989903, 815: 0.0013242840589306405, 816: 0.0, 817: 0.0, 818: 0.05479225293825525, 819: 0.0, 820: 0.002151961595762291, 821: 0.0006621420294653203, 822: 0.0, 823: 0.0011587485515643105, 824: 0.013904982618771725, 825: 0.0, 826: 0.00016553550736633007, 827: 0.0004966065220989903, 828: 0.017712299288197314, 829: 0.031120675384870053, 830: 0.10428736964078794, 831: 0.008276775368316502, 832: 0.23787452408541632, 833: 0.018043370302929976, 834: 0.0008276775368316503, 835: 0.0407217348121172, 836: 0.07498758483694752, 837: 0.10627379572918391, 838: 0.2526071842410197, 839: 0.029630855818573082, 840: 0.012580698559841088, 841: 0.009601059427247144, 842: 0.05081940076146333, 843: 0.0, 844: 0.0036417811620592616, 845: 0.0, 846: 0.019367654361860616, 847: 0.0011587485515643105, 848: 0.06306902830657175, 849: 0.16801853997682503, 850: 0.015560337692435026, 851: 0.05214368482039397, 852: 0.2681675219334547, 853: 0.0013242840589306405, 854: 0.003310710147326601, 855: 0.0, 856: 0.0, 857: 0.0, 858: 1.5110081112398608, 859: 0.00033107101473266014, 860: 0.002979639132593941, 861: 0.13408376096672736, 862: 0.014236053633504386, 863: 0.005297136235722562, 864: 0.005628207250455222, 865: 0.00033107101473266014, 866: 0.30822711471610664, 867: 0.006455884787286872, 868: 0.0004966065220989903, 869: 0.015560337692435026, 870: 0.011421950008276775, 871: 0.0, 872: 0.0004966065220989903, 873: 0.0, 874: 0.0013242840589306405, 875: 0.020195331898692267, 876: 0.008276775368316502, 877: 0.009104452905148153, 878: 0.0006621420294653203, 879: 0.08491971527892733, 880: 0.08011918556530376, 881: 0.023671577553385198, 882: 0.01655355073663301, 883: 0.0, 884: 0.0, 885: 0.015394802185068699, 886: 0.03592120509849363, 887: 0.0008276775368316503, 888: 0.009932130441979804, 889: 0.0008276775368316504, 890: 0.0, 891: 0.0561165369971859, 892: 0.08425757324946201, 893: 0.03178281741433537, 894: 0.0, 895: 0.00016553550736633007, 896: 0.02267836450918722, 897: 0.04337030292997848, 898: 0.34265850024830324, 899: 0.43022678364509187, 900: 0.17248799867571596, 901: 0.0776361529548088, 902: 0.36202615461016385, 903: 0.4825360039728521, 904: 0.604370137394471, 905: 0.2256248965403079, 906: 0.0930309551398775, 907: 0.0539645754014236, 908: 0.8266843237874524, 909: 0.24002648568117863, 910: 0.4975997351431882, 911: 0.17563317331567618, 912: 1.0638967058434035, 913: 0.6354908127793412, 914: 0.3348783314020857, 915: 0.186061910279755, 916: 0.23737791756331733, 917: 0.03343817248799867, 918: 0.0875682833967886, 919: 0.9940407217348122, 920: 0.6411190200297964, 921: 0.1650389008442311, 922: 0.27677536831650384, 923: 0.6988909121006455, 924: 0.9649064724383379, 925: 0.005297136235722562, 926: 0.22082436682668433, 927: 0.040721734812117195, 928: 0.21337526899519949, 929: 0.045853335540473425, 930: 0.2595596755504055, 931: 0.10345969210395631, 932: 0.0984936268829664, 933: 0.23919880814434696, 934: 0.1481542790928654, 935: 0.038073166694255915, 936: 0.07200794570435358, 937: 0.019698725376593278, 938: 0.07564972686641283, 939: 0.004800529713623572, 940: 0.20973348783314022, 941: 0.052805826849859294, 942: 0.1663631849031617, 943: 0.08525078629365998, 944: 0.04750869061413673, 945: 0.14616785300446944, 946: 0.08558185730839266, 947: 0.10859129283231253, 948: 0.05810296308558185, 949: 0.11041218341334215, 950: 0.16023837113060752, 951: 0.23092203277603046, 952: 0.1259725211057772, 953: 0.4040721734812117, 954: 0.2120509849362688, 955: 0.23290845886442643, 956: 0.015394802185068696, 957: 0.014070518126138055, 958: 0.005462671743088893, 959: 0.027975500744909784, 960: 0.009435523919880815, 961: 0.011753021023009434, 962: 0.005131600728356233, 963: 0.020360867406058598, 964: 0.02118854494289025, 965: 0.135408045025658, 966: 0.0034762456546929316, 967: 0.010594272471445124, 968: 0.36616454229432216, 969: 0.6235722562489654, 970: 0.014898195662969706, 971: 0.13358715444462838, 972: 0.0014898195662969708, 973: 0.04039066379738454, 974: 0.006621420294653202, 975: 0.0004966065220989903, 976: 0.02251282900182089, 977: 0.00033107101473266014, 978: 0.04850190365833471, 979: 0.0, 980: 0.001986426088395961, 981: 0.0018208905810296308, 982: 0.0374110246647906, 983: 0.0, 984: 0.009932130441979804, 985: 0.002483032610494951, 986: 0.11355735805330243, 987: 0.014898195662969706, 988: 0.0324449594438007, 989: 0.0, 990: 0.01605694421453402, 991: 0.07250455222645258, 992: 0.005131600728356232, 993: 0.002814103625227611, 994: 0.25939414004303923, 995: 0.0, 996: 0.09071345803674888, 997: 0.011256414500910444, 998: 0.037907631186889584, 999: 0.12199966892898527, 1000: 0.006952491309385863, 1001: 0.0, 1002: 0.004800529713623572, 1003: 0.03873530872372123, 1004: 0.031286210892236384, 1005: 0.03691441814269161, 1006: 0.028803178281741434, 1007: 0.08491971527892733, 1008: 0.03923191524582023, 1009: 0.11604039066379739, 1010: 0.08707167687468961, 1011: 0.04502565800364178, 1012: 0.12266181095845058, 1013: 0.10014898195662969, 1014: 0.05595100148981956, 1015: 0.1039562986260553, 1016: 0.057109750041383876, 1017: 0.11388842906803509, 1018: 0.04519119351100811, 1019: 0.2939910610826022, 1020: 0.16156265518953816, 1021: 0.08061579208740274, 1022: 0.2651878828008608, 1023: 0.10395629862605528, 1024: 0.05363350438669095, 1025: 0.11306075153120344, 1026: 0.0033107101473266016, 1027: 0.11686806820062903, 1028: 0.5254097003807316, 1029: 0.26750537990398937, 1030: 0.11802681675219334, 1031: 0.1330905479225294, 1032: 0.2544280748220493, 1033: 0.13011090878993545, 1034: 0.0804502565800364, 1035: 0.44264194669756657, 1036: 0.9771560999834463, 1037: 0.2110577718920708, 1038: 0.0036417811620592616, 1039: 0.0018208905810296308, 1040: 0.0018208905810296308, 1041: 0.2769409038238702, 1042: 0.23770898857804995, 1043: 0.03707995365005794, 1044: 0.013904982618771726, 1045: 0.0, 1046: 0.053799039894057266, 1047: 0.21105777189207084, 1048: 0.0, 1049: 0.20609170667108093, 1050: 0.07664293991061083, 1051: 0.03989405727528555, 1052: 0.0, 1053: 0.012746234067207415, 1054: 0.03426585002483032, 1055: 0.005793742757821552, 1056: 0.020857473928157587, 1057: 0.12299288197318324, 1058: 0.005462671743088893, 1059: 0.21453401754676377, 1060: 0.43949677205760634, 1061: 0.17215692766098328, 1062: 0.0008276775368316504, 1063: 0.010759807978811455, 1064: 0.07780168846217514, 1065: 0.0, 1066: 0.0958450587651051, 1067: 0.012746234067207415, 1068: 0.018043370302929976, 1069: 0.05909617612977984, 1070: 0.0009932130441979805, 1071: 0.0016553550736633006, 1072: 0.0, 1073: 0.6646250620758152, 1074: 0.0, 1075: 0.0, 1076: 0.012580698559841084, 1077: 0.41996358218837937, 1078: 0.1915245820228439, 1079: 0.7475583512663466, 1080: 0.5202780996523755, 1081: 0.2037742095679523, 1082: 0.06522098990233405, 1083: 0.06853170004966065, 1084: 0.3747723886773713, 1085: 0.06075153120344314, 1086: 0.19731832478066544, 1087: 0.006952491309385863, 1088: 0.25906306902830656, 1089: 0.7328256911107431, 1090: 0.6301936765436187, 1091: 0.11455057109750041, 1092: 0.3158417480549578, 1093: 0.3163383545770568, 1094: 0.6364840258235391, 1095: 0.303923191524582, 1096: 0.18142691607349776, 1097: 1.3218010263201454, 1098: 0.0011587485515643105, 1099: 0.09882469789769906, 1100: 0.14534017546763778, 1101: 0.4878331402085747, 1102: 0.0011587485515643105, 1103: 0.18771726535341832, 1104: 0.2691607349776527, 1105: 0.007945704353583844, 1106: 0.0, 1107: 0.0009932130441979805, 1108: 0.0, 1109: 0.0, 1110: 0.0, 1111: 0.05098493626882966, 1112: 0.01605694421453402, 1113: 0.015891408707167688, 1114: 0.011753021023009435, 1115: 0.0, 1116: 0.007283562324118523, 1117: 0.005959278265187882, 1118: 0.00033107101473266014, 1119: 0.012911769574573746, 1120: 0.20940241681840754, 1121: 0.005462671743088893, 1122: 0.0, 1123: 0.015560337692435026, 1124: 0.18506869723555702, 1125: 0.186061910279755, 1126: 0.09005131600728357, 1127: 0.9294818738619434, 1128: 0.058434034100314516, 1129: 0.4406555206091707, 1130: 0.09220327760304585, 1131: 0.13060751531203443, 1132: 0.12862108922363846, 1133: 0.0006621420294653203, 1134: 0.0009932130441979805, 1135: 0.1655355073663301, 1136: 0.9852673398443965, 1137: 0.0, 1138: 0.002814103625227611, 1139: 0.0013242840589306405, 1140: 0.0, 1141: 0.0, 1142: 0.00033107101473266014, 1143: 0.0, 1144: 0.008938917397781824, 1145: 0.0004966065220989903, 1146: 0.0, 1147: 0.16371461678530042, 1148: 0.5965899685482535, 1149: 0.0008276775368316503, 1150: 0.08789935441152126, 1151: 0.013242840589306406, 1152: 0.012415163052474757, 1153: 0.005959278265187882, 1154: 0.007780168846217513, 1155: 0.0, 1156: 0.0, 1157: 0.0, 1158: 0.0, 1159: 0.0, 1160: 0.0013242840589306405, 1161: 0.04270816090051316, 1162: 0.04701208409203774, 1163: 0.005959278265187882, 1164: 0.002317497103128621, 1165: 0.00016553550736633007, 1166: 0.0, 1167: 0.0319483529217017, 1168: 0.005131600728356233, 1169: 0.01936765436186062, 1170: 0.003972852176791922, 1171: 0.22065883131931802, 1172: 0.3790763118688959, 1173: 0.07564972686641284, 1174: 0.002483032610494951, 1175: 0.22132097334878328, 1176: 0.07068366164542295, 1177: 0.07366330077801689, 1178: 0.14666445952656842, 1179: 0.4625062075815263, 1180: 0.028637642774375104, 1181: 0.004469458698890911, 1182: 0.0, 1183: 0.4810461844065552, 1184: 0.04618440655520609, 1185: 0.24068862771064392, 1186: 0.2593941400430392, 1187: 0.07498758483694754, 1188: 0.3818904154941235, 1189: 0.15345141532858797, 1190: 0.0473431551067704, 1191: 0.07035259063069028, 1192: 0.056944214534017545, 1193: 1.105446118192352, 1194: 0.09336202615461016, 1195: 0.0, 1196: 1.943883463002814, 1197: 1.4888263532527723, 1198: 1.6988909121006452, 1199: 0.5222645257407714, 1200: 1.1064393312365501, 1201: 0.47574904817083263, 1202: 0.03856977321635491, 1203: 0.3492799205429564, 1204: 0.4939579539811289, 1205: 0.10594272471445125, 1206: 0.6873034265850024, 1207: 0.5588478728687303, 1208: 0.6571759642443303, 1209: 0.08624399933785797, 1210: 1.7761959940407215, 1211: 0.13838768415825192, 1212: 0.2934944545605032, 1213: 1.027644429730177, 1214: 1.2324118523423273, 1215: 0.5487502069193841, 1216: 0.03989405727528555, 1217: 0.21966561827512, 1218: 0.13921536169508358, 1219: 0.7243833802350603, 1220: 0.7609667273630194, 1221: 1.0907134580367488, 1222: 0.7238867737129613, 1223: 0.2997848038404237, 1224: 0.25095182916735637, 1225: 0.8422446614798874, 1226: 0.11852342327429233, 1227: 0.1261380566131435, 1228: 0.40043039231915245, 1229: 0.0, 1230: 0.8172487998675715, 1231: 0.4044032444959444, 1232: 0.024995861612315838, 1233: 0.6421122330739943, 1234: 0.6272140374110247, 1235: 0.405230922032776, 1236: 0.052640291342492956, 1237: 0.17281906969044858, 1238: 0.20294653203112067, 1239: 0.0, 1240: 1.278430723390167, 1241: 0.03376924350273133, 1242: 0.6651216685979142, 1243: 0.18523423274292333, 1244: 0.4151630524747558, 1245: 0.18904154941234894, 1246: 0.439827843072339, 1247: 0.7240523092203277, 1248: 0.3017712299288197, 1249: 0.4025823539149147, 1250: 0.5495778844562158, 1251: 0.12564145009104452, 1252: 0.7157755338520112, 1253: 0.3246151299453732, 1254: 0.2565800364178116, 1255: 0.027478894222810794, 1256: 0.3554047343155107, 1257: 0.25674557192517794, 1258: 0.5596755504055619, 1259: 1.053633504386691, 1260: 0.19235225955967555, 1261: 0.3016056944214534, 1262: 0.405727528554875, 1263: 0.3817248799867572, 1264: 0.1458367819897368, 1265: 1.3257738784969375, 1266: 0.523092203277603, 1267: 0.4406555206091706, 1268: 0.13391822545936102, 1269: 0.3904982618771726, 1270: 1.5235888097997017, 1271: 0.287369640787949, 1272: 0.3476245654692931, 1273: 0.08541632180102632, 1274: 0.25343486177785135, 1275: 0.40043039231915245, 1276: 0.5638139380897202, 1277: 0.20327760304585332, 1278: 0.6815096838271809, 1279: 0.09832809137560006, 1280: 0.169011753021023, 1281: 0.12464823704684654, 1282: 0.4831981460023175, 1283: 0.20625724217844726, 1284: 0.3280913756000662, 1285: 0.43966230756497265, 1286: 0.12696573414997517, 1287: 0.39513325608342986, 1288: 0.6626386359874192, 1289: 0.09137560006621419, 1290: 0.09998344644926337, 1291: 0.9559675550405562, 1292: 0.32560834298957125, 1293: 0.3888429068035093, 1294: 0.642443304088727, 1295: 0.11769574573746067, 1296: 0.3082271147161066, 1297: 0.22281079291508027, 1298: 0.17248799867571593, 1299: 0.4353583843734481, 1300: 0.18804833636815096, 1301: 0.2092368813110412, 1302: 0.38354577056778677, 1303: 0.16801853997682503, 1304: 0.8632676709154112, 1305: 0.05512332395298791, 1306: 0.07084919715278927, 1307: 0.8771726535341831, 1308: 0.0, 1309: 0.0, 1310: 0.02218175798708823, 1311: 0.0009932130441979803, 1312: 0.011753021023009435, 1313: 0.002483032610494951, 1314: 0.0, 1315: 0.0004966065220989903, 1316: 0.0006621420294653203, 1317: 0.015394802185068696, 1318: 0.0, 1319: 0.0, 1320: 0.38437344810461843, 1321: 0.2636980632345638, 1322: 0.005628207250455222, 1323: 0.006621420294653203, 1324: 0.003972852176791922, 1325: 0.0036417811620592616, 1326: 0.015394802185068699, 1327: 0.12663466313524252, 1328: 0.005462671743088892, 1329: 0.009601059427247144, 1330: 0.044860122496275454, 1331: 0.02002979639132594, 1332: 0.03840423770898858, 1333: 0.36351597417646087, 1334: 0.1413673232908459, 1335: 0.004966065220989902, 1336: 0.015063731170336036, 1337: 0.02946532031120675, 1338: 0.0, 1339: 0.2910114219500083, 1340: 0.11372289356066875, 1341: 0.016222479721900347, 1342: 0.09452077470617448, 1343: 0.32444959443800697, 1344: 0.18804833636815096, 1345: 0.251779506704188, 1346: 0.06919384207912596, 1347: 0.20029796391325938, 1348: 0.1200132428405893, 1349: 0.005628207250455222, 1350: 0.18523423274292336, 1351: 0.015725873199801357, 1352: 0.03343817248799867, 1353: 0.07184241019698726, 1354: 0.13904982618771725, 1355: 0.02665121668597914, 1356: 0.697070021519616, 1357: 0.2724714451249793, 1358: 0.6965734149975169, 1359: 0.06671080946863102, 1360: 0.0011587485515643105, 1361: 0.09882469789769906, 1362: 0.05793742757821553, 1363: 0.034100314517463995, 1364: 0.0011587485515643105, 1365: 0.024664790597583183, 1366: 0.04138387684158251, 1367: 0.1320973348783314, 1368: 0.0, 1369: 0.002151961595762291, 1370: 0.5609998344644926, 1371: 0.3269326270485019, 1372: 0.49031617281906964, 1373: 0.20576063565634828, 1374: 0.8088064889918887, 1375: 0.4365171329250124, 1376: 0.590299619268333, 1377: 0.41483198146002315, 1378: 0.2521105777189207, 1379: 0.12829001820890581, 1380: 0.33984439662307564, 1381: 0.067704022512829, 1382: 0.04585333554047343, 1383: 0.002151961595762291, 1384: 0.002648568117861281, 1385: 0.20046349942062575, 1386: 0.00016553550736633007, 1387: 0.9816255586823373, 1388: 0.11388842906803509, 1389: 0.04452905148154279, 1390: 0.04502565800364178, 1391: 0.4178116205926171, 1392: 0.12084092037742095, 1393: 0.6818407548419136, 1394: 0.8341334216189371, 1395: 0.12845555371627215, 1396: 0.5772223141863929, 1397: 0.031451746399602715, 1398: 0.023174971031286212, 1399: 0.040556199304750865, 1400: 0.0, 1401: 0.06985598410859128, 1402: 0.0, 1403: 0.0, 1404: 0.031286210892236384, 1405: 0.1877172653534183, 1406: 0.010594272471445124, 1407: 0.4105280582684986, 1408: 0.5153120344313855, 1409: 0.14318821387187552, 1410: 0.029630855818573082, 1411: 0.21122330739943718, 1412: 0.010759807978811455, 1413: 0.02350604204601887, 1414: 0.07829829498427412, 1415: 0.01721569276609833, 1416: 0.10975004138387684, 1417: 0.014070518126138055, 1418: 0.0, 1419: 0.07084919715278926, 1420: 0.0038073166694255916, 1421: 0.006786955802019533, 1422: 0.09319649064724383, 1423: 0.010097665949346133, 1424: 0.0, 1425: 0.07283562324118523, 1426: 0.006952491309385862, 1427: 0.008442310875682833, 1428: 0.01953318986922695, 1429: 0.13557358053302432, 1430: 0.0, 1431: 0.06969044860122495, 1432: 0.032776030458533355, 1433: 0.0008276775368316503, 1434: 0.0013242840589306405, 1435: 0.0, 1436: 0.003145174639960271, 1437: 0.008607846383049164, 1438: 0.1051150471776196, 1439: 0.011256414500910444, 1440: 0.02565800364178116, 1441: 0.2108922363847045, 1442: 0.02383711306075153, 1443: 0.0, 1444: 0.0033107101473266016, 1445: 0.03608674060585996, 1446: 0.1079291508028472, 1447: 0.020691938420791263, 1448: 0.0, 1449: 0.26022181757987084, 1450: 0.007945704353583844, 1451: 0.0, 1452: 0.0, 1453: 0.039397450753186555, 1454: 0.032610494951167024, 1455: 0.007780168846217514, 1456: 0.018208905810296307, 1457: 0.10660486674391657, 1458: 0.006455884787286873, 1459: 0.15494123489488495, 1460: 0.029796391325939416, 1461: 0.05859956960768085, 1462: 0.0, 1463: 0.013077305081940077, 1464: 0.0610826022181758, 1465: 0.05744082105611654, 1466: 0.3592120509849363, 1467: 0.0, 1468: 0.04188048336368151, 1469: 0.0, 1470: 0.0006621420294653203, 1471: 0.002483032610494951, 1472: 0.0203608674060586, 1473: 0.015063731170336037, 1474: 0.03707995365005794, 1475: 0.02681675219334547, 1476: 0.2299288197318325, 1477: 0.009932130441979804, 1478: 0.0, 1479: 0.21999668928985266, 1480: 0.11372289356066875, 1481: 0.0, 1482: 0.029630855818573082, 1483: 0.043204767422612145, 1484: 0.06224135076974011, 1485: 0.2943221320973348, 1486: 0.002317497103128621, 1487: 0.060089389173977825, 1488: 0.10925343486177785, 1489: 0.010097665949346135, 1490: 0.005297136235722562, 1491: 0.0, 1492: 0.0, 1493: 0.005131600728356232, 1494: 0.005462671743088892, 1495: 0.005628207250455223, 1496: 0.011587485515643103, 1497: 0.011421950008276775, 1498: 0.051481542790928654, 1499: 0.10461844065552062, 1500: 0.61479887435855, 1501: 0.004303923191524582, 1502: 0.004469458698890911, 1503: 0.0402251282900182, 1504: 0.007283562324118524, 1505: 0.0, 1506: 0.0, 1507: 0.015891408707167688, 1508: 0.014898195662969706, 1509: 0.011421950008276775, 1510: 0.0004966065220989903, 1511: 0.011587485515643106, 1512: 0.0, 1513: 0.30011587485515645, 1514: 0.0016553550736633008, 1515: 0.050322794239364345, 1516: 0.026816752193345474, 1517: 0.6018871047839762, 1518: 0.16719086243999337, 1519: 0.002814103625227611, 1520: 0.0036417811620592616, 1521: 0.0, 1522: 0.0013242840589306405, 1523: 0.02085747392815759, 1524: 0.0, 1525: 0.011256414500910444, 1526: 0.02284390001655355, 1527: 0.7109750041383877, 1528: 0.00016553550736633007, 1529: 0.010428736964078793, 1530: 0.0, 1531: 0.004138387684158252, 1532: 0.002151961595762291, 1533: 0.012911769574573746, 1534: 0.0021519615957622906, 1535: 0.04800529713623572, 1536: 0.0, 1537: 0.20311206753848698, 1538: 0.0009932130441979805, 1539: 0.0036417811620592616, 1540: 0.0, 1541: 0.09236881311041217, 1542: 0.11190200297963913, 1543: 0.0014898195662969708, 1544: 0.48998510180433696, 1545: 0.0390663797384539, 1546: 0.02549246813441483, 1547: 0.015891408707167688, 1548: 0.0004966065220989903, 1549: 0.006621420294653202, 1550: 0.020857473928157587, 1551: 0.010428736964078793, 1552: 0.41450091044529047, 1553: 0.0018208905810296308, 1554: 0.05777189207084919, 1555: 0.00033107101473266014, 1556: 0.07449097831484854, 1557: 0.0, 1558: 0.00016553550736633007, 1559: 0.0, 1560: 0.0, 1561: 0.0016553550736633008, 1562: 0.17050157258731996, 1563: 0.019202118854494292, 1564: 0.01853997682502897, 1565: 0.005628207250455222, 1566: 0.20989902334050653, 1567: 0.0036417811620592616, 1568: 0.0, 1569: 0.36517132925012413, 1570: 0.011587485515643106, 1571: 0.02251282900182089, 1572: 0.013077305081940075, 1573: 0.6697566628041713, 1574: 0.004800529713623572, 1575: 0.005131600728356232, 1576: 0.0, 1577: 0.0, 1578: 0.0, 1579: 0.0004966065220989903, 1580: 1.3818904154941234, 1581: 0.02251282900182089, 1582: 0.02251282900182089, 1583: 0.011090878993544115, 1584: 0.7300115874855156, 1585: 0.011753021023009434, 1586: 0.22628703856977322, 1587: 0.26402913424929647, 1588: 0.10478397616288693, 1589: 0.2135408045025658, 1590: 0.15096838271809304, 1591: 0.15394802185068698, 1592: 0.031120675384870053, 1593: 0.058102963085581855, 1594: 0.1650389008442311, 1595: 0.013573911604039068, 1596: 0.013739447111405395, 1597: 0.3714616785300447, 1598: 0.035590134083760966, 1599: 0.013242840589306408, 1600: 0.0253269326270485, 1601: 0.024830326104949514, 1602: 0.009932130441979804, 1603: 0.13557358053302432, 1604: 0.02069193842079126, 1605: 0.02615461016388015, 1606: 0.026154610163880154, 1607: 0.0, 1608: 0.5290514815427909, 1609: 0.016719086243999336, 1610: 0.9574573746068531, 1611: 0.10097665949346135, 1612: 0.021023009435523918, 1613: 0.011090878993544113, 1614: 0.16934282403575568, 1615: 0.1122330739943718, 1616: 0.1579208740274789, 1617: 1.4057275285548747, 1618: 0.0, 1619: 0.15758980301274622, 1620: 0.16090051316007284, 1621: 0.033603707995365, 1622: 0.0016553550736633006, 1623: 0.03161728190696904, 1624: 0.015063731170336037, 1625: 0.4586988909121006, 1626: 0.024002648568117856, 1627: 0.09352756166197648, 1628: 0.0, 1629: 0.037907631186889584, 1630: 0.0, 1631: 0.01853997682502897, 1632: 0.005131600728356232, 1633: 0.1282900182089058, 1634: 0.0, 1635: 0.26171163714616785, 1636: 0.0018208905810296308, 1637: 0.0, 1638: 0.0, 1639: 0.5120013242840589, 1640: 0.02780996523754345, 1641: 0.6613143519284886, 1642: 0.028306571759642442, 1643: 0.13474590299619266, 1644: 0.13904982618771725, 1645: 0.37046846548584667, 1646: 0.027644429730177122, 1647: 0.02814103625227611, 1648: 0.08690614136732329, 1649: 0.10627379572918391, 1650: 0.019698725376593278, 1651: 0.005297136235722562, 1652: 0.0016553550736633008, 1653: 0.5687800033107101, 1654: 0.034265850024830326, 1655: 0.02251282900182089, 1656: 0.006952491309385863, 1657: 0.010097665949346135, 1658: 0.041052805826849864, 1659: 0.002317497103128621, 1660: 0.07780168846217514, 1661: 0.033603707995365, 1662: 0.006455884787286872, 1663: 0.3928157589803013, 1664: 0.0034762456546929316, 1665: 0.058102963085581855, 1666: 0.004634994206257242, 1667: 0.0390663797384539, 1668: 0.013739447111405395, 1669: 0.01820890581029631, 1670: 0.039066379738453894, 1671: 0.008442310875682833, 1672: 0.14815427909286544, 1673: 0.5778844562158583, 1674: 0.5659658996854825, 1675: 0.004138387684158252, 1676: 0.5148154279092865, 1677: 0.012746234067207417, 1678: 0.24648237046846547, 1679: 0.005959278265187882, 1680: 0.22877007118026815, 1681: 0.030955139877503722, 1682: 0.5158086409534844, 1683: 0.102300943552392, 1684: 0.028141036252276114, 1685: 0.002151961595762291, 1686: 0.04254262539314683, 1687: 0.1205098493626883, 1688: 0.13904982618771727, 1689: 0.10561165369971857, 1690: 0.32643602052640286, 1691: 0.0, 1692: 0.007449097831484853, 1693: 0.16752193345472602, 1694: 0.2492964740936931, 1695: 0.013242840589306406, 1696: 0.014236053633504386, 1697: 0.0, 1698: 0.0, 1699: 0.07382883628538321, 1700: 0.0, 1701: 0.11852342327429233, 1702: 0.0930309551398775, 1703: 0.02069193842079126, 1704: 0.9066379738453898, 1705: 0.0, 1706: 0.0, 1707: 0.03376924350273133, 1708: 0.0, 1709: 0.00033107101473266014, 1710: 0.0, 1711: 0.25922860453567287, 1712: 0.0, 1713: 0.08823042542625392, 1714: 0.0, 1715: 0.0034762456546929316, 1716: 0.0, 1717: 0.1668597914252607, 1718: 0.0014898195662969708, 1719: 0.21188544942890247, 1720: 0.0006621420294653203, 1721: 0.7818242012911769, 1722: 0.4135076974010925, 1723: 0.0, 1724: 0.0004966065220989903, 1725: 0.012415163052474755, 1726: 0.042211554378414166, 1727: 0.08194007614633339, 1728: 0.006455884787286873, 1729: 0.35043866909452076, 1730: 0.08657507035259063, 1731: 0.009269988412514484, 1732: 0.5477569938751862, 1733: 0.03161728190696904, 1734: 0.11057771892070849, 1735: 0.10445290514815428, 1736: 0.0, 1737: 0.0, 1738: 0.0, 1739: 0.007283562324118524, 1740: 0.0, 1741: 0.0016553550736633008, 1742: 0.0, 1743: 0.005297136235722562, 1744: 0.023174971031286212, 1745: 0.0, 1746: 0.01721569276609833, 1747: 0.42658500248303255, 1748: 0.4740936930971693, 1749: 0.003972852176791922, 1750: 0.015394802185068699, 1751: 0.0, 1752: 0.060585995696076804, 1753: 0.08392650223472935, 1754: 0.1668597914252607, 1755: 0.013573911604039065, 1756: 0.014567124648237046, 1757: 0.0, 1758: 0.046184406555206094, 1759: 0.024664790597583183, 1760: 0.040556199304750865, 1761: 0.0, 1762: 0.08425757324946201, 1763: 0.0, 1764: 0.0004966065220989903, 1765: 0.0, 1766: 0.0, 1767: 0.008607846383049162, 1768: 0.0, 1769: 0.13640125806985598, 1770: 0.007283562324118523, 1771: 0.01721569276609833, 1772: 0.06588313193179937, 1773: 0.0008276775368316503, 1774: 0.0, 1775: 0.0, 1776: 0.0, 1777: 0.4156596589968548, 1778: 0.0, 1779: 0.17679192186724052, 1780: 0.004303923191524581, 1781: 0.0, 1782: 0.0033107101473266016, 1783: 0.08243668266843238, 1784: 0.796887932461513, 1785: 0.07995365005793742, 1786: 0.0, 1787: 0.0011587485515643105, 1788: 0.05164707829829498, 1789: 0.0, 1790: 0.0, 1791: 0.017546763780830987, 1792: 0.18225459361032942, 1793: 0.002814103625227611, 1794: 0.07018705512332396, 1795: 0.0006621420294653203, 1796: 0.0018208905810296306, 1797: 0.08872703194835291, 1798: 0.009601059427247144, 1799: 0.08806488991888758, 1800: 0.0, 1801: 0.15212713126965732, 1802: 0.0, 1803: 0.0, 1804: 0.039397450753186555, 1805: 0.26700877338189044, 1806: 0.06555206091706671, 1807: 0.006124813772554213, 1808: 0.0, 1809: 0.017712299288197317, 1810: 0.15477569938751862, 1811: 0.004303923191524581, 1812: 0.013408376096672735, 1813: 0.0, 1814: 0.010428736964078793, 1815: 0.00033107101473266014, 1816: 0.03343817248799867, 1817: 0.003641781162059262, 1818: 0.0, 1819: 0.0, 1820: 0.0, 1821: 0.08723721238205595, 1822: 0.0038073166694255916, 1823: 0.0, 1824: 0.04651547756993875, 1825: 0.012415163052474755, 1826: 0.006290349279920542, 1827: 0.06174474424764112, 1828: 0.0, 1829: 0.013408376096672735, 1830: 0.0008276775368316503, 1831: 0.21171991392153616, 1832: 0.0006621420294653203, 1833: 0.09352756166197648, 1834: 0.2565800364178116, 1835: 0.1436848203939745, 1836: 0.05413011090878993, 1837: 0.01738122827346466, 1838: 0.0, 1839: 0.016719086243999336, 1840: 0.0643933123655024, 1841: 0.032776030458533355, 1842: 0.0013242840589306405, 1843: 0.0004966065220989903, 1844: 0.014236053633504386, 1845: 0.14931302764442972, 1846: 0.008607846383049164, 1847: 0.0, 1848: 0.07118026816752193, 1849: 0.002483032610494951, 1850: 0.005628207250455222, 1851: 0.0013242840589306405, 1852: 0.00033107101473266014, 1853: 0.0036417811620592616, 1854: 0.015394802185068697, 1855: 0.028306571759642442, 1856: 0.029796391325939413, 1857: 0.007614633338851183, 1858: 0.07614633338851184, 1859: 0.015560337692435028, 1860: 0.020857473928157587, 1861: 0.0016553550736633008, 1862: 0.042211554378414166, 1863: 0.03327263698063235, 1864: 0.002814103625227611, 1865: 0.02300943552391988, 1866: 0.07531865585168018, 1867: 0.010263201456712464, 1868: 0.0006621420294653203, 1869: 0.012249627545108426, 1870: 0.03393477901009767, 1871: 0.002648568117861281, 1872: 0.003972852176791922, 1873: 0.13077305081940074, 1874: 0.010759807978811455, 1875: 0.07300115874855156, 1876: 0.387684158251945, 1877: 0.0011587485515643105, 1878: 0.002648568117861281, 1879: 0.012580698559841084, 1880: 0.010263201456712464, 1881: 0.024830326104949514, 1882: 0.13375268995199469, 1883: 0.3183247806654527, 1884: 0.12696573414997517, 1885: 0.319980135739116, 1886: 0.0018208905810296308, 1887: 0.017712299288197317, 1888: 0.14649892401920211, 1889: 0.02267836450918722, 1890: 0.001986426088395961, 1891: 0.002317497103128621, 1892: 0.15494123489488493, 1893: 0.009104452905148153, 1894: 0.17298460519781494, 1895: 0.13126965734149976, 1896: 0.01986426088395961, 1897: 0.06240688627710644, 1898: 0.007118026816752193, 1899: 0.002317497103128621, 1900: 0.03327263698063235, 1901: 0.002648568117861281, 1902: 0.012084092037742095, 1903: 0.002151961595762291, 1904: 0.05346796887932462, 1905: 0.00033107101473266014, 1906: 0.012911769574573746, 1907: 0.23638470451911933, 1908: 0.0, 1909: 0.45687800033107095, 1910: 0.02185068697235557, 1911: 0.2052640291342493, 1912: 0.4999172322463168, 1913: 0.08243668266843238, 1914: 0.1971527892732991, 1915: 0.0006621420294653203, 1916: 0.18093030955139877, 1917: 0.47806654527396125, 1918: 0.27263698063234565, 1919: 0.04337030292997848, 1920: 0.1259725211057772, 1921: 0.3100480052971362, 1922: 0.02350604204601887, 1923: 0.7520278099652375, 1924: 0.08359543121999669, 1925: 0.02019533189869227, 1926: 0.013904982618771726, 1927: 0.151961595762291, 1928: 0.011587485515643106, 1929: 0.04055619930475087, 1930: 0.002483032610494951, 1931: 0.1200132428405893, 1932: 0.015229266677702368, 1933: 0.009601059427247144, 1934: 0.0423770898857805, 1935: 0.051812613805661316, 1936: 0.035259063069028304, 1937: 0.029299784803840424, 1938: 0.0577718920708492, 1939: 0.13126965734149976, 1940: 0.048005297136235726, 1941: 0.055454394967720574, 1942: 0.06257242178447277, 1943: 0.02284390001655355, 1944: 0.18407548419135902, 1945: 0.3009435523919881, 1946: 0.10826022181757987, 1947: 0.3792418473762622, 1948: 0.101804337030293, 1949: 0.118357887766926, 1950: 0.1953318986922695, 1951: 0.09021685151464989, 1952: 0.3630193676543618, 1953: 0.5161397119682172, 1954: 0.6003972852176792, 1955: 0.202615461016388, 1956: 0.271809303095514, 1957: 0.32875351762953153, 1958: 0.24416487336533688, 1959: 0.30011587485515645, 1960: 0.32875351762953153, 1961: 0.76229101142195, 1962: 0.32908458864426415, 1963: 0.1387187551729846, 1964: 0.15477569938751862, 1965: 0.3913259394140043, 1966: 0.09865916239033272, 1967: 0.26436020526402915, 1968: 0.8693924846879655, 1969: 0.07664293991061083, 1970: 0.08690614136732329, 1971: 0.06588313193179937, 1972: 0.050819400761463324, 1973: 0.06008938917397782, 1974: 0.11306075153120346, 1975: 0.04982618771726535, 1976: 0.0456878000331071, 1977: 0.04287369640787949, 1978: 0.026816752193345474, 1979: 0.02681675219334547, 1980: 0.020857473928157587, 1981: 0.01969872537659328, 1982: 0.2444959443800695, 1983: 0.06406224135076974, 1984: 0.02317497103128621, 1985: 0.03724548915742427, 1986: 0.030458533355404736, 1987: 0.02780996523754345, 1988: 0.013242840589306406, 1989: 0.002648568117861281, 1990: 0.0036417811620592616, 1991: 0.07713954643270982, 1992: 0.028306571759642442, 1993: 0.019698725376593278, 1994: 0.3885118357887767, 1995: 0.05032279423936434, 1996: 0.0220162224797219, 1997: 0.43088892567455717, 1998: 0.02019533189869227, 1999: 0.042542625393146835, 2000: 0.9266677702367158, 2001: 0.5081940076146333, 2002: 0.3433206422777686, 2003: 0.33885118357887767, 2004: 0.11637146167853005, 2005: 0.32213209733487835, 2006: 0.4971031286210892, 2007: 0.02135408045025658, 2008: 0.004634994206257242, 2009: 0.19317993709650716, 2010: 0.22363847045191193, 2011: 0.5379903989405728, 2012: 0.4984274126800199, 2013: 0.2901837444131766, 2014: 0.06637973845389836, 2015: 0.16040390663797385, 2016: 0.03277603045853335, 2017: 0.057937427578215524, 2018: 0.26700877338189044, 2019: 0.409203774209568, 2020: 0.41532858798212213, 2021: 0.3489488495282238, 2022: 0.11090878993544115, 2023: 0.3694752524416487, 2024: 0.05992385366661149, 2025: 0.09832809137560007, 2026: 0.04684654858467141, 2027: 0.03476245654692932, 2028: 1.7536831650389004, 2029: 0.03774209567952326, 2030: 0.0, 2031: 0.012911769574573746, 2032: 0.014401589140870717, 2033: 0.08111239860950173, 2034: 0.1034596921039563, 2035: 0.01754676378083099, 2036: 0.022181757987088227, 2037: 0.02400264856811786, 2038: 0.07366330077801689, 2039: 0.00016553550736633007, 2040: 0.042046018871047836, 2041: 0.05148154279092865, 2042: 0.059427247144512495, 2043: 0.06803509352756165, 2044: 0.017877834795563645, 2045: 0.02416818407548419, 2046: 0.2653534183082271, 2047: 0.007945704353583844, 2048: 0.06141367323290846, 2049: 0.016388015229266674, 2050: 0.03376924350273133, 2051: 0.031451746399602715, 2052: 0.06720741599073002, 2053: 0.10081112398609501, 2054: 0.3996027147823208, 2055: 0.009932130441979804, 2056: 0.008938917397781822, 2057: 0.039397450753186555, 2058: 0.40721734812117194, 2059: 0.10445290514815428, 2060: 0.06488991888760139, 2061: 0.0016553550736633008, 2062: 0.023174971031286212, 2063: 0.0033107101473266016, 2064: 0.44843568945538814, 2065: 0.2218175798708823, 2066: 0.062075815262373775, 2067: 0.30061248137725544, 2068: 0.06025492468134415, 2069: 0.06836616454229433, 2070: 0.12514484356894554, 2071: 0.08541632180102632, 2072: 0.10743254428074822, 2073: 0.031120675384870053, 2074: 0.007118026816752193, 2075: 0.041714947856315174, 2076: 0.33603707995365, 2077: 0.06803509352756167, 2078: 0.32295977487170996, 2079: 0.005959278265187882, 2080: 0.4353583843734481, 2081: 0.510511504717762, 2082: 0.12812448270153948, 2083: 0.11802681675219333, 2084: 0.031451746399602715, 2085: 0.2494620096010594, 2086: 0.013077305081940075, 2087: 0.2739612646912763, 2088: 0.1481542790928654, 2089: 0.09452077470617448, 2090: 0.10279755007449098, 2091: 0.06704188048336368, 2092: 0.0456878000331071, 2093: 0.10610826022181757, 2094: 0.31683496109915577, 2095: 0.038404237708988584, 2096: 0.2312531037907631, 2097: 0.08905810296308558, 2098: 0.026154610163880154, 2099: 0.09783148485350107, 2100: 0.5336864757490482, 2101: 0.006455884787286873, 2102: 0.08889256745571926, 2103: 0.014567124648237045, 2104: 0.01920211885449429, 2105: 0.44148319814600234, 2106: 0.0665452739612647, 2107: 0.06257242178447278, 2108: 0.4194669756662804, 2109: 0.2777685813607018, 2110: 0.15378248634332065, 2111: 0.12613805661314353, 2112: 0.14285714285714285, 2113: 0.016719086243999336, 2114: 0.11206753848700544, 2115: 0.559178943883463, 2116: 0.18986922694918057, 2117: 0.1388842906803509, 2118: 0.1777851349114385, 2119: 0.032610494951167024, 2120: 0.08624399933785797, 2121: 0.07349776527065055, 2122: 0.06008938917397782, 2123: 0.07366330077801689, 2124: 0.3042542625393147, 2125: 0.20840920377420957, 2126: 0.15874855156431056, 2127: 0.001986426088395961, 2128: 0.012580698559841084, 2129: 0.0038073166694255916, 2130: 0.15874855156431056, 2131: 0.014070518126138055, 2132: 0.15229266677702366, 2133: 0.23737791756331733, 2134: 0.22065883131931796, 2135: 0.08740274788942227, 2136: 0.08525078629365998, 2137: 0.23274292335706007, 2138: 0.1536169508359543, 2139: 0.19334547260387352, 2140: 0.34712795894719417, 2141: 0.17662638635987418, 2142: 0.06671080946863102, 2143: 0.15328587982122166, 2144: 0.36798543287535174, 2145: 0.3047508690614137, 2146: 0.1287866247310048, 2147: 0.07713954643270982, 2148: 0.06406224135076974, 2149: 0.025658003641781158, 2150: 0.33852011256414494, 2151: 0.05413011090878994, 2152: 0.015394802185068696, 2153: 0.06803509352756165, 2154: 0.04585333554047343, 2155: 0.11554378414169839, 2156: 0.003807316669425591, 2157: 0.008442310875682833, 2158: 0.006786955802019533, 2159: 0.10842575732494619, 2160: 0.3477901009766595, 2161: 0.3270981625558682, 2162: 0.056613143519284884, 2163: 0.06919384207912596, 2164: 0.004303923191524582, 2165: 0.04701208409203774, 2166: 0.06588313193179937, 2167: 0.39778182420129116, 2168: 0.028637642774375104, 2169: 0.04121834133421619, 2170: 0.03856977321635491, 2171: 0.10279755007449098, 2172: 0.0014898195662969708, 2173: 0.05032279423936434, 2174: 0.7242178447276941, 2175: 0.007780168846217513, 2176: 0.08856149644098658, 2177: 0.028306571759642442, 2178: 0.047343155106770396, 2179: 0.014567124648237046, 2180: 0.02350604204601887, 2181: 0.05065386525409701, 2182: 0.053136897864591956, 2183: 0.07498758483694752, 2184: 0.06439331236550239, 2185: 0.006621420294653202, 2186: 0.288362853832147, 2187: 0.010263201456712464, 2188: 0.0935275616619765, 2189: 0.010263201456712464, 2190: 0.01936765436186062, 2191: 0.0016553550736633008, 2192: 0.0016553550736633006, 2193: 0.38073166694255917, 2194: 0.6205926171163714, 2195: 0.05164707829829498, 2196: 0.008276775368316504, 2197: 0.005793742757821552, 2198: 0.0008276775368316503, 2199: 0.0, 2200: 0.002814103625227611, 2201: 0.007118026816752193, 2202: 0.09783148485350107, 2203: 0.13176626386359874, 2204: 0.04519119351100811, 2205: 0.013573911604039065, 2206: 0.08210561165369973, 2207: 0.0016553550736633008, 2208: 0.12233073994371793, 2209: 0.005462671743088892, 2210: 0.02284390001655355, 2211: 0.008276775368316502, 2212: 0.05810296308558186, 2213: 0.00016553550736633007, 2214: 0.0004966065220989903, 2215: 0.003145174639960271, 2216: 0.0, 2217: 0.00016553550736633007, 2218: 0.00033107101473266014, 2219: 0.0038073166694255916, 2220: 0.0, 2221: 0.004634994206257242, 2222: 0.0, 2223: 0.0016553550736633008, 2224: 0.0, 2225: 0.0, 2226: 0.0004966065220989903, 2227: 0.009766594934613473, 2228: 0.0, 2229: 0.0, 2230: 0.0, 2231: 0.15096838271809304, 2232: 0.11322628703856977, 2233: 0.0011587485515643105, 2234: 0.001986426088395961, 2235: 0.00033107101473266014, 2236: 0.08707167687468961, 2237: 0.020857473928157587, 2238: 0.0402251282900182, 2239: 0.04436351597417646, 2240: 0.09998344644926337, 2241: 0.043535838437344807, 2242: 0.001986426088395961, 2243: 0.4101969872537659, 2244: 0.0008276775368316503, 2245: 0.2108922363847045, 2246: 0.004966065220989902, 2247: 0.14401589140870716, 2248: 0.5164707829829498, 2249: 0.08293328919053136, 2250: 0.01804337030292998, 2251: 0.0004966065220989903, 2252: 0.06340009932130442, 2253: 0.14070518126138054, 2254: 0.0, 2255: 0.02549246813441483, 2256: 0.006621420294653202, 2257: 0.006786955802019533, 2258: 0.0009932130441979805, 2259: 0.05744082105611654, 2260: 0.019533189869226947, 2261: 0.06786955802019533, 2262: 0.135408045025658, 2263: 0.05363350438669095, 2264: 0.022347293494454558, 2265: 0.01853997682502897, 2266: 0.06472438338023506, 2267: 0.02267836450918722, 2268: 0.5431219996689289, 2269: 0.06273795729183909, 2270: 0.0, 2271: 0.029134249296474096, 2272: 0.04668101307730508, 2273: 0.28935606687634496, 2274: 0.0, 2275: 0.03426585002483032, 2276: 0.03592120509849363, 2277: 0.0, 2278: 0.39546432709816254, 2279: 0.07250455222645256, 2280: 0.051647078298294985, 2281: 0.004966065220989902, 2282: 0.16255586823373613, 2283: 0.01936765436186062, 2284: 0.023671577553385198, 2285: 0.02681675219334547, 2286: 0.012249627545108426, 2287: 0.12680019864260883, 2288: 0.3996027147823208, 2289: 0.5666280417149478, 2290: 0.04982618771726536, 2291: 0.7473928157589802, 2292: 0.003972852176791922, 2293: 0.008607846383049164, 2294: 0.2982949842741268, 2295: 0.03774209567952326, 2296: 0.038238702201622246, 2297: 0.1276278761794405, 2298: 0.002814103625227611, 2299: 0.002483032610494951, 2300: 0.39165701042873696, 2301: 0.16669425591789439, 2302: 0.5555371627214037, 2303: 0.17662638635987418, 2304: 0.002648568117861281, 2305: 0.012415163052474755, 2306: 0.0253269326270485, 2307: 0.012580698559841086, 2308: 0.00033107101473266014, 2309: 0.0008276775368316503, 2310: 0.06671080946863102, 2311: 0.21006455884787287, 2312: 0.15146498924019203, 2313: 0.2539314682999503, 2314: 0.04254262539314683, 2315: 0.03890084423108757, 2316: 0.0826022181757987, 2317: 0.002979639132593941, 2318: 0.16437675881476577, 2319: 0.0, 2320: 0.06505545439496772, 2321: 0.6109915576891243, 2322: 0.10759807978811453, 2323: 0.01986426088395961, 2324: 0.722728025161397, 2325: 0.0423770898857805, 2326: 0.004800529713623572, 2327: 0.033934779010097664, 2328: 0.059758318159245156, 2329: 0.37295149809634165, 2330: 0.052640291342492956, 2331: 0.08028472107267008, 2332: 0.003641781162059261, 2333: 0.29995033934779014, 2334: 0.15543784141698394, 2335: 0.13060751531203443, 2336: 0.5351762953153452, 2337: 0.050322794239364345, 2338: 0.06671080946863102, 2339: 0.009601059427247144, 2340: 0.1413673232908459, 2341: 0.018043370302929976, 2342: 0.005959278265187883, 2343: 0.00033107101473266014, 2344: 0.08922363847045191, 2345: 0.018871047839761627, 2346: 0.11802681675219334, 2347: 0.044860122496275454, 2348: 0.13954643270981626, 2349: 0.07631186889587815, 2350: 0.006290349279920542, 2351: 0.06952491309385862, 2352: 0.4512497930806158, 2353: 0.5062075815262373, 2354: 0.04800529713623572, 2355: 0.9526568448932295, 2356: 0.03360370799536501, 2357: 0.1320973348783314, 2358: 0.0011587485515643105, 2359: 0.3756000662142029, 2360: 0.06737295149809633, 2361: 0.06621420294653202, 2362: 0.020857473928157587, 2363: 0.1387187551729846, 2364: 0.04105280582684986, 2365: 0.04817083264360205, 2366: 0.38404237708988576, 2367: 0.10296308558185731, 2368: 0.011421950008276775, 2369: 0.33107101473266015, 2370: 0.06406224135076974, 2371: 0.2746234067207416, 2372: 0.08078132759476907, 2373: 0.058434034100314516, 2374: 0.08425757324946201, 2375: 0.1387187551729846, 2376: 0.1299453732825691, 2377: 0.07780168846217514, 2378: 0.14947856315179606, 2379: 0.05793742757821553, 2380: 0.04303923191524582, 2381: 0.03443138553219666, 2382: 0.028637642774375104, 2383: 0.028803178281741434, 2384: 0.2340672074159907, 2385: 0.04552226452574077, 2386: 0.009435523919880815, 2387: 0.07349776527065055, 2388: 0.005462671743088893, 2389: 0.08011918556530376, 2390: 0.1718258566462506, 2391: 0.38387684158251945, 2392: 0.05760635656348287, 2393: 0.3822214865088561, 2394: 0.2736301936765436, 2395: 0.6541963251117364, 2396: 1.4181426916073496, 2397: 0.008442310875682833, 2398: 0.1805992385366661, 2399: 0.07134580367488827, 2400: 0.013904982618771725, 2401: 0.14070518126138054, 2402: 0.14252607184241017, 2403: 0.18887601390498263, 2404: 0.08574739281575898, 2405: 0.26949180599238537, 2406: 0.6772057606356563, 2407: 0.473928157589803, 2408: 0.07118026816752193, 2409: 0.17629531534514153, 2410: 0.14103625227611322, 2411: 0.11455057109750041, 2412: 0.06571759642443303, 2413: 0.1734812117199139, 2414: 0.1766263863598742, 2415: 0.003145174639960271, 2416: 0.13772554212878663, 2417: 0.02814103625227611, 2418: 0.04287369640787948, 2419: 0.02648568117861281, 2420: 0.1969872537659328, 2421: 0.1496440986591624, 2422: 0.06737295149809636, 2423: 0.24780665452739614, 2424: 0.35523919880814436, 2425: 0.031120675384870053, 2426: 0.010428736964078793, 2427: 0.3659990067869558, 2428: 0.19847707333222978, 2429: 0.060917066710809466, 2430: 0.056613143519284884, 2431: 0.17629531534514153, 2432: 0.056944214534017545, 2433: 0.28389339513325607, 2434: 0.026154610163880147, 2435: 0.03592120509849363, 2436: 0.05859956960768085, 2437: 0.03608674060585995, 2438: 0.0006621420294653203, 2439: 0.10014898195662969, 2440: 0.023174971031286212, 2441: 0.011090878993544113, 2442: 0.08045025658003642, 2443: 0.060585995696076804, 2444: 0.002317497103128621, 2445: 0.02251282900182089, 2446: 0.016388015229266674, 2447: 0.09899023340506538, 2448: 0.05081940076146333, 2449: 0.006786955802019533, 2450: 0.10710147326601556, 2451: 0.03509352756166198, 2452: 0.003476245654692931, 2453: 0.07167687468962092, 2454: 0.20774706174474425, 2455: 0.5040556199304751, 2456: 0.07862936599900679, 2457: 0.12233073994371792, 2458: 0.03956298626055289, 2459: 0.09733487833140209, 2460: 0.0319483529217017, 2461: 0.017877834795563645, 2462: 0.010759807978811455, 2463: 0.21171991392153616, 2464: 0.002317497103128621, 2465: 0.010594272471445124, 2466: 0.003145174639960271, 2467: 0.16652872041052805, 2468: 0.12266181095845058, 2469: 0.2075815262373779, 2470: 0.40341003145174636, 2471: 0.12497930806157921, 2472: 0.03492799205429565, 2473: 0.050322794239364345, 2474: 0.1446780334381725, 2475: 0.0594272471445125, 2476: 0.13838768415825195, 2477: 0.012580698559841084, 2478: 0.19764939579539811, 2479: 0.010428736964078795, 2480: 0.0008276775368316503, 2481: 0.014236053633504386, 2482: 0.012746234067207415, 2483: 0.010097665949346135, 2484: 0.00033107101473266014, 2485: 0.15378248634332065, 2486: 0.002648568117861281, 2487: 0.0013242840589306405, 2488: 0.04303923191524582, 2489: 0.0, 2490: 0.36633007780168847, 2491: 0.03658334712795895, 2492: 0.055454394967720574, 2493: 0.016222479721900347, 2494: 0.013242840589306405, 2495: 0.04866743916570104, 2496: 0.15891408707167687, 2497: 0.05777189207084919, 2498: 0.03327263698063235, 2499: 0.023671577553385198, 2500: 0.03807316669425592, 2501: 0.33040887270319486, 2502: 0.45654692931633833, 2503: 0.005628207250455222, 2504: 0.059592782651878826, 2505: 0.08491971527892733, 2506: 0.06969044860122497, 2507: 0.018208905810296307, 2508: 0.0, 2509: 0.005462671743088893, 2510: 0.0, 2511: 0.04105280582684985, 2512: 0.011587485515643106, 2513: 0.0984936268829664, 2514: 0.02797550074490978, 2515: 0.009435523919880815, 2516: 0.008442310875682833, 2517: 0.10478397616288693, 2518: 0.13209733487833142, 2519: 0.03923191524582023, 2520: 0.06621420294653203, 2521: 0.02433371958285052, 2522: 0.022181757987088227, 2523: 0.008442310875682833, 2524: 0.08872703194835291, 2525: 0.04717761959940407, 2526: 0.0402251282900182, 2527: 0.28902499586161234, 2528: 0.2900182089058103, 2529: 0.5944380069524913, 2530: 0.12911769574573745, 2531: 0.10494951167025326, 2532: 0.1277934116868068, 2533: 0.18953815593444792, 2534: 0.006290349279920544, 2535: 0.04287369640787949, 2536: 0.005462671743088892, 2537: 0.008111239860950175, 2538: 0.002151961595762291, 2539: 0.27015394802185067, 2540: 0.06373117033603708, 2541: 0.24515808640953485, 2542: 0.3353749379241847, 2543: 0.0011587485515643105, 2544: 0.007945704353583844, 2545: 0.002648568117861281, 2546: 0.06522098990233405, 2547: 0.0, 2548: 0.02218175798708823, 2549: 0.0456878000331071, 2550: 0.08458864426419467, 2551: 0.08011918556530376, 2552: 0.009766594934613473, 2553: 0.10594272471445124, 2554: 0.05909617612977983, 2555: 0.03459692103956298, 2556: 0.0004966065220989903, 2557: 0.002151961595762291, 2558: 0.07515312034431386, 2559: 0.007780168846217513, 2560: 0.06985598410859128, 2561: 0.040556199304750865, 2562: 0.003310710147326601, 2563: 0.0, 2564: 0.0, 2565: 0.1801026320145671, 2566: 0.011256414500910446, 2567: 0.12448270153948021, 2568: 0.055288859460354244, 2569: 0.004800529713623572, 2570: 0.04982618771726535, 2571: 1.6634663135242507, 2572: 0.3325608342989571, 2573: 0.02151961595762291, 2574: 0.06836616454229433, 2575: 0.07747061744744248, 2576: 0.0009932130441979805, 2577: 0.010759807978811455, 2578: 0.0018208905810296308, 2579: 0.01721569276609833, 2580: 0.3794073828836285, 2581: 0.2714782320807813, 2582: 0.02632014567124648, 2583: 0.10246647905975831, 2584: 0.0004966065220989903, 2585: 0.02466479059758318, 2586: 0.005959278265187882, 2587: 0.035259063069028304, 2588: 0.0, 2589: 0.021850686972355572, 2590: 0.01903658334712796, 2591: 0.0006621420294653203, 2592: 0.0004966065220989903, 2593: 0.01920211885449429, 2594: 0.03310710147326601, 2595: 0.0, 2596: 0.07233901671908624, 2597: 0.02019533189869227, 2598: 0.2024499255090217, 2599: 0.8751862274457871, 2600: 0.1640456878000331, 2601: 0.0, 2602: 0.0011587485515643105, 2603: 0.0, 2604: 0.0, 2605: 0.323952987915908, 2606: 0.07730508194007615, 2607: 0.03443138553219666, 2608: 0.0008276775368316504, 2609: 0.035424598576394635, 2610: 0.02483032610494951, 2611: 0.07035259063069027, 2612: 0.07002151961595762, 2613: 0.118854494289025, 2614: 0.010097665949346133, 2615: 0.07118026816752193, 2616: 0.2074159907300116, 2617: 0.44992550902168515, 2618: 0.0253269326270485, 2619: 0.0004966065220989903, 2620: 0.01804337030292998, 2621: 0.032941565965899686, 2622: 0.1853997682502897, 2623: 0.0013242840589306405, 2624: 0.05694421453401754, 2625: 0.026485681178612813, 2626: 0.013573911604039066, 2627: 0.006786955802019533, 2628: 1.1051150471776197, 2629: 0.05264029134249297, 2630: 0.02151961595762291, 2631: 0.0008276775368316503, 2632: 0.004634994206257242, 2633: 0.06472438338023505, 2634: 0.03459692103956298, 2635: 0.011918556530375764, 2636: 0.0031451746399602716, 2637: 0.009104452905148153, 2638: 0.011256414500910444, 2639: 0.05479225293825525, 2640: 0.5806985598410859, 2641: 0.3605363350438669, 2642: 0.13855321966561826, 2643: 0.07515312034431385, 2644: 0.12166859791425261, 2645: 0.04254262539314683, 2646: 0.014898195662969706, 2647: 0.021023009435523918, 2648: 0.20840920377420957, 2649: 0.028306571759642442, 2650: 0.012580698559841086, 2651: 0.03310710147326602, 2652: 0.020195331898692267, 2653: 0.014567124648237046, 2654: 0.06720741599073, 2655: 0.009269988412514484, 2656: 0.02052640291342493, 2657: 0.5470948518457209, 2658: 0.003310710147326601, 2659: 0.01771229928819732, 2660: 0.07051812613805661, 2661: 0.04303923191524582, 2662: 0.31120675384870056, 2663: 0.02085747392815759, 2664: 0.338023506042046, 2665: 0.031286210892236384, 2666: 0.011421950008276775, 2667: 0.018374441317662638, 2668: 0.0797881145505711, 2669: 0.04966065220989902, 2670: 0.10263201456712465, 2671: 0.37444131766263866, 2672: 0.1551067704022513, 2673: 0.0038073166694255916, 2674: 0.009435523919880815, 2675: 0.004469458698890912, 2676: 0.10925343486177785, 2677: 0.12845555371627213, 2678: 0.011256414500910444, 2679: 0.002151961595762291, 2680: 0.0, 2681: 0.02052640291342493, 2682: 0.04833636815096838, 2683: 0.6705843403410031, 2684: 0.0, 2685: 0.0011587485515643105, 2686: 0.31253103790763115, 2687: 0.21784472769409038, 2688: 0.28124482701539477, 2689: 0.016388015229266674, 2690: 0.20162224797219003, 2691: 0.008773381890415495, 2692: 0.6493957953981129, 2693: 0.10594272471445124, 2694: 0.340506538652541, 2695: 0.003145174639960271, 2696: 0.040887270319483526, 2697: 0.02383711306075153, 2698: 0.0, 2699: 0.5838437344810462, 2700: 0.6608177454063896, 2701: 0.21950008276775368, 2702: 0.13524250951829167, 2703: 0.0, 2704: 0.016719086243999336, 2705: 0.002648568117861281, 2706: 0.7326601556033769, 2707: 0.3103790763118689, 2708: 0.019698725376593278, 2709: 0.0897202449925509, 2710: 0.5214368482039398, 2711: 0.015394802185068696, 2712: 0.4179771560999834, 2713: 0.13458036748882635, 2714: 0.032941565965899686, 2715: 0.005131600728356232, 2716: 1.2243006124813771, 2717: 0.1931799370965072, 2718: 0.1635490812779341, 2719: 0.14169839430557854, 2720: 0.10412183413342163, 2721: 0.03625227611322628, 2722: 0.23241185234232745, 2723: 0.357060089389174, 2724: 0.24979308061579208, 2725: 0.043204767422612145, 2726: 0.07879490150637311, 2727: 0.015229266677702368, 2728: 0.21933454726038734, 2729: 0.09319649064724383, 2730: 0.07018705512332396, 2731: 0.11488164211223306, 2732: 0.07896043701373945, 2733: 0.014898195662969706, 2734: 0.21188544942890247, 2735: 0.16868068200629036, 2736: 0.09319649064724383, 2737: 0.007118026816752193, 2738: 0.03211388842906803, 2739: 0.2319152458202284, 2740: 0.006290349279920542, 2741: 0.02400264856811786, 2742: 0.00033107101473266014, 2743: 0.011256414500910444, 2744: 0.018043370302929976, 2745: 0.10776361529548087, 2746: 0.419301440158914, 2747: 0.15394802185068698, 2748: 0.035259063069028304, 2749: 0.030458533355404736, 2750: 0.14236053633504386, 2751: 0.018374441317662638, 2752: 0.06637973845389836, 2753: 0.025823539149147492, 2754: 0.002814103625227611, 2755: 0.007780168846217513, 2756: 0.012249627545108426, 2757: 0.06820062903492799, 2758: 0.009104452905148153, 2759: 0.19913921536169507, 2760: 0.003972852176791922, 2761: 0.3712961430226783, 2762: 1.4676378083098822, 2763: 0.4793908293328919, 2764: 0.12133752689951993, 2765: 0.002648568117861281, 2766: 0.014070518126138057, 2767: 0.010263201456712464, 2768: 0.004966065220989902, 2769: 0.023340506538652536, 2770: 0.4318821387187552, 2771: 0.06455884787286872, 2772: 0.10031451746399603, 2773: 0.005131600728356232, 2774: 0.03459692103956298, 2775: 0.007118026816752193, 2776: 0.007614633338851182, 2777: 0.0009932130441979805, 2778: 0.005628207250455222, 2779: 0.15841748054957788, 2780: 0.035590134083760966, 2781: 0.0220162224797219, 2782: 0.04817083264360206, 2783: 0.002483032610494951, 2784: 0.029134249296474096, 2785: 0.008607846383049164, 2786: 0.02002979639132594, 2787: 0.055454394967720574, 2788: 0.25840092699884126, 2789: 0.05992385366661149, 2790: 0.020360867406058598, 2791: 0.9920542956464161, 2792: 0.21155437841416982, 2793: 0.09236881311041217, 2794: 0.13938089720244992, 2795: 0.27710643933123646, 2796: 0.08194007614633339, 2797: 0.7925840092699883, 2798: 0.03227942393643436, 2799: 0.014401589140870717, 2800: 0.006455884787286872, 2801: 0.04502565800364178, 2802: 0.12249627545108425, 2803: 0.12481377255421289, 2804: 0.8437344810461843, 2805: 0.15974176460850853, 2806: 0.057109750041383876, 2807: 0.018208905810296307, 2808: 0.11372289356066875, 2809: 0.005462671743088893, 2810: 0.021023009435523918, 2811: 0.0013242840589306405, 2812: 0.019036583347127958, 2813: 0.011421950008276775, 2814: 0.002648568117861281, 2815: 0.084754179771561, 2816: 0.031782817414335376, 2817: 0.0253269326270485, 2818: 0.009269988412514484, 2819: 0.1536169508359543, 2820: 0.024333719582850518, 2821: 0.0013242840589306405, 2822: 0.09981791094189703, 2823: 0.0011587485515643103, 2824: 0.005462671743088892, 2825: 0.0018208905810296306, 2826: 0.32742923357060094, 2827: 0.10379076311868896, 2828: 0.031120675384870053, 2829: 0.05214368482039397, 2830: 0.006290349279920542, 2831: 0.0036417811620592616, 2832: 0.0, 2833: 0.002317497103128621, 2834: 0.008111239860950173, 2835: 0.012746234067207415, 2836: 0.06969044860122495, 2837: 0.010925343486177786, 2838: 0.0, 2839: 0.005793742757821552, 2840: 0.1330905479225294, 2841: 0.20973348783314022, 2842: 0.02118854494289025, 2843: 0.013077305081940077, 2844: 0.03078960437013739, 2845: 0.00016553550736633007, 2846: 0.07415990730011587, 2847: 0.016719086243999336, 2848: 0.01986426088395961, 2849: 0.008276775368316504, 2850: 0.001986426088395961, 2851: 0.041052805826849864, 2852: 0.07912597252110577, 2853: 0.012911769574573746, 2854: 0.003145174639960271, 2855: 0.0034762456546929316, 2856: 0.03211388842906803, 2857: 0.18821387187551727, 2858: 2.2567455719251774, 2859: 0.13789107763615294, 2860: 0.05247475583512663, 2861: 0.14732660155603378, 2862: 0.02400264856811786, 2863: 0.2779341168680682, 2864: 0.010594272471445124, 2865: 0.007118026816752193, 2866: 0.09021685151464989, 2867: 0.1370634000993213, 2868: 0.01804337030292998, 2869: 0.0004966065220989903, 2870: 0.08657507035259064, 2871: 0.37344810461844063, 2872: 0.3929812944876676, 2873: 0.006952491309385863, 2874: 0.027975500744909784, 2875: 0.1105777189207085, 2876: 0.016388015229266677, 2877: 0.0643933123655024, 2878: 0.007780168846217513, 2879: 0.07300115874855155, 2880: 0.03343817248799867, 2881: 0.3325608342989571, 2882: 0.0407217348121172, 2883: 0.12895216023837114, 2884: 0.011918556530375764, 2885: 0.024499255090216852, 2886: 0.010428736964078793, 2887: 0.0008276775368316503, 2888: 0.04270816090051316, 2889: 0.12795894719417314, 2890: 0.5143188213871875, 2891: 0.08624399933785798, 2892: 0.0031451746399602716, 2893: 0.012415163052474757, 2894: 0.009601059427247144, 2895: 0.0009932130441979805, 2896: 0.013077305081940075, 2897: 0.008442310875682833, 2898: 0.034265850024830326, 2899: 0.05479225293825525, 2900: 0.05363350438669094, 2901: 0.14749213706340009, 2902: 0.0440324449594438, 2903: 0.022016222479721896, 2904: 0.007614633338851184, 2905: 0.044694586988909116, 2906: 0.06671080946863103, 2907: 0.060917066710809466, 2908: 0.4954477735474259, 2909: 0.0006621420294653203, 2910: 0.0, 2911: 0.002151961595762291, 2912: 0.2345638139380897, 2913: 0.007449097831484853, 2914: 0.002814103625227611, 2915: 0.4145009104452905, 2916: 1.072339016719086, 2917: 0.2691607349776527, 2918: 0.8472107267008773, 2919: 0.19880814434696242, 2920: 0.05777189207084919, 2921: 0.14500910445290516, 2922: 0.10147326601556034, 2923: 0.006455884787286872, 2924: 0.07581526237377917, 2925: 0.03327263698063234, 2926: 0.20840920377420957, 2927: 0.05297136235722562, 2928: 0.030292997848038405, 2929: 0.09766594934613475, 2930: 0.002814103625227611, 2931: 0.004469458698890912, 2932: 0.05876510511504718, 2933: 0.0036417811620592616, 2934: 0.0009932130441979805, 2935: 0.08541632180102632, 2936: 0.09783148485350107, 2937: 0.06687634497599734, 2938: 0.01655355073663301, 2939: 0.020195331898692267, 2940: 0.05727528554875021, 2941: 0.1117364674722728, 2942: 0.1297798377752028, 2943: 0.07647740440324449, 2944: 0.39546432709816254, 2945: 0.008607846383049164, 2946: 0.1498096341665287, 2947: 0.5037245489157424, 2948: 0.42492964740936934, 2949: 0.354577056778679, 2950: 0.08789935441152127, 2951: 0.27942393643436514, 2952: 0.09253434861777851, 2953: 0.08988578049991723, 2954: 0.0, 2955: 0.0008276775368316503, 2956: 0.06025492468134415, 2957: 0.0, 2958: 0.0, 2959: 0.8381062737957291, 2960: 0.0016553550736633008, 2961: 0.09683827180930309, 2962: 0.004303923191524582, 2963: 0.004634994206257242, 2964: 0.004469458698890911, 2965: 0.018374441317662638, 2966: 0.2454891574242675, 2967: 0.059758318159245156, 2968: 0.5363350438669094, 2969: 0.04601887104783976, 2970: 0.05512332395298791, 2971: 0.1590796225790432, 2972: 0.0374110246647906, 2973: 0.26551895381559343, 2974: 0.010925343486177784, 2975: 0.045853335540473425, 2976: 0.23042542625393148, 2977: 0.011753021023009434, 2978: 0.03608674060585995, 2979: 0.009104452905148153, 2980: 0.0, 2981: 0.007449097831484853, 2982: 0.007283562324118522, 2983: 0.03923191524582023, 2984: 0.004634994206257242, 2985: 0.5962588975335209, 2986: 0.14351928488660817, 2987: 0.8397616288693924, 2988: 0.05098493626882966, 2989: 0.19235225955967555, 2990: 0.16669425591789439, 2991: 0.20410528058268498, 2992: 0.009104452905148155, 2993: 0.1910279755007449, 2994: 0.004303923191524582, 2995: 0.10246647905975831, 2996: 0.051647078298294985, 2997: 1.3563979473597085, 2998: 0.005793742757821552, 2999: 0.002648568117861281, 3000: 0.18291673563979474, 3001: 0.0016553550736633008, 3002: 0.01771229928819732, 3003: 0.003476245654692931, 3004: 0.0830988246978977, 3005: 0.2819069690448601, 3006: 0.4957788445621586, 3007: 0.15014070518126138, 3008: 0.02449925509021685, 3009: 0.0, 3010: 0.015394802185068696, 3011: 0.06836616454229433, 3012: 0.004966065220989902, 3013: 0.026651216685979143, 3014: 0.01771229928819732, 3015: 0.054461181923522596, 3016: 0.186558516801854, 3017: 0.029961926833305744, 3018: 0.10627379572918391, 3019: 0.21287866247310044, 3020: 0.24631683496109913, 3021: 0.012084092037742095, 3022: 0.12895216023837114, 3023: 0.0, 3024: 0.041714947856315174, 3025: 0.007118026816752193, 3026: 0.00016553550736633007, 3027: 0.0006621420294653203, 3028: 0.06836616454229433, 3029: 0.08674060585995697, 3030: 0.13292501241516302, 3031: 0.011753021023009435, 3032: 0.10114219500082768, 3033: 0.3870220162224797, 3034: 0.16156265518953816, 3035: 0.23754345307068364, 3036: 0.07498758483694752, 3037: 0.3188213871875517, 3038: 0.03856977321635491, 3039: 0.4438006952491309, 3040: 0.12564145009104455, 3041: 0.014401589140870717, 3042: 0.013408376096672735, 3043: 0.008276775368316504, 3044: 0.29299784803840423, 3045: 0.04386690945207747, 3046: 0.042211554378414166, 3047: 0.006455884787286873, 3048: 0.019533189869226947, 3049: 0.014898195662969706, 3050: 0.007283562324118523, 3051: 0.057937427578215524, 3052: 0.4999172322463168, 3053: 0.13375268995199469, 3054: 0.03145174639960271, 3055: 0.034100314517463995, 3056: 0.0016553550736633008, 3057: 0.0006621420294653203, 3058: 0.004303923191524582, 3059: 0.0, 3060: 0.30392319152458197, 3061: 0.12729680516470782, 3062: 0.1784472769409038, 3063: 0.03873530872372124, 3064: 0.013408376096672737, 3065: 0.0006621420294653203, 3066: 0.08243668266843238, 3067: 0.1908624399933786, 3068: 0.19748386028803178, 3069: 0.026651216685979143, 3070: 0.29630855818573076, 3071: 0.151961595762291, 3072: 0.540142360536335, 3073: 0.011918556530375764, 3074: 0.09981791094189704, 3075: 0.03724548915742426, 3076: 0.042211554378414166, 3077: 0.0523092203277603, 3078: 0.07250455222645258, 3079: 0.07449097831484852, 3080: 0.0, 3081: 0.4891574242675053, 3082: 0.3838768415825194, 3083: 0.221652044363516, 3084: 0.0011587485515643105, 3085: 0.0008276775368316503, 3086: 0.038238702201622246, 3087: 0.23092203277603046, 3088: 0.19284886608177454, 3089: 0.14666445952656842, 3090: 0.09716934282403575, 3091: 0.08342989571263035, 3092: 0.010925343486177786, 3093: 0.10230094355239198, 3094: 0.05346796887932461, 3095: 0.29862605528885944, 3096: 0.04883297467306737, 3097: 0.118357887766926, 3098: 0.251779506704188, 3099: 0.11024664790597583, 3100: 0.30458533355404727, 3101: 0.4093693097169343, 3102: 0.11637146167853005, 3103: 0.02002979639132594, 3104: 0.4234398278430723, 3105: 0.34315510677040223, 3106: 0.008607846383049164, 3107: 0.4048998510180434, 3108: 0.4830326104949511, 3109: 0.02466479059758318, 3110: 0.013573911604039066, 3111: 0.1067704022512829, 3112: 0.031286210892236384, 3113: 0.18788280086078463, 3114: 0.930309551398775, 3115: 0.038238702201622246, 3116: 0.0031451746399602716, 3117: 0.025492468134414827, 3118: 0.02565800364178116, 3119: 0.0008276775368316503, 3120: 0.044694586988909116, 3121: 0.008276775368316504, 3122: 0.012746234067207415, 3123: 0.0004966065220989903, 3124: 0.014898195662969706, 3125: 0.09021685151464989, 3126: 0.001986426088395961, 3127: 0.017546763780830987, 3128: 0.023009435523919878, 3129: 0.13938089720244995, 3130: 0.029961926833305744, 3131: 0.0011587485515643105, 3132: 0.01721569276609833, 3133: 0.021023009435523918, 3134: 0.10213540804502566, 3135: 0.09783148485350107, 3136: 0.0014898195662969706, 3137: 0.006786955802019533, 3138: 0.02499586161231584, 3139: 0.006621420294653202, 3140: 0.004303923191524582, 3141: 0.019533189869226947, 3142: 0.05098493626882966, 3143: 0.014070518126138055, 3144: 0.015063731170336037, 3145: 0.10246647905975832, 3146: 0.10279755007449097, 3147: 0.6947525244164874, 3148: 0.34282403575566955, 3149: 0.0018208905810296308, 3150: 0.02168515146498924, 3151: 0.00033107101473266014, 3152: 0.18655851680185398, 3153: 0.13110412183413342, 3154: 0.004634994206257242, 3155: 0.1408707167687469, 3156: 0.1408707167687469, 3157: 0.19582850521436845, 3158: 0.017546763780830987, 3159: 0.23092203277603046, 3160: 0.5972521105777189, 3161: 0.008111239860950173, 3162: 0.005297136235722562, 3163: 0.15245820228439, 3164: 0.0006621420294653203, 3165: 0.019698725376593278, 3166: 0.0004966065220989903, 3167: 0.07167687468962092, 3168: 0.24333719582850522, 3169: 0.11289521602383712, 3170: 0.0, 3171: 0.011090878993544115, 3172: 0.0008276775368316503, 3173: 0.17381228273464658, 3174: 0.43088892567455717, 3175: 0.9574573746068531, 3176: 0.5676212547591458, 3177: 0.05313689786459195, 3178: 0.26700877338189044, 3179: 0.10014898195662969, 3180: 0.01771229928819732, 3181: 0.06373117033603709, 3182: 0.059758318159245156, 3183: 0.01605694421453402, 3184: 0.0, 3185: 0.15659658996854825, 3186: 0.19566296970700214, 3187: 0.0006621420294653203, 3188: 0.025823539149147492, 3189: 0.1292832312531038, 3190: 0.03840423770898858, 3191: 0.0, 3192: 0.011421950008276775, 3193: 0.0, 3194: 0.09071345803674888, 3195: 0.0, 3196: 0.22314186392981294, 3197: 0.10809468631021354, 3198: 0.16272140374110247, 3199: 0.029961926833305744, 3200: 0.08607846383049164, 3201: 0.18109584505876508, 3202: 0.00016553550736633007, 3203: 0.2443304088727032, 3204: 0.09220327760304584, 3205: 0.0011587485515643105, 3206: 0.04866743916570104, 3207: 0.002648568117861281, 3208: 0.09534845224300613, 3209: 0.00016553550736633007, 3210: 0.4658169177288528, 3211: 0.02913424929647409, 3212: 0.0008276775368316504, 3213: 0.1079291508028472, 3214: 0.043535838437344807, 3215: 0.004469458698890912, 3216: 0.0016553550736633006, 3217: 0.04039066379738454, 3218: 0.013242840589306406, 3219: 0.18242012911769573, 3220: 0.00033107101473266014, 3221: 0.014401589140870717, 3222: 0.014732660155603376, 3223: 0.012249627545108424, 3224: 0.04370137394471114, 3225: 0.0374110246647906, 3226: 0.0, 3227: 0.0, 3228: 0.00016553550736633007, 3229: 0.0006621420294653203, 3230: 0.03045853335540473, 3231: 0.0, 3232: 0.003310710147326601, 3233: 0.0016553550736633006, 3234: 0.0, 3235: 0.02218175798708823, 3236: 0.0011587485515643105, 3237: 0.00016553550736633007, 3238: 0.07233901671908624, 3239: 0.009269988412514484, 3240: 0.012746234067207415, 3241: 0.0236715775533852, 3242: 0.0006621420294653203, 3243: 0.07929150802847211, 3244: 0.15295480880648898, 3245: 0.003145174639960271, 3246: 0.2608839596093362, 3247: 0.2605528885946035, 3248: 0.05098493626882966, 3249: 0.12084092037742095, 3250: 0.1678530044694587, 3251: 0.12034431385532196, 3252: 0.2572421784472769, 3253: 0.5447773547425923, 3254: 0.15411355735805332, 3255: 0.5568614467803343, 3256: 0.5409700380731666, 3257: 0.2075815262373779, 3258: 0.10726700877338188, 3259: 0.1691772885283893, 3260: 0.2438338023506042, 3261: 0.20129117695745735, 3262: 0.05595100148981956, 3263: 0.2668432378745241, 3264: 0.20460188710478397, 3265: 0.1943386856480715, 3266: 0.07548419135904652, 3267: 0.251779506704188, 3268: 0.033934779010097664, 3269: 0.19632511173646747, 3270: 0.07945704353583843, 3271: 0.1746399602714782, 3272: 0.0648899188876014, 3273: 0.19831153782486344, 3274: 0.17364674722728024, 3275: 0.03873530872372123, 3276: 0.016388015229266677, 3277: 0.0006621420294653203, 3278: 0.0, 3279: 0.0, 3280: 0.0, 3281: 0.02483032610494951, 3282: 0.004634994206257242, 3283: 0.006621420294653202, 3284: 0.02168515146498924, 3285: 0.1458367819897368, 3286: 0.028472107267008773, 3287: 0.0390663797384539, 3288: 0.0004966065220989903, 3289: 0.02632014567124648, 3290: 0.0004966065220989903, 3291: 0.00033107101473266014, 3292: 0.0031451746399602716, 3293: 0.002483032610494951, 3294: 0.0006621420294653203, 3295: 0.0011587485515643105, 3296: 0.0941897036914418, 3297: 0.00033107101473266014, 3298: 0.2666777023671577, 3299: 0.048501903658334705, 3300: 0.23307399437179274, 3301: 0.24201291176957457, 3302: 0.022512829001820892, 3303: 0.001986426088395961, 3304: 0.0253269326270485, 3305: 0.0013242840589306405, 3306: 0.012746234067207415, 3307: 0.18192352259559674, 3308: 0.12398609501738123, 3309: 0.012580698559841083, 3310: 0.030292997848038402, 3311: 0.01738122827346466, 3312: 0.00016553550736633007, 3313: 0.004966065220989902, 3314: 0.0013242840589306405, 3315: 0.00033107101473266014, 3316: 0.08740274788942226, 3317: 0.2064227776858136, 3318: 0.02085747392815759, 3319: 0.009601059427247144, 3320: 0.018374441317662638, 3321: 0.0, 3322: 0.0013242840589306405, 3323: 0.0004966065220989903, 3324: 0.05893064062241351, 3325: 0.04138387684158252, 3326: 0.05876510511504718, 3327: 0.05677867902665122, 3328: 0.14120178778347955, 3329: 0.012415163052474755, 3330: 0.05644760801191856, 3331: 0.006124813772554213, 3332: 0.0, 3333: 0.006290349279920542, 3334: 0.2555868233736136, 3335: 0.004966065220989902, 3336: 0.0, 3337: 0.0011587485515643105, 3338: 0.016719086243999336, 3339: 0.01754676378083099, 3340: 0.027644429730177122, 3341: 0.09700380731666942, 3342: 0.11769574573746068, 3343: 0.011421950008276775, 3344: 0.005628207250455222, 3345: 0.009435523919880815, 3346: 0.0006621420294653203, 3347: 0.10196987253765932, 3348: 0.0, 3349: 0.010925343486177786, 3350: 0.07713954643270982, 3351: 0.006786955802019533, 3352: 0.0008276775368316504, 3353: 0.0006621420294653203, 3354: 0.2627048501903658, 3355: 0.10279755007449098, 3356: 0.0, 3357: 0.0456878000331071, 3358: 0.22529382552557525, 3359: 0.28687303426585, 3360: 0.30425426253931465, 3361: 0.6002317497103128, 3362: 0.42658500248303255, 3363: 0.5494123489488495, 3364: 0.07929150802847211, 3365: 0.11802681675219334, 3366: 0.13739447111405395, 3367: 0.015063731170336037, 3368: 0.031120675384870053, 3369: 0.0, 3370: 0.038073166694255915, 3371: 0.025161397119682172, 3372: 0.026485681178612813, 3373: 0.0013242840589306405, 3374: 0.005462671743088893, 3375: 0.028306571759642442, 3376: 0.00016553550736633007, 3377: 0.0011587485515643105, 3378: 0.0014898195662969708, 3379: 0.050819400761463324, 3380: 0.0008276775368316503, 3381: 0.0011587485515643105, 3382: 0.0008276775368316503, 3383: 0.0, 3384: 0.1316007283562324, 3385: 0.04138387684158251, 3386: 0.3779175633173315, 3387: 0.05197814931302765, 3388: 0.09054792252938254, 3389: 0.014567124648237048, 3390: 0.006290349279920542, 3391: 0.024664790597583183, 3392: 0.03443138553219666, 3393: 0.012084092037742095, 3394: 0.0665452739612647, 3395: 0.02019533189869227, 3396: 0.3722893560668763, 3397: 0.17679192186724052, 3398: 0.14765767257076642, 3399: 0.032610494951167024, 3400: 0.006952491309385863, 3401: 0.02946532031120675, 3402: 0.009104452905148153, 3403: 0.008607846383049164, 3404: 0.10494951167025326, 3405: 0.07283562324118523, 3406: 0.054295646416156265, 3407: 0.0004966065220989903, 3408: 0.6512166859791425, 3409: 0.1888760139049826, 3410: 0.004303923191524582, 3411: 0.0, 3412: 0.08376096672736302, 3413: 0.0011587485515643105, 3414: 0.02019533189869227, 3415: 0.012580698559841084, 3416: 0.02814103625227611, 3417: 0.03757656017215692, 3418: 0.7470617447442476, 3419: 0.004966065220989902, 3420: 0.09104452905148154, 3421: 0.6763780830988246, 3422: 0.09154113557358053, 3423: 0.02416818407548419, 3424: 0.422281079291508, 3425: 0.02929978480384042, 3426: 0.08293328919053136, 3427: 0.03211388842906804, 3428: 0.02052640291342493, 3429: 0.17033603707995365, 3430: 0.09832809137560006, 3431: 0.027478894222810794, 3432: 0.021023009435523918, 3433: 0.012084092037742095, 3434: 0.010925343486177783, 3435: 0.3458036748882635, 3436: 0.04105280582684985, 3437: 0.002317497103128621, 3438: 0.18059923853666612, 3439: 0.067704022512829, 3440: 0.0440324449594438, 3441: 0.19731832478066544, 3442: 0.011421950008276775, 3443: 0.002483032610494951, 3444: 0.09220327760304585, 3445: 0.0539645754014236, 3446: 0.015725873199801357, 3447: 0.03707995365005794, 3448: 0.5355073663300778, 3449: 0.010097665949346135, 3450: 0.36964078794901506, 3451: 0.1733156762125476, 3452: 0.1259725211057772, 3453: 0.029299784803840424, 3454: 0.011587485515643106, 3455: 0.0, 3456: 0.029134249296474096, 3457: 0.051150471776195985, 3458: 0.0004966065220989903, 3459: 0.019533189869226947, 3460: 0.00016553550736633007, 3461: 0.17000496606522097, 3462: 0.1888760139049826, 3463: 0.002151961595762291, 3464: 0.006455884787286873, 3465: 0.003807316669425592, 3466: 0.10180433703029299, 3467: 0.15725873199801357, 3468: 0.25144843568945535, 3469: 0.1557689124317166, 3470: 0.0523092203277603, 3471: 0.7972190034762456, 3472: 0.0006621420294653203, 3473: 0.010097665949346135, 3474: 0.005959278265187882, 3475: 0.06637973845389836, 3476: 0.3170004966065221, 3477: 0.10428736964078794, 3478: 0.10743254428074822, 3479: 0.26419466975666284, 3480: 0.07614633338851184, 3481: 0.7026982287700712, 3482: 0.0006621420294653203, 3483: 0.05379903989405727, 3484: 0.09865916239033273, 3485: 0.0004966065220989903, 3486: 0.004966065220989902, 3487: 0.03211388842906803, 3488: 0.005462671743088893, 3489: 0.27545108425757325, 3490: 0.006455884787286873, 3491: 0.02565800364178116, 3492: 0.006455884787286873, 3493: 0.00033107101473266014, 3494: 0.1436848203939745, 3495: 0.004966065220989902, 3496: 0.02151961595762291, 3497: 0.03625227611322628, 3498: 0.15278927329912267, 3499: 0.4438006952491309, 3500: 0.0539645754014236, 3501: 0.11852342327429233, 3502: 0.032941565965899686, 3503: 0.06671080946863102, 3504: 0.3992716437675881, 3505: 0.169508359543122, 3506: 0.0665452739612647, 3507: 0.1959940407217348, 3508: 0.17199139215361692, 3509: 0.02648568117861281, 3510: 0.3774209567952326, 3511: 0.0203608674060586, 3512: 0.20725045522264524, 3513: 0.1711637146167853, 3514: 0.02334050653865254, 3515: 0.07002151961595762, 3516: 0.117861281244827, 3517: 0.0014898195662969706, 3518: 0.02118854494289025, 3519: 0.08194007614633339, 3520: 0.007780168846217513, 3521: 0.10826022181757985, 3522: 0.0008276775368316503, 3523: 0.001986426088395961, 3524: 0.23423274292335705, 3525: 0.14848535010759806, 3526: 0.42360536335043864, 3527: 0.6692600562820724, 3528: 0.11868895878165867, 3529: 0.07233901671908624, 3530: 0.0006621420294653203, 3531: 0.012249627545108426, 3532: 0.011753021023009434, 3533: 0.002483032610494951, 3534: 0.202615461016388, 3535: 0.2681675219334547, 3536: 0.22545936103294156, 3537: 0.011918556530375764, 3538: 0.07829829498427412, 3539: 0.014732660155603377, 3540: 0.009269988412514484, 3541: 0.0, 3542: 0.0009932130441979805, 3543: 0.48816421122330744, 3544: 0.038073166694255915, 3545: 0.23125310379076308, 3546: 0.09667273630193676, 3547: 0.03509352756166197, 3548: 0.1441814269160735, 3549: 0.12812448270153948, 3550: 0.06621420294653203, 3551: 0.19483529217017048, 3552: 0.5128290018208905, 3553: 0.02300943552391988, 3554: 0.05098493626882966, 3555: 0.4135076974010925, 3556: 0.13242840589306407, 3557: 0.03724548915742427, 3558: 0.0, 3559: 0.014732660155603376, 3560: 0.0, 3561: 0.0, 3562: 0.007780168846217512, 3563: 0.001986426088395961, 3564: 0.025823539149147492, 3565: 0.11819235225955968, 3566: 0.13441483198146, 3567: 0.014070518126138055, 3568: 0.009766594934613475, 3569: 0.013077305081940074, 3570: 0.004966065220989902, 3571: 0.05131600728356232, 3572: 0.016884621751365667, 3573: 0.004303923191524582, 3574: 0.001820890581029631, 3575: 0.0016553550736633008, 3576: 0.1546101638801523, 3577: 0.018374441317662638, 3578: 1.027147823208078, 3579: 0.018043370302929976, 3580: 0.011421950008276775, 3581: 0.005959278265187883, 3582: 0.0, 3583: 0.0, 3584: 0.04684654858467141, 3585: 0.007780168846217513, 3586: 0.009601059427247144, 3587: 0.011587485515643106, 3588: 0.020857473928157587, 3589: 0.0, 3590: 0.02565800364178116, 3591: 0.27379572918390993, 3592: 0.0033107101473266016, 3593: 0.06737295149809633, 3594: 0.07068366164542295, 3595: 0.0016553550736633006, 3596: 0.0203608674060586, 3597: 0.008607846383049164, 3598: 0.07664293991061083, 3599: 0.047508690614136734, 3600: 0.039066379738453894, 3601: 0.0006621420294653203, 3602: 0.01671908624399934, 3603: 0.0011587485515643105, 3604: 0.053136897864591956, 3605: 0.01804337030292998, 3606: 0.08640953484522429, 3607: 0.0008276775368316503, 3608: 0.406720741599073, 3609: 0.002648568117861281, 3610: 0.008773381890415493, 3611: 0.006455884787286873, 3612: 0.012580698559841084, 3613: 0.04684654858467141, 3614: 0.2135408045025658, 3615: 0.14318821387187552, 3616: 0.03459692103956299, 3617: 0.15229266677702366, 3618: 0.14318821387187552, 3619: 0.03856977321635491, 3620: 0.016222479721900347, 3621: 0.0004966065220989903, 3622: 0.045191193511008115, 3623: 0.5677867902665121, 3624: 0.37891077636152953, 3625: 0.008607846383049164, 3626: 0.014898195662969706, 3627: 0.05264029134249296, 3628: 0.04138387684158252, 3629: 0.16239033272636982, 3630: 0.0, 3631: 0.0, 3632: 0.020526402913424932, 3633: 0.16652872041052805, 3634: 0.09187220658831319, 3635: 0.23572256248965404, 3636: 0.001986426088395961, 3637: 0.011090878993544113, 3638: 0.2746234067207416, 3639: 0.2284390001655355, 3640: 0.006124813772554213, 3641: 0.0031451746399602716, 3642: 0.005462671743088892, 3643: 0.04188048336368151, 3644: 0.008276775368316502, 3645: 0.009435523919880813, 3646: 0.048998510180433705, 3647: 0.0006621420294653203, 3648: 0.0033107101473266016, 3649: 0.11736467472272803, 3650: 0.0, 3651: 0.00033107101473266014, 3652: 0.002483032610494951, 3653: 0.07200794570435358, 3654: 0.28455553716272136, 3655: 0.0269822877007118, 3656: 0.0, 3657: 0.0014898195662969708, 3658: 0.03443138553219666, 3659: 0.016719086243999336, 3660: 0.06124813772554213, 3661: 0.0220162224797219, 3662: 0.02400264856811786, 3663: 0.010263201456712463, 3664: 0.009601059427247143, 3665: 0.004800529713623572, 3666: 0.0009932130441979805, 3667: 0.009104452905148153, 3668: 0.17348121171991393, 3669: 0.01721569276609833, 3670: 0.010428736964078793, 3671: 0.607349776527065, 3672: 0.056613143519284884, 3673: 0.008111239860950175, 3674: 0.013739447111405395, 3675: 0.11918556530375765, 3676: 0.0830988246978977, 3677: 0.02267836450918722, 3678: 0.04386690945207747, 3679: 0.035424598576394635, 3680: 0.02317497103128621, 3681: 0.1612315841748055, 3682: 0.10014898195662969, 3683: 0.37311703360370796, 3684: 0.14980963416652873, 3685: 0.26154610163880154, 3686: 0.15891408707167687, 3687: 0.0006621420294653203, 3688: 0.11074325442807481, 3689: 0.0319483529217017, 3690: 0.031782817414335376, 3691: 0.013408376096672735, 3692: 0.018043370302929976, 3693: 0.06240688627710644, 3694: 0.013904982618771726, 3695: 0.013077305081940075, 3696: 0.02218175798708823, 3697: 0.252772719748386, 3698: 0.30971693428240354, 3699: 0.4179771560999834, 3700: 0.12514484356894554, 3701: 0.2175136566793577, 3702: 0.5520609170667108, 3703: 0.5369971858963748, 3704: 0.31186889587816585, 3705: 0.11868895878165867, 3706: 0.19781493130276445, 3707: 0.08707167687468961, 3708: 0.09236881311041217, 3709: 0.032610494951167024, 3710: 0.051647078298294985, 3711: 0.013408376096672737, 3712: 0.16040390663797383, 3713: 0.04601887104783976, 3714: 0.023340506538652543, 3715: 0.028306571759642445, 3716: 0.02052640291342493, 3717: 0.2146995530541301, 3718: 0.02400264856811786, 3719: 0.017381228273464656, 3720: 0.03707995365005794, 3721: 0.006124813772554213, 3722: 0.00033107101473266014, 3723: 0.12646912762787615, 3724: 0.09766594934613475, 3725: 0.043204767422612145, 3726: 0.05247475583512663, 3727: 0.0776361529548088, 3728: 0.07995365005793742, 3729: 0.09634166528720409, 3730: 0.26220824366826684, 3731: 0.02019533189869227, 3732: 0.025823539149147492, 3733: 0.14600231749710313, 3734: 0.02251282900182089, 3735: 0.2719748386028803, 3736: 0.020526402913424932, 3737: 0.02764442973017712, 3738: 0.03608674060585995, 3739: 0.02168515146498924, 3740: 0.2706505545439497, 3741: 0.1415328587982122, 3742: 0.1304419798046681, 3743: 0.023671577553385198, 3744: 0.1618937262042708, 3745: 0.23373613640125807, 3746: 0.028637642774375097, 3747: 0.06737295149809634, 3748: 0.0009932130441979805, 3749: 0.008276775368316502, 3750: 0.0, 3751: 0.6699221983115378, 3752: 0.21320973348783312, 3753: 0.6116536997185895, 3754: 0.06588313193179937, 3755: 0.4128455553716272, 3756: 0.008773381890415495, 3757: 0.006952491309385862, 3758: 0.04105280582684986, 3759: 0.014567124648237046, 3760: 0.14236053633504386, 3761: 0.008276775368316504, 3762: 0.0006621420294653203, 3763: 0.3433206422777686, 3764: 0.08194007614633339, 3765: 0.014070518126138055, 3766: 0.05975831815924516, 3767: 0.02433371958285052, 3768: 0.02102300943552392, 3769: 0.08690614136732329, 3770: 0.1567621254759146, 3771: 0.06853170004966064, 3772: 0.00033107101473266014, 3773: 0.058102963085581855, 3774: 0.014567124648237048, 3775: 0.009601059427247144, 3776: 0.012249627545108426, 3777: 0.003145174639960271, 3778: 0.002317497103128621, 3779: 0.0004966065220989903, 3780: 0.01754676378083099, 3781: 0.009435523919880815, 3782: 0.014898195662969706, 3783: 0.10643933123655022, 3784: 0.06042046018871048, 3785: 0.22976328422446615, 3786: 0.07399437179274955, 3787: 0.023671577553385198, 3788: 0.12514484356894554, 3789: 0.09154113557358054, 3790: 0.016719086243999336, 3791: 0.1633835457705678, 3792: 0.03625227611322628, 3793: 0.7280251613971196, 3794: 0.04386690945207747, 3795: 0.027644429730177125, 3796: 0.005297136235722562, 3797: 0.007118026816752193, 3798: 0.16669425591789439, 3799: 0.02002979639132594, 3800: 0.00033107101473266014, 3801: 0.11620592617116371, 3802: 0.09054792252938255, 3803: 0.004303923191524582, 3804: 0.012084092037742095, 3805: 0.013904982618771725, 3806: 0.02267836450918722, 3807: 0.04552226452574077, 3808: 0.02549246813441483, 3809: 0.3688131104121834, 3810: 0.031782817414335376, 3811: 0.21221652044363515, 3812: 0.11736467472272802, 3813: 0.03360370799536501, 3814: 0.118854494289025, 3815: 0.0, 3816: 0.01754676378083099, 3817: 0.005131600728356232, 3818: 0.002814103625227611, 3819: 0.12961430226783643, 3820: 0.007283562324118524, 3821: 0.07250455222645258, 3822: 0.02880317828174143, 3823: 0.031617281906969046, 3824: 0.025326932627048503, 3825: 0.06008938917397781, 3826: 0.11604039066379739, 3827: 0.1834133421618937, 3828: 0.0008276775368316503, 3829: 0.0, 3830: 0.008607846383049164, 3831: 0.06720741599073, 3832: 0.009435523919880815, 3833: 0.018871047839761627, 3834: 0.0610826022181758, 3835: 0.052971362357225625, 3836: 0.1943386856480715, 3837: 0.034100314517463995, 3838: 0.012746234067207415, 3839: 0.014732660155603377, 3840: 0.03244495944380069, 3841: 0.10312862108922363, 3842: 0.0004966065220989903, 3843: 0.009104452905148153, 3844: 0.17977156099983446, 3845: 0.011918556530375764, 3846: 0.05495778844562159, 3847: 0.010925343486177786, 3848: 0.005959278265187882, 3849: 0.02135408045025658, 3850: 0.003807316669425592, 3851: 0.02102300943552392, 3852: 0.08227114716106604, 3853: 0.005297136235722562, 3854: 0.008938917397781824, 3855: 0.013904982618771726, 3856: 0.0, 3857: 0.015394802185068696, 3858: 0.02350604204601887, 3859: 0.031120675384870053, 3860: 0.005462671743088892, 3861: 0.07912597252110577, 3862: 0.008442310875682833, 3863: 0.24913093858632676, 3864: 0.0468465485846714, 3865: 0.05628207250455223, 3866: 0.0016553550736633008, 3867: 0.002979639132593941, 3868: 0.3446449263366992, 3869: 0.1607349776527065, 3870: 0.025658003641781158, 3871: 0.1443469624234398, 3872: 0.04883297467306737, 3873: 0.13408376096672736, 3874: 0.008111239860950173, 3875: 0.0016553550736633006, 3876: 0.0009932130441979805, 3877: 0.041714947856315174, 3878: 0.002979639132593941, 3879: 0.04287369640787949, 3880: 0.007614633338851184, 3881: 0.0, 3882: 0.08409203774209567, 3883: 0.003972852176791922, 3884: 0.008773381890415493, 3885: 0.008938917397781822, 3886: 0.011918556530375766, 3887: 0.0014898195662969708, 3888: 0.0014898195662969706, 3889: 0.03707995365005794, 3890: 0.0, 3891: 0.0013242840589306405, 3892: 0.003310710147326601, 3893: 0.23704684654858468, 3894: 0.007118026816752192, 3895: 0.02334050653865254, 3896: 0.06869723555702698, 3897: 0.4989240192021188, 3898: 0.014567124648237046, 3899: 0.0008276775368316504, 3900: 0.007945704353583844, 3901: 0.027975500744909784, 3902: 0.009435523919880813, 3903: 0.016222479721900347, 3904: 0.00016553550736633007, 3905: 0.0029796391325939415, 3906: 0.009932130441979804, 3907: 0.0, 3908: 0.023837113060751532, 3909: 0.019864260883959612, 3910: 0.09236881311041217, 3911: 0.304419798046681, 3912: 0.009269988412514484, 3913: 0.012415163052474755, 3914: 0.025823539149147492, 3915: 0.04651547756993875, 3916: 0.20112564145009104, 3917: 0.1128952160238371, 3918: 0.06306902830657175, 3919: 0.02433371958285052, 3920: 0.02996192683330574, 3921: 0.015063731170336037, 3922: 0.012911769574573746, 3923: 0.03592120509849363, 3924: 0.009435523919880813, 3925: 0.06373117033603708, 3926: 0.08243668266843239, 3927: 0.17546763780830987, 3928: 0.1041218341334216, 3929: 0.08491971527892732, 3930: 0.0979970203608674, 3931: 0.006455884787286873, 3932: 0.1133918225459361, 3933: 0.003972852176791922, 3934: 0.010594272471445124, 3935: 0.009104452905148153, 3936: 0.0627379572918391, 3937: 0.04833636815096838, 3938: 0.005959278265187882, 3939: 0.006290349279920542, 3940: 0.0033107101473266016, 3941: 0.004800529713623572, 3942: 0.005131600728356232, 3943: 0.031782817414335376, 3944: 0.002979639132593941, 3945: 0.008773381890415493, 3946: 0.0269822877007118, 3947: 0.025161397119682172, 3948: 0.36152954808806487, 3949: 0.11968217182585664, 3950: 0.018374441317662638, 3951: 0.018208905810296303, 3952: 0.16189372620427078}\n"
          ]
        }
      ],
      "source": [
        "# Measure the mean of items' ratings\n",
        "items_rating = {}\n",
        "\n",
        "for i in range(ratings_matrix.shape[1]):\n",
        "  items_rating[i] = np.mean(ratings_matrix[:, i])\n",
        "\n",
        "print(items_rating)"
      ]
    },
    {
      "cell_type": "code",
      "execution_count": 24,
      "metadata": {
        "id": "7noHXKLn4h07"
      },
      "outputs": [],
      "source": [
        "# Sorting the itemId descending by its popularity\n",
        "rating_order = OrderedDict(sorted(items_rating.items(), key = operator.itemgetter(1), reverse = True))\n",
        "best_rated = list(rating_order.keys())"
      ]
    },
    {
      "cell_type": "code",
      "execution_count": 25,
      "metadata": {
        "colab": {
          "base_uri": "https://localhost:8080/"
        },
        "id": "W-HLILY-4h08",
        "outputId": "e4f61a2f-701e-437b-d6bf-48ff7e9acdfb"
      },
      "outputs": [
        {
          "output_type": "execute_result",
          "data": {
            "text/plain": [
              "[2858, 260, 1196, 1210, 2028, 1198, 2571, 593, 589, 608]"
            ]
          },
          "metadata": {},
          "execution_count": 25
        }
      ],
      "source": [
        "best_rated[:10]"
      ]
    },
    {
      "cell_type": "code",
      "execution_count": 26,
      "metadata": {
        "id": "dtSAbIje4h08"
      },
      "outputs": [],
      "source": [
        "# Setting the recommendations of items that have not be rated by the user\n",
        "recommendation = {}\n",
        "\n",
        "for u in range(ratings_matrix.shape[0]):\n",
        "    # recommending just the most popular\n",
        "    recommendation[u] = []\n",
        "    cont = 0\n",
        "    # recommending the most popular that have never seen by users\n",
        "    for i in best_rated:\n",
        "        # recommending the top-k items\n",
        "        if (cont < top_k):\n",
        "            if (cont < top_k):\n",
        "              if (ratings_matrix[u, i] == 0):\n",
        "                  recommendation[u].append(i)\n",
        "                  cont += 1\n",
        "        else:\n",
        "            break"
      ]
    },
    {
      "cell_type": "code",
      "execution_count": 27,
      "metadata": {
        "id": "oClMh3B64h08"
      },
      "outputs": [],
      "source": [
        "# Save in a file\n",
        "users_targets = df_test['userId'].unique()\n",
        "dumpRecommendation(recommendation, users_targets, \"recList_BestRated.txt\")"
      ]
    },
    {
      "cell_type": "code",
      "execution_count": 28,
      "metadata": {
        "colab": {
          "base_uri": "https://localhost:8080/"
        },
        "id": "sZF2OS-p4h08",
        "outputId": "833998f7-c9f8-4185-e17c-95e5ede8fff4"
      },
      "outputs": [
        {
          "output_type": "execute_result",
          "data": {
            "text/plain": [
              "[260, 1210, 2571, 527, 480, 1580, 2997, 1265, 296, 1097]"
            ]
          },
          "metadata": {},
          "execution_count": 28
        },
        {
          "output_type": "execute_result",
          "data": {
            "text/plain": [
              "[2028, 593, 608, 527, 110, 858, 318, 2762, 2396, 1617]"
            ]
          },
          "metadata": {},
          "execution_count": 28
        },
        {
          "output_type": "execute_result",
          "data": {
            "text/plain": [
              "[2858, 2571, 593, 589, 608, 318, 480, 2762, 2396, 1617]"
            ]
          },
          "metadata": {},
          "execution_count": 28
        }
      ],
      "source": [
        "recommendation[300]\n",
        "recommendation[3000]\n",
        "recommendation[6010]"
      ]
    },
    {
      "cell_type": "code",
      "source": [],
      "metadata": {
        "id": "VFo_FD5DT6P5"
      },
      "execution_count": null,
      "outputs": []
    }
  ],
  "metadata": {
    "kernelspec": {
      "display_name": "Python 3",
      "language": "python",
      "name": "python3"
    },
    "language_info": {
      "codemirror_mode": {
        "name": "ipython",
        "version": 3
      },
      "file_extension": ".py",
      "mimetype": "text/x-python",
      "name": "python",
      "nbconvert_exporter": "python",
      "pygments_lexer": "ipython3",
      "version": "3.6.9"
    },
    "colab": {
      "provenance": []
    }
  },
  "nbformat": 4,
  "nbformat_minor": 0
}